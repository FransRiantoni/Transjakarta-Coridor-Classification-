{
  "nbformat": 4,
  "nbformat_minor": 0,
  "metadata": {
    "colab": {
      "name": "AXGEO_V1.ipynb",
      "provenance": [],
      "collapsed_sections": [],
      "toc_visible": true
    },
    "kernelspec": {
      "name": "python3",
      "display_name": "Python 3"
    },
    "language_info": {
      "name": "python"
    }
  },
  "cells": [
    {
      "cell_type": "markdown",
      "metadata": {
        "id": "S6muoV0qm50m"
      },
      "source": [
        "# Import Libraries"
      ]
    },
    {
      "cell_type": "code",
      "metadata": {
        "id": "wJf3YXoX3FT9",
        "colab": {
          "base_uri": "https://localhost:8080/"
        },
        "outputId": "f5a82c9e-1923-40b7-bf3c-8234f2e54b8f"
      },
      "source": [
        "import pandas as pd\n",
        "import matplotlib.pyplot as plt\n",
        "import seaborn as sns\n",
        "\n",
        "from sklearn.preprocessing import MinMaxScaler, StandardScaler\n",
        "from sklearn.cluster import KMeans\n",
        "from sklearn import metrics\n",
        "from yellowbrick.cluster import SilhouetteVisualizer\n",
        "from sklearn.metrics import pairwise_distances\n",
        "\n"
      ],
      "execution_count": null,
      "outputs": [
        {
          "output_type": "stream",
          "name": "stderr",
          "text": [
            "/usr/local/lib/python3.7/dist-packages/sklearn/utils/deprecation.py:144: FutureWarning: The sklearn.metrics.classification module is  deprecated in version 0.22 and will be removed in version 0.24. The corresponding classes / functions should instead be imported from sklearn.metrics. Anything that cannot be imported from sklearn.metrics is now part of the private API.\n",
            "  warnings.warn(message, FutureWarning)\n"
          ]
        }
      ]
    },
    {
      "cell_type": "markdown",
      "metadata": {
        "id": "JRP5T_QBkKbA"
      },
      "source": [
        "# Data Penumpang Trans Jakarta"
      ]
    },
    {
      "cell_type": "code",
      "metadata": {
        "colab": {
          "base_uri": "https://localhost:8080/"
        },
        "id": "ZazlBYDBJ0oM",
        "outputId": "8dd97271-d256-4400-ef3d-8cd447fff91b"
      },
      "source": [
        "from google.colab import drive\n",
        "drive.mount('/content/drive')"
      ],
      "execution_count": null,
      "outputs": [
        {
          "output_type": "stream",
          "name": "stdout",
          "text": [
            "Mounted at /content/drive\n"
          ]
        }
      ]
    },
    {
      "cell_type": "code",
      "metadata": {
        "id": "SBgxK0D-kGT_"
      },
      "source": [
        "data_1 = pd.read_csv(r'/content/drive/MyDrive/Colab Notebooks/We_are_the_Champion/Umum_AXGEO_Team/Dataset Panitia (Transportasi)/data-penumpang-bus-transjakarta-januari-2019.csv')"
      ],
      "execution_count": null,
      "outputs": []
    },
    {
      "cell_type": "code",
      "metadata": {
        "id": "raPP8OTUlOA_"
      },
      "source": [
        "data_2 = pd.read_csv(r'/content/drive/MyDrive/Colab Notebooks/We_are_the_Champion/Umum_AXGEO_Team/Dataset Panitia (Transportasi)/data-penumpang-bus-transjakarta-februari-2019.csv')"
      ],
      "execution_count": null,
      "outputs": []
    },
    {
      "cell_type": "code",
      "metadata": {
        "id": "IYqkEx69lN-Q"
      },
      "source": [
        "data_3 = pd.read_csv(r'/content/drive/MyDrive/Colab Notebooks/We_are_the_Champion/Umum_AXGEO_Team/Dataset Panitia (Transportasi)/data-penumpang-bus-transjakarta-maret-2019.csv')"
      ],
      "execution_count": null,
      "outputs": []
    },
    {
      "cell_type": "code",
      "metadata": {
        "id": "NYC18WrHlN3a"
      },
      "source": [
        "data_4 = pd.read_csv(r'/content/drive/MyDrive/Colab Notebooks/We_are_the_Champion/Umum_AXGEO_Team/Dataset Panitia (Transportasi)/data-penumpang-bus-transjakarta-april-2019.csv')"
      ],
      "execution_count": null,
      "outputs": []
    },
    {
      "cell_type": "code",
      "metadata": {
        "id": "jVoOAZXEn5mf"
      },
      "source": [
        "data_5 = pd.read_csv(r'/content/drive/MyDrive/Colab Notebooks/We_are_the_Champion/Umum_AXGEO_Team/Dataset Panitia (Transportasi)/data-penumpang-bus-transjakarta-mei-2019.csv')"
      ],
      "execution_count": null,
      "outputs": []
    },
    {
      "cell_type": "code",
      "metadata": {
        "id": "qFo6LjbVn5aB"
      },
      "source": [
        "data_6 = pd.read_csv(r'/content/drive/MyDrive/Colab Notebooks/We_are_the_Champion/Umum_AXGEO_Team/Dataset Panitia (Transportasi)/data-penumpang-bus-transjakarta-juni-2019.csv')"
      ],
      "execution_count": null,
      "outputs": []
    },
    {
      "cell_type": "code",
      "metadata": {
        "id": "Rr-iQ92-n5TL"
      },
      "source": [
        "data_7 = pd.read_csv(r'/content/drive/MyDrive/Colab Notebooks/We_are_the_Champion/Umum_AXGEO_Team/Dataset Panitia (Transportasi)/data-penumpang-bus-transjakarta-juli-2019.csv')"
      ],
      "execution_count": null,
      "outputs": []
    },
    {
      "cell_type": "code",
      "metadata": {
        "id": "MmWYmkEvn5Kb"
      },
      "source": [
        "data_8 = pd.read_csv(r'/content/drive/MyDrive/Colab Notebooks/We_are_the_Champion/Umum_AXGEO_Team/Dataset Panitia (Transportasi)/data-penumpang-bus-transjakarta-agustus-2019.csv')"
      ],
      "execution_count": null,
      "outputs": []
    },
    {
      "cell_type": "code",
      "metadata": {
        "id": "mobOgr-8n_qT"
      },
      "source": [
        "data_9 = pd.read_csv(r'/content/drive/MyDrive/Colab Notebooks/We_are_the_Champion/Umum_AXGEO_Team/Dataset Panitia (Transportasi)/data-penumpang-bus-transjakarta-september-2019.csv')"
      ],
      "execution_count": null,
      "outputs": []
    },
    {
      "cell_type": "code",
      "metadata": {
        "id": "WomYUbA3n_fS"
      },
      "source": [
        "data_10 = pd.read_csv(r'/content/drive/MyDrive/Colab Notebooks/We_are_the_Champion/Umum_AXGEO_Team/Dataset Panitia (Transportasi)/data-penumpang-bus-transjakarta-oktober-2019.csv')"
      ],
      "execution_count": null,
      "outputs": []
    },
    {
      "cell_type": "code",
      "metadata": {
        "id": "YR3zMwF4n_TE"
      },
      "source": [
        "data_11 = pd.read_csv(r'/content/drive/MyDrive/Colab Notebooks/We_are_the_Champion/Umum_AXGEO_Team/Dataset Panitia (Transportasi)/data-penumpang-bus-transjakarta-november-2019.csv')"
      ],
      "execution_count": null,
      "outputs": []
    },
    {
      "cell_type": "code",
      "metadata": {
        "id": "TOQjHzhQoK7w"
      },
      "source": [
        "data_12 = pd.read_csv(r'/content/drive/MyDrive/Colab Notebooks/We_are_the_Champion/Umum_AXGEO_Team/Dataset Panitia (Transportasi)/data-penumpang-bus-transjakarta-desember-2019.csv')"
      ],
      "execution_count": null,
      "outputs": []
    },
    {
      "cell_type": "code",
      "metadata": {
        "colab": {
          "base_uri": "https://localhost:8080/",
          "height": 355
        },
        "id": "9UReXmh1lNvv",
        "outputId": "825f1df1-b974-4a2f-af5a-45d17c820b2d"
      },
      "source": [
        "data_1.sample(10)"
      ],
      "execution_count": null,
      "outputs": [
        {
          "output_type": "execute_result",
          "data": {
            "text/html": [
              "<div>\n",
              "<style scoped>\n",
              "    .dataframe tbody tr th:only-of-type {\n",
              "        vertical-align: middle;\n",
              "    }\n",
              "\n",
              "    .dataframe tbody tr th {\n",
              "        vertical-align: top;\n",
              "    }\n",
              "\n",
              "    .dataframe thead th {\n",
              "        text-align: right;\n",
              "    }\n",
              "</style>\n",
              "<table border=\"1\" class=\"dataframe\">\n",
              "  <thead>\n",
              "    <tr style=\"text-align: right;\">\n",
              "      <th></th>\n",
              "      <th>jenis</th>\n",
              "      <th>kode_trayek</th>\n",
              "      <th>trayek</th>\n",
              "      <th>jumlah_penumpang</th>\n",
              "    </tr>\n",
              "  </thead>\n",
              "  <tbody>\n",
              "    <tr>\n",
              "      <th>33</th>\n",
              "      <td>ANGKUTAN UMUM INTEGRASI</td>\n",
              "      <td>6H</td>\n",
              "      <td>LEBAK BULUS - SENEN</td>\n",
              "      <td>117.637</td>\n",
              "    </tr>\n",
              "    <tr>\n",
              "      <th>106</th>\n",
              "      <td>ANGKUTAN INTEGRASI BUS KECIL</td>\n",
              "      <td>JAK-31</td>\n",
              "      <td>BLOK M - PONDOK LABU</td>\n",
              "      <td>97.307</td>\n",
              "    </tr>\n",
              "    <tr>\n",
              "      <th>68</th>\n",
              "      <td>TRANSJABODETABEK</td>\n",
              "      <td>S21</td>\n",
              "      <td>CIPUTAT - TOSARI</td>\n",
              "      <td>142.021</td>\n",
              "    </tr>\n",
              "    <tr>\n",
              "      <th>5</th>\n",
              "      <td>BRT</td>\n",
              "      <td>6</td>\n",
              "      <td>KORIDOR 6</td>\n",
              "      <td>976.411</td>\n",
              "    </tr>\n",
              "    <tr>\n",
              "      <th>3</th>\n",
              "      <td>BRT</td>\n",
              "      <td>4</td>\n",
              "      <td>KORIDOR 4</td>\n",
              "      <td>669.417</td>\n",
              "    </tr>\n",
              "    <tr>\n",
              "      <th>47</th>\n",
              "      <td>ANGKUTAN UMUM INTEGRASI</td>\n",
              "      <td>11A</td>\n",
              "      <td>PULO GEBANG - RAWAMANGUN</td>\n",
              "      <td>12.366</td>\n",
              "    </tr>\n",
              "    <tr>\n",
              "      <th>42</th>\n",
              "      <td>ANGKUTAN UMUM INTEGRASI</td>\n",
              "      <td>8E</td>\n",
              "      <td>BLOK M - BINTARO KODAM</td>\n",
              "      <td>44.576</td>\n",
              "    </tr>\n",
              "    <tr>\n",
              "      <th>87</th>\n",
              "      <td>ANGKUTAN INTEGRASI BUS KECIL</td>\n",
              "      <td>JAK-7</td>\n",
              "      <td>TANAH ABANG-TAWAKAL</td>\n",
              "      <td>78.27</td>\n",
              "    </tr>\n",
              "    <tr>\n",
              "      <th>95</th>\n",
              "      <td>ANGKUTAN INTEGRASI BUS KECIL</td>\n",
              "      <td>JAK-18</td>\n",
              "      <td>KALIBATA - KUNINGAN</td>\n",
              "      <td>33.549</td>\n",
              "    </tr>\n",
              "    <tr>\n",
              "      <th>108</th>\n",
              "      <td>ANGKUTAN INTEGRASI BUS KECIL</td>\n",
              "      <td>JAK-33</td>\n",
              "      <td>PULO GADUNG - KOTA</td>\n",
              "      <td>34.171</td>\n",
              "    </tr>\n",
              "  </tbody>\n",
              "</table>\n",
              "</div>"
            ],
            "text/plain": [
              "                              jenis  ... jumlah_penumpang\n",
              "33          ANGKUTAN UMUM INTEGRASI  ...          117.637\n",
              "106   ANGKUTAN INTEGRASI BUS KECIL   ...           97.307\n",
              "68                 TRANSJABODETABEK  ...          142.021\n",
              "5                               BRT  ...          976.411\n",
              "3                               BRT  ...          669.417\n",
              "47          ANGKUTAN UMUM INTEGRASI  ...           12.366\n",
              "42          ANGKUTAN UMUM INTEGRASI  ...           44.576\n",
              "87    ANGKUTAN INTEGRASI BUS KECIL   ...            78.27\n",
              "95    ANGKUTAN INTEGRASI BUS KECIL   ...           33.549\n",
              "108   ANGKUTAN INTEGRASI BUS KECIL   ...           34.171\n",
              "\n",
              "[10 rows x 4 columns]"
            ]
          },
          "metadata": {},
          "execution_count": 15
        }
      ]
    },
    {
      "cell_type": "code",
      "metadata": {
        "colab": {
          "base_uri": "https://localhost:8080/"
        },
        "id": "qddXtxEhlYuU",
        "outputId": "f7c86427-67dd-49b5-ec78-acfbc40e2e3f"
      },
      "source": [
        "data_1['jenis'].unique()"
      ],
      "execution_count": null,
      "outputs": [
        {
          "output_type": "execute_result",
          "data": {
            "text/plain": [
              "array(['BRT', 'ANGKUTAN UMUM INTEGRASI', 'TRANSJABODETABEK',\n",
              "       'ANGKUTAN EKSEKUTIF ROYAL TRANS ', 'ANGKUTAN UMUM LAINNYA ',\n",
              "       ' ANGKUTAN INTEGRASI BUS KECIL ', 'ANGKUTAN WISATA',\n",
              "       'ANGKUTAN UMUM INTEGRASI RUSUN', ' ANGKUTAN UMUM LAINNYA ',\n",
              "       'LAMPIRAN LAYANAN GRATIS BRT'], dtype=object)"
            ]
          },
          "metadata": {},
          "execution_count": 16
        }
      ]
    },
    {
      "cell_type": "code",
      "metadata": {
        "id": "clBcOOeFlYoE"
      },
      "source": [
        "data_1['bulan']=1\n",
        "data_2['bulan']=2\n",
        "data_3['bulan']=3\n",
        "data_4['bulan']=4\n",
        "data_5['bulan']=5\n",
        "data_6['bulan']=6\n",
        "data_7['bulan']=7\n",
        "data_8['bulan']=8\n",
        "data_9['bulan']=9\n",
        "data_10['bulan']=10\n",
        "data_11['bulan']=11\n",
        "data_12['bulan']=12"
      ],
      "execution_count": null,
      "outputs": []
    },
    {
      "cell_type": "code",
      "metadata": {
        "id": "GYkUuxzCs97M"
      },
      "source": [
        "data = data_1.append(data_2).append(data_3).append(data_4).append(data_5).append(data_6).append(data_7).append(data_8).append(data_9).append(data_10).append(data_11).append(data_12)"
      ],
      "execution_count": null,
      "outputs": []
    },
    {
      "cell_type": "code",
      "metadata": {
        "id": "-JTQBzUkm_7r"
      },
      "source": [
        "data.drop(columns='Unnamed: 4',inplace=True)"
      ],
      "execution_count": null,
      "outputs": []
    },
    {
      "cell_type": "code",
      "metadata": {
        "colab": {
          "base_uri": "https://localhost:8080/",
          "height": 662
        },
        "id": "eUv9yhdUm_3o",
        "outputId": "8db16829-a6db-4083-d791-64e0d83b6082"
      },
      "source": [
        "data.sample(20)"
      ],
      "execution_count": null,
      "outputs": [
        {
          "output_type": "execute_result",
          "data": {
            "text/html": [
              "<div>\n",
              "<style scoped>\n",
              "    .dataframe tbody tr th:only-of-type {\n",
              "        vertical-align: middle;\n",
              "    }\n",
              "\n",
              "    .dataframe tbody tr th {\n",
              "        vertical-align: top;\n",
              "    }\n",
              "\n",
              "    .dataframe thead th {\n",
              "        text-align: right;\n",
              "    }\n",
              "</style>\n",
              "<table border=\"1\" class=\"dataframe\">\n",
              "  <thead>\n",
              "    <tr style=\"text-align: right;\">\n",
              "      <th></th>\n",
              "      <th>jenis</th>\n",
              "      <th>kode_trayek</th>\n",
              "      <th>trayek</th>\n",
              "      <th>jumlah_penumpang</th>\n",
              "      <th>bulan</th>\n",
              "    </tr>\n",
              "  </thead>\n",
              "  <tbody>\n",
              "    <tr>\n",
              "      <th>151</th>\n",
              "      <td>LAMPIRAN LAYANAN GRATIS BRT</td>\n",
              "      <td>NaN</td>\n",
              "      <td>GRATIS KTP KEPULAUAN SERIBU</td>\n",
              "      <td>773</td>\n",
              "      <td>1</td>\n",
              "    </tr>\n",
              "    <tr>\n",
              "      <th>174</th>\n",
              "      <td>LAMPIRAN LAYANAN GRATIS BRT</td>\n",
              "      <td>PBS</td>\n",
              "      <td>GRATIS PENERIMA RASKIN</td>\n",
              "      <td>1.415</td>\n",
              "      <td>4</td>\n",
              "    </tr>\n",
              "    <tr>\n",
              "      <th>144</th>\n",
              "      <td>ANGKUTAN INTEGRASI BUS KECIL</td>\n",
              "      <td>JAK-33</td>\n",
              "      <td>PULO GADUNG - KOTA</td>\n",
              "      <td>49.437</td>\n",
              "      <td>6</td>\n",
              "    </tr>\n",
              "    <tr>\n",
              "      <th>16</th>\n",
              "      <td>ANGKUTAN UMUM INTEGRASI</td>\n",
              "      <td>1C</td>\n",
              "      <td>PESANGGRAHAN - BLOK M</td>\n",
              "      <td>64,548</td>\n",
              "      <td>12</td>\n",
              "    </tr>\n",
              "    <tr>\n",
              "      <th>130</th>\n",
              "      <td>ANGKUTAN INTEGRASI BUS KECIL</td>\n",
              "      <td>JAK-10</td>\n",
              "      <td>TANAH ABANG-KOTA</td>\n",
              "      <td>80,575</td>\n",
              "      <td>12</td>\n",
              "    </tr>\n",
              "    <tr>\n",
              "      <th>103</th>\n",
              "      <td>ANGKUTAN UMUM LAINNYA</td>\n",
              "      <td>NaN</td>\n",
              "      <td>TIKET KERTAS GRATIS PLN PADAM (NON BRT)</td>\n",
              "      <td>0</td>\n",
              "      <td>9</td>\n",
              "    </tr>\n",
              "    <tr>\n",
              "      <th>127</th>\n",
              "      <td>ANGKUTAN INTEGRASI BUS KECIL</td>\n",
              "      <td>JAK-7</td>\n",
              "      <td>TANAH ABANG - TAWAKAL</td>\n",
              "      <td>87,101</td>\n",
              "      <td>12</td>\n",
              "    </tr>\n",
              "    <tr>\n",
              "      <th>89</th>\n",
              "      <td>TRANSJABODETABEK</td>\n",
              "      <td>2B</td>\n",
              "      <td>HARAPAN INDAH - ASMI</td>\n",
              "      <td>117,407</td>\n",
              "      <td>12</td>\n",
              "    </tr>\n",
              "    <tr>\n",
              "      <th>59</th>\n",
              "      <td>TRANSJABODETABEK</td>\n",
              "      <td>NaN</td>\n",
              "      <td>PULO GEBANG - LEBAK BULUS</td>\n",
              "      <td>40</td>\n",
              "      <td>5</td>\n",
              "    </tr>\n",
              "    <tr>\n",
              "      <th>100</th>\n",
              "      <td>TRANSJABODETABEK</td>\n",
              "      <td>GR1</td>\n",
              "      <td>BUNDARAN SENAYAN - HARMONI (BUS GRATIS)</td>\n",
              "      <td>285.272</td>\n",
              "      <td>5</td>\n",
              "    </tr>\n",
              "    <tr>\n",
              "      <th>6</th>\n",
              "      <td>BRT</td>\n",
              "      <td>7</td>\n",
              "      <td>KORIDOR 7 (KAMPUNG RAMBUTAN - KAMPUNG MELAYU)</td>\n",
              "      <td>1,109,984</td>\n",
              "      <td>12</td>\n",
              "    </tr>\n",
              "    <tr>\n",
              "      <th>234</th>\n",
              "      <td>LAMPIRAN RINCIAN GRATIS GATE NON BRT</td>\n",
              "      <td>B21</td>\n",
              "      <td>HALTE BULAK KAPAL</td>\n",
              "      <td>1,071</td>\n",
              "      <td>12</td>\n",
              "    </tr>\n",
              "    <tr>\n",
              "      <th>17</th>\n",
              "      <td>ANGKUTAN UMUM INTEGRASI</td>\n",
              "      <td>1E</td>\n",
              "      <td>PONDOK LABU - BLOK M</td>\n",
              "      <td>192.537</td>\n",
              "      <td>11</td>\n",
              "    </tr>\n",
              "    <tr>\n",
              "      <th>122</th>\n",
              "      <td>ANGKUTAN INTEGRASI BUS KECIL</td>\n",
              "      <td>JAK-9</td>\n",
              "      <td>ROXY KARET</td>\n",
              "      <td>2.094</td>\n",
              "      <td>11</td>\n",
              "    </tr>\n",
              "    <tr>\n",
              "      <th>40</th>\n",
              "      <td>ANGKUTAN UMUM INTEGRASI</td>\n",
              "      <td>6M</td>\n",
              "      <td>BLOK M - STASIUN MANGGARAI</td>\n",
              "      <td>85.803</td>\n",
              "      <td>7</td>\n",
              "    </tr>\n",
              "    <tr>\n",
              "      <th>59</th>\n",
              "      <td>ANGKUTAN UMUM INTEGRASI</td>\n",
              "      <td>11T</td>\n",
              "      <td>PULO GEBANG - STASIUN CAKUNG</td>\n",
              "      <td>815</td>\n",
              "      <td>8</td>\n",
              "    </tr>\n",
              "    <tr>\n",
              "      <th>60</th>\n",
              "      <td>ANGKUTAN UMUM INTEGRASI</td>\n",
              "      <td>11U</td>\n",
              "      <td>PULOGEBANG - STASIUN CAKUNG VIA CILINCING</td>\n",
              "      <td>9,824</td>\n",
              "      <td>12</td>\n",
              "    </tr>\n",
              "    <tr>\n",
              "      <th>82</th>\n",
              "      <td>ANGKUTAN INTEGRASI BUS KECIL</td>\n",
              "      <td>JAK-2</td>\n",
              "      <td>DUREN SAWIT - KAMPUNG MELAYU</td>\n",
              "      <td>56.551</td>\n",
              "      <td>1</td>\n",
              "    </tr>\n",
              "    <tr>\n",
              "      <th>9</th>\n",
              "      <td>BRT</td>\n",
              "      <td>10</td>\n",
              "      <td>KORIDOR 10 (PGC 2 - PLUIT)</td>\n",
              "      <td>851.844</td>\n",
              "      <td>10</td>\n",
              "    </tr>\n",
              "    <tr>\n",
              "      <th>22</th>\n",
              "      <td>ANGKUTAN UMUM INTEGRASI</td>\n",
              "      <td>1Q</td>\n",
              "      <td>REMPOA - BLOK M</td>\n",
              "      <td>64.279</td>\n",
              "      <td>7</td>\n",
              "    </tr>\n",
              "  </tbody>\n",
              "</table>\n",
              "</div>"
            ],
            "text/plain": [
              "                                    jenis kode_trayek  ... jumlah_penumpang bulan\n",
              "151           LAMPIRAN LAYANAN GRATIS BRT         NaN  ...              773     1\n",
              "174           LAMPIRAN LAYANAN GRATIS BRT         PBS  ...            1.415     4\n",
              "144         ANGKUTAN INTEGRASI BUS KECIL       JAK-33  ...           49.437     6\n",
              "16                ANGKUTAN UMUM INTEGRASI          1C  ...           64,548    12\n",
              "130         ANGKUTAN INTEGRASI BUS KECIL       JAK-10  ...           80,575    12\n",
              "103                ANGKUTAN UMUM LAINNYA          NaN  ...                0     9\n",
              "127         ANGKUTAN INTEGRASI BUS KECIL        JAK-7  ...           87,101    12\n",
              "89                       TRANSJABODETABEK          2B  ...          117,407    12\n",
              "59                       TRANSJABODETABEK         NaN  ...               40     5\n",
              "100                      TRANSJABODETABEK         GR1  ...          285.272     5\n",
              "6                                     BRT           7  ...        1,109,984    12\n",
              "234  LAMPIRAN RINCIAN GRATIS GATE NON BRT         B21  ...            1,071    12\n",
              "17                ANGKUTAN UMUM INTEGRASI          1E  ...          192.537    11\n",
              "122         ANGKUTAN INTEGRASI BUS KECIL        JAK-9  ...            2.094    11\n",
              "40                ANGKUTAN UMUM INTEGRASI          6M  ...           85.803     7\n",
              "59                ANGKUTAN UMUM INTEGRASI         11T  ...              815     8\n",
              "60                ANGKUTAN UMUM INTEGRASI         11U  ...            9,824    12\n",
              "82          ANGKUTAN INTEGRASI BUS KECIL        JAK-2  ...           56.551     1\n",
              "9                                     BRT          10  ...          851.844    10\n",
              "22                ANGKUTAN UMUM INTEGRASI          1Q  ...           64.279     7\n",
              "\n",
              "[20 rows x 5 columns]"
            ]
          },
          "metadata": {},
          "execution_count": 20
        }
      ]
    },
    {
      "cell_type": "code",
      "metadata": {
        "colab": {
          "base_uri": "https://localhost:8080/"
        },
        "id": "NS-L-L53I-ei",
        "outputId": "eb2cf10c-9eb8-4975-b383-6b4e8bbcb129"
      },
      "source": [
        "data['kode_trayek'].describe()"
      ],
      "execution_count": null,
      "outputs": [
        {
          "output_type": "execute_result",
          "data": {
            "text/plain": [
              "count     2140\n",
              "unique     231\n",
              "top        B12\n",
              "freq        17\n",
              "Name: kode_trayek, dtype: object"
            ]
          },
          "metadata": {},
          "execution_count": 20
        }
      ]
    },
    {
      "cell_type": "code",
      "metadata": {
        "id": "vQ9HTaTII-P-"
      },
      "source": [
        "data_2019 = data[data['kode_trayek'].isin(['1', '2', '3', '4', '5', '6', '7', '8', '9', '10', '11', '12','13'])]"
      ],
      "execution_count": null,
      "outputs": []
    },
    {
      "cell_type": "code",
      "metadata": {
        "id": "Gn-8pyp3SmC6",
        "colab": {
          "base_uri": "https://localhost:8080/",
          "height": 414
        },
        "outputId": "8dca7623-e2d6-4007-a69f-d1b3a7a27b13"
      },
      "source": [
        "data_2019"
      ],
      "execution_count": null,
      "outputs": [
        {
          "output_type": "execute_result",
          "data": {
            "text/html": [
              "<div>\n",
              "<style scoped>\n",
              "    .dataframe tbody tr th:only-of-type {\n",
              "        vertical-align: middle;\n",
              "    }\n",
              "\n",
              "    .dataframe tbody tr th {\n",
              "        vertical-align: top;\n",
              "    }\n",
              "\n",
              "    .dataframe thead th {\n",
              "        text-align: right;\n",
              "    }\n",
              "</style>\n",
              "<table border=\"1\" class=\"dataframe\">\n",
              "  <thead>\n",
              "    <tr style=\"text-align: right;\">\n",
              "      <th></th>\n",
              "      <th>jenis</th>\n",
              "      <th>kode_trayek</th>\n",
              "      <th>trayek</th>\n",
              "      <th>jumlah_penumpang</th>\n",
              "      <th>bulan</th>\n",
              "    </tr>\n",
              "  </thead>\n",
              "  <tbody>\n",
              "    <tr>\n",
              "      <th>0</th>\n",
              "      <td>BRT</td>\n",
              "      <td>1</td>\n",
              "      <td>KORIDOR 1</td>\n",
              "      <td>2.223.257</td>\n",
              "      <td>1</td>\n",
              "    </tr>\n",
              "    <tr>\n",
              "      <th>1</th>\n",
              "      <td>BRT</td>\n",
              "      <td>2</td>\n",
              "      <td>KORIDOR 2</td>\n",
              "      <td>781.605</td>\n",
              "      <td>1</td>\n",
              "    </tr>\n",
              "    <tr>\n",
              "      <th>2</th>\n",
              "      <td>BRT</td>\n",
              "      <td>3</td>\n",
              "      <td>KORIDOR 3</td>\n",
              "      <td>919.2</td>\n",
              "      <td>1</td>\n",
              "    </tr>\n",
              "    <tr>\n",
              "      <th>3</th>\n",
              "      <td>BRT</td>\n",
              "      <td>4</td>\n",
              "      <td>KORIDOR 4</td>\n",
              "      <td>669.417</td>\n",
              "      <td>1</td>\n",
              "    </tr>\n",
              "    <tr>\n",
              "      <th>4</th>\n",
              "      <td>BRT</td>\n",
              "      <td>5</td>\n",
              "      <td>KORIDOR 5</td>\n",
              "      <td>890.939</td>\n",
              "      <td>1</td>\n",
              "    </tr>\n",
              "    <tr>\n",
              "      <th>...</th>\n",
              "      <td>...</td>\n",
              "      <td>...</td>\n",
              "      <td>...</td>\n",
              "      <td>...</td>\n",
              "      <td>...</td>\n",
              "    </tr>\n",
              "    <tr>\n",
              "      <th>8</th>\n",
              "      <td>BRT</td>\n",
              "      <td>9</td>\n",
              "      <td>KORIDOR 9 (PINANG RANTI - PLUIT)</td>\n",
              "      <td>1,562,871</td>\n",
              "      <td>12</td>\n",
              "    </tr>\n",
              "    <tr>\n",
              "      <th>9</th>\n",
              "      <td>BRT</td>\n",
              "      <td>10</td>\n",
              "      <td>KORIDOR 10 (PGC 2 - PLUIT)</td>\n",
              "      <td>872,266</td>\n",
              "      <td>12</td>\n",
              "    </tr>\n",
              "    <tr>\n",
              "      <th>10</th>\n",
              "      <td>BRT</td>\n",
              "      <td>11</td>\n",
              "      <td>KORIDOR 11 (PULOGEBANG - KAMPUNG MELAYU)</td>\n",
              "      <td>367,451</td>\n",
              "      <td>12</td>\n",
              "    </tr>\n",
              "    <tr>\n",
              "      <th>11</th>\n",
              "      <td>BRT</td>\n",
              "      <td>12</td>\n",
              "      <td>KORIDOR 12 (PENJARINGAN - TANJUNG PRIOK)</td>\n",
              "      <td>303,913</td>\n",
              "      <td>12</td>\n",
              "    </tr>\n",
              "    <tr>\n",
              "      <th>12</th>\n",
              "      <td>BRT</td>\n",
              "      <td>13</td>\n",
              "      <td>KORIDOR 13 (CBD CILEDUG - BLOK M)</td>\n",
              "      <td>796,166</td>\n",
              "      <td>12</td>\n",
              "    </tr>\n",
              "  </tbody>\n",
              "</table>\n",
              "<p>156 rows × 5 columns</p>\n",
              "</div>"
            ],
            "text/plain": [
              "   jenis kode_trayek  ... jumlah_penumpang bulan\n",
              "0    BRT           1  ...        2.223.257     1\n",
              "1    BRT           2  ...          781.605     1\n",
              "2    BRT           3  ...            919.2     1\n",
              "3    BRT           4  ...          669.417     1\n",
              "4    BRT           5  ...          890.939     1\n",
              "..   ...         ...  ...              ...   ...\n",
              "8    BRT           9  ...        1,562,871    12\n",
              "9    BRT          10  ...          872,266    12\n",
              "10   BRT          11  ...          367,451    12\n",
              "11   BRT          12  ...          303,913    12\n",
              "12   BRT          13  ...          796,166    12\n",
              "\n",
              "[156 rows x 5 columns]"
            ]
          },
          "metadata": {},
          "execution_count": 22
        }
      ]
    },
    {
      "cell_type": "code",
      "metadata": {
        "colab": {
          "base_uri": "https://localhost:8080/"
        },
        "id": "1STIBDj8vtWN",
        "outputId": "e9f0dd60-7f2d-46f5-cda5-3e17eb2ecb15"
      },
      "source": [
        "data_2019['kode_trayek']=data_2019['kode_trayek'].astype('int64')"
      ],
      "execution_count": null,
      "outputs": [
        {
          "output_type": "stream",
          "name": "stderr",
          "text": [
            "/usr/local/lib/python3.7/dist-packages/ipykernel_launcher.py:1: SettingWithCopyWarning: \n",
            "A value is trying to be set on a copy of a slice from a DataFrame.\n",
            "Try using .loc[row_indexer,col_indexer] = value instead\n",
            "\n",
            "See the caveats in the documentation: https://pandas.pydata.org/pandas-docs/stable/user_guide/indexing.html#returning-a-view-versus-a-copy\n",
            "  \"\"\"Entry point for launching an IPython kernel.\n"
          ]
        }
      ]
    },
    {
      "cell_type": "markdown",
      "metadata": {
        "id": "zJzpQScLrxuL"
      },
      "source": [
        "# Import data trayek"
      ]
    },
    {
      "cell_type": "code",
      "metadata": {
        "id": "R98H3W7L6QuW"
      },
      "source": [
        "trayek = pd.read_csv(r'/content/drive/MyDrive/Colab Notebooks/We_are_the_Champion/Data_additional/prasarana-koridor-busway-xlsx.csv',sep=';')"
      ],
      "execution_count": null,
      "outputs": []
    },
    {
      "cell_type": "code",
      "metadata": {
        "id": "3PLESTgTArgu"
      },
      "source": [
        "trayek['number_koridor']=[1,2,3,4,5,6,7,8,9,10,11,12,13]"
      ],
      "execution_count": null,
      "outputs": []
    },
    {
      "cell_type": "code",
      "metadata": {
        "id": "o2tFoddhLKkn",
        "colab": {
          "base_uri": "https://localhost:8080/",
          "height": 514
        },
        "outputId": "8e4c1bd3-ab43-4af5-967c-070c34bf036c"
      },
      "source": [
        "trayek"
      ],
      "execution_count": null,
      "outputs": [
        {
          "output_type": "execute_result",
          "data": {
            "text/html": [
              "<div>\n",
              "<style scoped>\n",
              "    .dataframe tbody tr th:only-of-type {\n",
              "        vertical-align: middle;\n",
              "    }\n",
              "\n",
              "    .dataframe tbody tr th {\n",
              "        vertical-align: top;\n",
              "    }\n",
              "\n",
              "    .dataframe thead th {\n",
              "        text-align: right;\n",
              "    }\n",
              "</style>\n",
              "<table border=\"1\" class=\"dataframe\">\n",
              "  <thead>\n",
              "    <tr style=\"text-align: right;\">\n",
              "      <th></th>\n",
              "      <th>koridor</th>\n",
              "      <th>panjang_lintasan_km</th>\n",
              "      <th>jumlah_halte</th>\n",
              "      <th>jpo</th>\n",
              "      <th>pelican_(lokasi)</th>\n",
              "      <th>sky_walk_(lokasi)</th>\n",
              "      <th>penghubung</th>\n",
              "      <th>keterangan</th>\n",
              "      <th>number_koridor</th>\n",
              "    </tr>\n",
              "  </thead>\n",
              "  <tbody>\n",
              "    <tr>\n",
              "      <th>0</th>\n",
              "      <td>Blok M - Kota</td>\n",
              "      <td>12.90</td>\n",
              "      <td>14</td>\n",
              "      <td>11</td>\n",
              "      <td>3.0</td>\n",
              "      <td>NaN</td>\n",
              "      <td>NaN</td>\n",
              "      <td>Dibangun Tahun 2003</td>\n",
              "      <td>1</td>\n",
              "    </tr>\n",
              "    <tr>\n",
              "      <th>1</th>\n",
              "      <td>Pulo Gadung - Harmoni</td>\n",
              "      <td>14.30</td>\n",
              "      <td>22</td>\n",
              "      <td>12</td>\n",
              "      <td>10.0</td>\n",
              "      <td>NaN</td>\n",
              "      <td>NaN</td>\n",
              "      <td>Dibangun Tahun 2004 &amp; 2005</td>\n",
              "      <td>2</td>\n",
              "    </tr>\n",
              "    <tr>\n",
              "      <th>2</th>\n",
              "      <td>Kalideres - Harmoni</td>\n",
              "      <td>18.70</td>\n",
              "      <td>13</td>\n",
              "      <td>12</td>\n",
              "      <td>1.0</td>\n",
              "      <td>NaN</td>\n",
              "      <td>NaN</td>\n",
              "      <td>Dibangun Tahun 2004 &amp; 2005</td>\n",
              "      <td>3</td>\n",
              "    </tr>\n",
              "    <tr>\n",
              "      <th>3</th>\n",
              "      <td>Pulo Gadung - Dukuh Atas</td>\n",
              "      <td>11.85</td>\n",
              "      <td>16</td>\n",
              "      <td>10</td>\n",
              "      <td>5.0</td>\n",
              "      <td>2.0</td>\n",
              "      <td>Koridor 1 &amp; 10</td>\n",
              "      <td>Dibangun Tahun 2006</td>\n",
              "      <td>4</td>\n",
              "    </tr>\n",
              "    <tr>\n",
              "      <th>4</th>\n",
              "      <td>Kampung Melayu - Ancol</td>\n",
              "      <td>15.50</td>\n",
              "      <td>17</td>\n",
              "      <td>14</td>\n",
              "      <td>2.0</td>\n",
              "      <td>2.0</td>\n",
              "      <td>Koridor 2 dan 4</td>\n",
              "      <td>Dibangun Tahun 2006</td>\n",
              "      <td>5</td>\n",
              "    </tr>\n",
              "    <tr>\n",
              "      <th>5</th>\n",
              "      <td>Ragunan - Kuningan</td>\n",
              "      <td>13.30</td>\n",
              "      <td>18</td>\n",
              "      <td>15</td>\n",
              "      <td>3.0</td>\n",
              "      <td>NaN</td>\n",
              "      <td>NaN</td>\n",
              "      <td>Dibangun Tahun 2006</td>\n",
              "      <td>6</td>\n",
              "    </tr>\n",
              "    <tr>\n",
              "      <th>6</th>\n",
              "      <td>Kampung Rambutan - Kampung Melayu</td>\n",
              "      <td>12.80</td>\n",
              "      <td>13</td>\n",
              "      <td>9</td>\n",
              "      <td>4.0</td>\n",
              "      <td>NaN</td>\n",
              "      <td>NaN</td>\n",
              "      <td>Dibangun Tahun 2006</td>\n",
              "      <td>7</td>\n",
              "    </tr>\n",
              "    <tr>\n",
              "      <th>7</th>\n",
              "      <td>Lebak Bulus - Harmoni</td>\n",
              "      <td>24.00</td>\n",
              "      <td>19</td>\n",
              "      <td>13</td>\n",
              "      <td>7.0</td>\n",
              "      <td>1.0</td>\n",
              "      <td>Koridor 3 &amp; 9</td>\n",
              "      <td>Dibangun Tahun 2008</td>\n",
              "      <td>8</td>\n",
              "    </tr>\n",
              "    <tr>\n",
              "      <th>8</th>\n",
              "      <td>Pinang Ranti - Pluit</td>\n",
              "      <td>28.45</td>\n",
              "      <td>23</td>\n",
              "      <td>16</td>\n",
              "      <td>7.0</td>\n",
              "      <td>2.0</td>\n",
              "      <td>Koridor 1 &amp; 6</td>\n",
              "      <td>Dibangun Tahun 2008</td>\n",
              "      <td>9</td>\n",
              "    </tr>\n",
              "    <tr>\n",
              "      <th>9</th>\n",
              "      <td>Cililitan - Tanjung Priok</td>\n",
              "      <td>18.00</td>\n",
              "      <td>18</td>\n",
              "      <td>15</td>\n",
              "      <td>3.0</td>\n",
              "      <td>1.0</td>\n",
              "      <td>Koridor 2</td>\n",
              "      <td>Dibangun Tahun 2008</td>\n",
              "      <td>10</td>\n",
              "    </tr>\n",
              "    <tr>\n",
              "      <th>10</th>\n",
              "      <td>Pulo Gebang - Kampung Melayu</td>\n",
              "      <td>11.35</td>\n",
              "      <td>14</td>\n",
              "      <td>14</td>\n",
              "      <td>1.0</td>\n",
              "      <td>2.0</td>\n",
              "      <td>Koridor 5 &amp; 10</td>\n",
              "      <td>Dibangun Tahun 2011</td>\n",
              "      <td>11</td>\n",
              "    </tr>\n",
              "    <tr>\n",
              "      <th>11</th>\n",
              "      <td>Pluit - Tanjung Priok</td>\n",
              "      <td>23.75</td>\n",
              "      <td>13</td>\n",
              "      <td>11</td>\n",
              "      <td>2.0</td>\n",
              "      <td>NaN</td>\n",
              "      <td>NaN</td>\n",
              "      <td>Dibangun Tahun 2012</td>\n",
              "      <td>12</td>\n",
              "    </tr>\n",
              "    <tr>\n",
              "      <th>12</th>\n",
              "      <td>Ekstension Pulo Gadung - Bekasi</td>\n",
              "      <td>16.16</td>\n",
              "      <td>7</td>\n",
              "      <td>7</td>\n",
              "      <td>NaN</td>\n",
              "      <td>NaN</td>\n",
              "      <td>NaN</td>\n",
              "      <td>Dibangun Tahun 2013</td>\n",
              "      <td>13</td>\n",
              "    </tr>\n",
              "  </tbody>\n",
              "</table>\n",
              "</div>"
            ],
            "text/plain": [
              "                              koridor  ...  number_koridor\n",
              "0                       Blok M - Kota  ...               1\n",
              "1               Pulo Gadung - Harmoni  ...               2\n",
              "2                 Kalideres - Harmoni  ...               3\n",
              "3            Pulo Gadung - Dukuh Atas  ...               4\n",
              "4              Kampung Melayu - Ancol  ...               5\n",
              "5                  Ragunan - Kuningan  ...               6\n",
              "6   Kampung Rambutan - Kampung Melayu  ...               7\n",
              "7               Lebak Bulus - Harmoni  ...               8\n",
              "8                Pinang Ranti - Pluit  ...               9\n",
              "9           Cililitan - Tanjung Priok  ...              10\n",
              "10       Pulo Gebang - Kampung Melayu  ...              11\n",
              "11              Pluit - Tanjung Priok  ...              12\n",
              "12    Ekstension Pulo Gadung - Bekasi  ...              13\n",
              "\n",
              "[13 rows x 9 columns]"
            ]
          },
          "metadata": {},
          "execution_count": 26
        }
      ]
    },
    {
      "cell_type": "code",
      "metadata": {
        "id": "MQZOVJFlLKZ4"
      },
      "source": [
        "data_2019 = data_2019.merge(trayek,how='inner',left_on='kode_trayek',right_on='number_koridor')"
      ],
      "execution_count": null,
      "outputs": []
    },
    {
      "cell_type": "code",
      "metadata": {
        "colab": {
          "base_uri": "https://localhost:8080/",
          "height": 917
        },
        "id": "ETBzhJRlwoYB",
        "outputId": "232e5c81-6ce9-43c2-c545-e6b61cc81fed"
      },
      "source": [
        "data_2019"
      ],
      "execution_count": null,
      "outputs": [
        {
          "output_type": "execute_result",
          "data": {
            "text/html": [
              "<div>\n",
              "<style scoped>\n",
              "    .dataframe tbody tr th:only-of-type {\n",
              "        vertical-align: middle;\n",
              "    }\n",
              "\n",
              "    .dataframe tbody tr th {\n",
              "        vertical-align: top;\n",
              "    }\n",
              "\n",
              "    .dataframe thead th {\n",
              "        text-align: right;\n",
              "    }\n",
              "</style>\n",
              "<table border=\"1\" class=\"dataframe\">\n",
              "  <thead>\n",
              "    <tr style=\"text-align: right;\">\n",
              "      <th></th>\n",
              "      <th>jenis</th>\n",
              "      <th>kode_trayek</th>\n",
              "      <th>trayek</th>\n",
              "      <th>jumlah_penumpang</th>\n",
              "      <th>bulan</th>\n",
              "      <th>koridor</th>\n",
              "      <th>panjang_lintasan_km</th>\n",
              "      <th>jumlah_halte</th>\n",
              "      <th>jpo</th>\n",
              "      <th>pelican_(lokasi)</th>\n",
              "      <th>sky_walk_(lokasi)</th>\n",
              "      <th>penghubung</th>\n",
              "      <th>keterangan</th>\n",
              "      <th>number_koridor</th>\n",
              "    </tr>\n",
              "  </thead>\n",
              "  <tbody>\n",
              "    <tr>\n",
              "      <th>0</th>\n",
              "      <td>BRT</td>\n",
              "      <td>1</td>\n",
              "      <td>KORIDOR 1</td>\n",
              "      <td>2.223.257</td>\n",
              "      <td>1</td>\n",
              "      <td>Blok M - Kota</td>\n",
              "      <td>12.90</td>\n",
              "      <td>14</td>\n",
              "      <td>11</td>\n",
              "      <td>3.0</td>\n",
              "      <td>NaN</td>\n",
              "      <td>NaN</td>\n",
              "      <td>Dibangun Tahun 2003</td>\n",
              "      <td>1</td>\n",
              "    </tr>\n",
              "    <tr>\n",
              "      <th>1</th>\n",
              "      <td>BRT</td>\n",
              "      <td>1</td>\n",
              "      <td>KORIDOR 1</td>\n",
              "      <td>1.992.685</td>\n",
              "      <td>2</td>\n",
              "      <td>Blok M - Kota</td>\n",
              "      <td>12.90</td>\n",
              "      <td>14</td>\n",
              "      <td>11</td>\n",
              "      <td>3.0</td>\n",
              "      <td>NaN</td>\n",
              "      <td>NaN</td>\n",
              "      <td>Dibangun Tahun 2003</td>\n",
              "      <td>1</td>\n",
              "    </tr>\n",
              "    <tr>\n",
              "      <th>2</th>\n",
              "      <td>BRT</td>\n",
              "      <td>1</td>\n",
              "      <td>KORIDOR 1</td>\n",
              "      <td>2.334.201</td>\n",
              "      <td>3</td>\n",
              "      <td>Blok M - Kota</td>\n",
              "      <td>12.90</td>\n",
              "      <td>14</td>\n",
              "      <td>11</td>\n",
              "      <td>3.0</td>\n",
              "      <td>NaN</td>\n",
              "      <td>NaN</td>\n",
              "      <td>Dibangun Tahun 2003</td>\n",
              "      <td>1</td>\n",
              "    </tr>\n",
              "    <tr>\n",
              "      <th>3</th>\n",
              "      <td>BRT</td>\n",
              "      <td>1</td>\n",
              "      <td>KORIDOR 1 (BLOK M - KOTA)</td>\n",
              "      <td>2.207.527</td>\n",
              "      <td>4</td>\n",
              "      <td>Blok M - Kota</td>\n",
              "      <td>12.90</td>\n",
              "      <td>14</td>\n",
              "      <td>11</td>\n",
              "      <td>3.0</td>\n",
              "      <td>NaN</td>\n",
              "      <td>NaN</td>\n",
              "      <td>Dibangun Tahun 2003</td>\n",
              "      <td>1</td>\n",
              "    </tr>\n",
              "    <tr>\n",
              "      <th>4</th>\n",
              "      <td>BRT</td>\n",
              "      <td>1</td>\n",
              "      <td>KORIDOR 1 (BLOK M - KOTA)</td>\n",
              "      <td>2.031.443</td>\n",
              "      <td>5</td>\n",
              "      <td>Blok M - Kota</td>\n",
              "      <td>12.90</td>\n",
              "      <td>14</td>\n",
              "      <td>11</td>\n",
              "      <td>3.0</td>\n",
              "      <td>NaN</td>\n",
              "      <td>NaN</td>\n",
              "      <td>Dibangun Tahun 2003</td>\n",
              "      <td>1</td>\n",
              "    </tr>\n",
              "    <tr>\n",
              "      <th>...</th>\n",
              "      <td>...</td>\n",
              "      <td>...</td>\n",
              "      <td>...</td>\n",
              "      <td>...</td>\n",
              "      <td>...</td>\n",
              "      <td>...</td>\n",
              "      <td>...</td>\n",
              "      <td>...</td>\n",
              "      <td>...</td>\n",
              "      <td>...</td>\n",
              "      <td>...</td>\n",
              "      <td>...</td>\n",
              "      <td>...</td>\n",
              "      <td>...</td>\n",
              "    </tr>\n",
              "    <tr>\n",
              "      <th>151</th>\n",
              "      <td>BRT</td>\n",
              "      <td>13</td>\n",
              "      <td>KORIDOR 13 (CBD CILEDUG - BLOK M)</td>\n",
              "      <td>754.331</td>\n",
              "      <td>8</td>\n",
              "      <td>Ekstension Pulo Gadung - Bekasi</td>\n",
              "      <td>16.16</td>\n",
              "      <td>7</td>\n",
              "      <td>7</td>\n",
              "      <td>NaN</td>\n",
              "      <td>NaN</td>\n",
              "      <td>NaN</td>\n",
              "      <td>Dibangun Tahun 2013</td>\n",
              "      <td>13</td>\n",
              "    </tr>\n",
              "    <tr>\n",
              "      <th>152</th>\n",
              "      <td>BRT</td>\n",
              "      <td>13</td>\n",
              "      <td>KORIDOR 13 (CBD CILEDUG - BLOK M)</td>\n",
              "      <td>783.995</td>\n",
              "      <td>9</td>\n",
              "      <td>Ekstension Pulo Gadung - Bekasi</td>\n",
              "      <td>16.16</td>\n",
              "      <td>7</td>\n",
              "      <td>7</td>\n",
              "      <td>NaN</td>\n",
              "      <td>NaN</td>\n",
              "      <td>NaN</td>\n",
              "      <td>Dibangun Tahun 2013</td>\n",
              "      <td>13</td>\n",
              "    </tr>\n",
              "    <tr>\n",
              "      <th>153</th>\n",
              "      <td>BRT</td>\n",
              "      <td>13</td>\n",
              "      <td>KORIDOR 13 (CBD CILEDUG - BLOK M)</td>\n",
              "      <td>783.995</td>\n",
              "      <td>10</td>\n",
              "      <td>Ekstension Pulo Gadung - Bekasi</td>\n",
              "      <td>16.16</td>\n",
              "      <td>7</td>\n",
              "      <td>7</td>\n",
              "      <td>NaN</td>\n",
              "      <td>NaN</td>\n",
              "      <td>NaN</td>\n",
              "      <td>Dibangun Tahun 2013</td>\n",
              "      <td>13</td>\n",
              "    </tr>\n",
              "    <tr>\n",
              "      <th>154</th>\n",
              "      <td>BRT</td>\n",
              "      <td>13</td>\n",
              "      <td>KORIDOR 13 (CBD CILEDUG - BLOK M)</td>\n",
              "      <td>846.227</td>\n",
              "      <td>11</td>\n",
              "      <td>Ekstension Pulo Gadung - Bekasi</td>\n",
              "      <td>16.16</td>\n",
              "      <td>7</td>\n",
              "      <td>7</td>\n",
              "      <td>NaN</td>\n",
              "      <td>NaN</td>\n",
              "      <td>NaN</td>\n",
              "      <td>Dibangun Tahun 2013</td>\n",
              "      <td>13</td>\n",
              "    </tr>\n",
              "    <tr>\n",
              "      <th>155</th>\n",
              "      <td>BRT</td>\n",
              "      <td>13</td>\n",
              "      <td>KORIDOR 13 (CBD CILEDUG - BLOK M)</td>\n",
              "      <td>796,166</td>\n",
              "      <td>12</td>\n",
              "      <td>Ekstension Pulo Gadung - Bekasi</td>\n",
              "      <td>16.16</td>\n",
              "      <td>7</td>\n",
              "      <td>7</td>\n",
              "      <td>NaN</td>\n",
              "      <td>NaN</td>\n",
              "      <td>NaN</td>\n",
              "      <td>Dibangun Tahun 2013</td>\n",
              "      <td>13</td>\n",
              "    </tr>\n",
              "  </tbody>\n",
              "</table>\n",
              "<p>156 rows × 14 columns</p>\n",
              "</div>"
            ],
            "text/plain": [
              "    jenis  kode_trayek  ...           keterangan number_koridor\n",
              "0     BRT            1  ...  Dibangun Tahun 2003              1\n",
              "1     BRT            1  ...  Dibangun Tahun 2003              1\n",
              "2     BRT            1  ...  Dibangun Tahun 2003              1\n",
              "3     BRT            1  ...  Dibangun Tahun 2003              1\n",
              "4     BRT            1  ...  Dibangun Tahun 2003              1\n",
              "..    ...          ...  ...                  ...            ...\n",
              "151   BRT           13  ...  Dibangun Tahun 2013             13\n",
              "152   BRT           13  ...  Dibangun Tahun 2013             13\n",
              "153   BRT           13  ...  Dibangun Tahun 2013             13\n",
              "154   BRT           13  ...  Dibangun Tahun 2013             13\n",
              "155   BRT           13  ...  Dibangun Tahun 2013             13\n",
              "\n",
              "[156 rows x 14 columns]"
            ]
          },
          "metadata": {},
          "execution_count": 28
        }
      ]
    },
    {
      "cell_type": "markdown",
      "metadata": {
        "id": "vSY6UFtOwN-9"
      },
      "source": [
        "# import data operasional transjakarta"
      ]
    },
    {
      "cell_type": "code",
      "metadata": {
        "id": "0Zk8J79EwLny"
      },
      "source": [
        "data_operasi = pd.read_csv(r'/content/drive/MyDrive/Colab Notebooks/We_are_the_Champion/Data_additional/data-operasional-busway.csv',sep=';')"
      ],
      "execution_count": null,
      "outputs": []
    },
    {
      "cell_type": "code",
      "metadata": {
        "id": "OkJBjo4-92be"
      },
      "source": [
        "data_operasi['number_koridor']=[1,2,3,4,5,6,7,8,9,10,11,12,13]"
      ],
      "execution_count": null,
      "outputs": []
    },
    {
      "cell_type": "code",
      "metadata": {
        "colab": {
          "base_uri": "https://localhost:8080/",
          "height": 497
        },
        "id": "154DUmzMwLfy",
        "outputId": "8ff4f219-0111-4c74-f949-912b1d79e775"
      },
      "source": [
        "data_operasi"
      ],
      "execution_count": null,
      "outputs": [
        {
          "output_type": "execute_result",
          "data": {
            "text/html": [
              "<div>\n",
              "<style scoped>\n",
              "    .dataframe tbody tr th:only-of-type {\n",
              "        vertical-align: middle;\n",
              "    }\n",
              "\n",
              "    .dataframe tbody tr th {\n",
              "        vertical-align: top;\n",
              "    }\n",
              "\n",
              "    .dataframe thead th {\n",
              "        text-align: right;\n",
              "    }\n",
              "</style>\n",
              "<table border=\"1\" class=\"dataframe\">\n",
              "  <thead>\n",
              "    <tr style=\"text-align: right;\">\n",
              "      <th></th>\n",
              "      <th>koridor</th>\n",
              "      <th>jumlah_halte</th>\n",
              "      <th>panjang_lintasan</th>\n",
              "      <th>Jarak_rata_rata_antar_ halte</th>\n",
              "      <th>Waktu_tempuh_(one way)_rata_rata</th>\n",
              "      <th>Kecepatan_operasional_maks</th>\n",
              "      <th>number_koridor</th>\n",
              "    </tr>\n",
              "  </thead>\n",
              "  <tbody>\n",
              "    <tr>\n",
              "      <th>0</th>\n",
              "      <td>Blok M - Kota</td>\n",
              "      <td>14</td>\n",
              "      <td>12.90</td>\n",
              "      <td>650 m</td>\n",
              "      <td>90 Menit</td>\n",
              "      <td>60 Km/Jam</td>\n",
              "      <td>1</td>\n",
              "    </tr>\n",
              "    <tr>\n",
              "      <th>1</th>\n",
              "      <td>Pulo Gadung - Harmoni</td>\n",
              "      <td>22</td>\n",
              "      <td>14.30</td>\n",
              "      <td>700 - 800 m</td>\n",
              "      <td>90 Menit</td>\n",
              "      <td>60 Km/Jam</td>\n",
              "      <td>2</td>\n",
              "    </tr>\n",
              "    <tr>\n",
              "      <th>2</th>\n",
              "      <td>Kalideres - Harmoni</td>\n",
              "      <td>13</td>\n",
              "      <td>18.70</td>\n",
              "      <td>700 - 800 m</td>\n",
              "      <td>90 Menit</td>\n",
              "      <td>60 Km/Jam</td>\n",
              "      <td>3</td>\n",
              "    </tr>\n",
              "    <tr>\n",
              "      <th>3</th>\n",
              "      <td>Pulo Gadung - Dukuh Atas</td>\n",
              "      <td>16</td>\n",
              "      <td>11.85</td>\n",
              "      <td>700 - 800 m</td>\n",
              "      <td>90 Menit</td>\n",
              "      <td>60 Km/Jam</td>\n",
              "      <td>4</td>\n",
              "    </tr>\n",
              "    <tr>\n",
              "      <th>4</th>\n",
              "      <td>Kampung Melayu - Ancol</td>\n",
              "      <td>17</td>\n",
              "      <td>15.50</td>\n",
              "      <td>450 - 2.250 m</td>\n",
              "      <td>90 Menit</td>\n",
              "      <td>60 Km/Jam</td>\n",
              "      <td>5</td>\n",
              "    </tr>\n",
              "    <tr>\n",
              "      <th>5</th>\n",
              "      <td>Ragunan - Kuningan</td>\n",
              "      <td>18</td>\n",
              "      <td>13.30</td>\n",
              "      <td>700 - 800 m</td>\n",
              "      <td>90 Menit</td>\n",
              "      <td>60 Km/Jam</td>\n",
              "      <td>6</td>\n",
              "    </tr>\n",
              "    <tr>\n",
              "      <th>6</th>\n",
              "      <td>Kampung Rambutan - Kampung Melayu</td>\n",
              "      <td>13</td>\n",
              "      <td>12.80</td>\n",
              "      <td>500 - 1.500 m</td>\n",
              "      <td>100 Menit</td>\n",
              "      <td>60 Km/Jam</td>\n",
              "      <td>7</td>\n",
              "    </tr>\n",
              "    <tr>\n",
              "      <th>7</th>\n",
              "      <td>Lebak Bulus - Harmoni</td>\n",
              "      <td>19</td>\n",
              "      <td>24.00</td>\n",
              "      <td>500 - 1.500 m</td>\n",
              "      <td>120 Menit</td>\n",
              "      <td>60 Km/Jam</td>\n",
              "      <td>8</td>\n",
              "    </tr>\n",
              "    <tr>\n",
              "      <th>8</th>\n",
              "      <td>Pinang Ranti - Pluit</td>\n",
              "      <td>23</td>\n",
              "      <td>28.45</td>\n",
              "      <td>500 - 1.500 m</td>\n",
              "      <td>190 Menit</td>\n",
              "      <td>60 Km/Jam</td>\n",
              "      <td>9</td>\n",
              "    </tr>\n",
              "    <tr>\n",
              "      <th>9</th>\n",
              "      <td>Cililitan - Tanjung Priok</td>\n",
              "      <td>18</td>\n",
              "      <td>18.00</td>\n",
              "      <td>500 - 1.500 m</td>\n",
              "      <td>110 Menit</td>\n",
              "      <td>60 Km/Jam</td>\n",
              "      <td>10</td>\n",
              "    </tr>\n",
              "    <tr>\n",
              "      <th>10</th>\n",
              "      <td>Pulo Gebang - Kampung Melayu</td>\n",
              "      <td>14</td>\n",
              "      <td>11.35</td>\n",
              "      <td>360 - 1.250 m</td>\n",
              "      <td>130 Menit</td>\n",
              "      <td>60 Km/Jam</td>\n",
              "      <td>11</td>\n",
              "    </tr>\n",
              "    <tr>\n",
              "      <th>11</th>\n",
              "      <td>Pluit - Tanjung Priok</td>\n",
              "      <td>13</td>\n",
              "      <td>23.75</td>\n",
              "      <td>450 - 3.178 m</td>\n",
              "      <td>240 Menit</td>\n",
              "      <td>60 Km/Jam</td>\n",
              "      <td>12</td>\n",
              "    </tr>\n",
              "    <tr>\n",
              "      <th>12</th>\n",
              "      <td>Pulo Gadung - Bekasi (Koridor Ekstension)</td>\n",
              "      <td>7</td>\n",
              "      <td>16.16</td>\n",
              "      <td>690 - 1200 m</td>\n",
              "      <td>-</td>\n",
              "      <td>-</td>\n",
              "      <td>13</td>\n",
              "    </tr>\n",
              "  </tbody>\n",
              "</table>\n",
              "</div>"
            ],
            "text/plain": [
              "                                      koridor  ...  number_koridor\n",
              "0                               Blok M - Kota  ...               1\n",
              "1                       Pulo Gadung - Harmoni  ...               2\n",
              "2                         Kalideres - Harmoni  ...               3\n",
              "3                    Pulo Gadung - Dukuh Atas  ...               4\n",
              "4                      Kampung Melayu - Ancol  ...               5\n",
              "5                          Ragunan - Kuningan  ...               6\n",
              "6           Kampung Rambutan - Kampung Melayu  ...               7\n",
              "7                       Lebak Bulus - Harmoni  ...               8\n",
              "8                        Pinang Ranti - Pluit  ...               9\n",
              "9                   Cililitan - Tanjung Priok  ...              10\n",
              "10               Pulo Gebang - Kampung Melayu  ...              11\n",
              "11                      Pluit - Tanjung Priok  ...              12\n",
              "12  Pulo Gadung - Bekasi (Koridor Ekstension)  ...              13\n",
              "\n",
              "[13 rows x 7 columns]"
            ]
          },
          "metadata": {},
          "execution_count": 31
        }
      ]
    },
    {
      "cell_type": "code",
      "metadata": {
        "id": "7wYiJtsnxQ4v"
      },
      "source": [
        "data_2019 = data_2019.merge(data_operasi,how='inner',on='number_koridor')"
      ],
      "execution_count": null,
      "outputs": []
    },
    {
      "cell_type": "code",
      "metadata": {
        "colab": {
          "base_uri": "https://localhost:8080/",
          "height": 934
        },
        "id": "qp8KRyS_xa_M",
        "outputId": "5ab21748-c995-49f6-c433-dc136bf925e6"
      },
      "source": [
        "data_2019"
      ],
      "execution_count": null,
      "outputs": [
        {
          "output_type": "execute_result",
          "data": {
            "text/html": [
              "<div>\n",
              "<style scoped>\n",
              "    .dataframe tbody tr th:only-of-type {\n",
              "        vertical-align: middle;\n",
              "    }\n",
              "\n",
              "    .dataframe tbody tr th {\n",
              "        vertical-align: top;\n",
              "    }\n",
              "\n",
              "    .dataframe thead th {\n",
              "        text-align: right;\n",
              "    }\n",
              "</style>\n",
              "<table border=\"1\" class=\"dataframe\">\n",
              "  <thead>\n",
              "    <tr style=\"text-align: right;\">\n",
              "      <th></th>\n",
              "      <th>jenis</th>\n",
              "      <th>kode_trayek</th>\n",
              "      <th>trayek</th>\n",
              "      <th>jumlah_penumpang</th>\n",
              "      <th>bulan</th>\n",
              "      <th>koridor_x</th>\n",
              "      <th>panjang_lintasan_km</th>\n",
              "      <th>jumlah_halte_x</th>\n",
              "      <th>jpo</th>\n",
              "      <th>pelican_(lokasi)</th>\n",
              "      <th>sky_walk_(lokasi)</th>\n",
              "      <th>penghubung</th>\n",
              "      <th>keterangan</th>\n",
              "      <th>number_koridor</th>\n",
              "      <th>koridor_y</th>\n",
              "      <th>jumlah_halte_y</th>\n",
              "      <th>panjang_lintasan</th>\n",
              "      <th>Jarak_rata_rata_antar_ halte</th>\n",
              "      <th>Waktu_tempuh_(one way)_rata_rata</th>\n",
              "      <th>Kecepatan_operasional_maks</th>\n",
              "    </tr>\n",
              "  </thead>\n",
              "  <tbody>\n",
              "    <tr>\n",
              "      <th>0</th>\n",
              "      <td>BRT</td>\n",
              "      <td>1</td>\n",
              "      <td>KORIDOR 1</td>\n",
              "      <td>2.223.257</td>\n",
              "      <td>1</td>\n",
              "      <td>Blok M - Kota</td>\n",
              "      <td>12.90</td>\n",
              "      <td>14</td>\n",
              "      <td>11</td>\n",
              "      <td>3.0</td>\n",
              "      <td>NaN</td>\n",
              "      <td>NaN</td>\n",
              "      <td>Dibangun Tahun 2003</td>\n",
              "      <td>1</td>\n",
              "      <td>Blok M - Kota</td>\n",
              "      <td>14</td>\n",
              "      <td>12.90</td>\n",
              "      <td>650 m</td>\n",
              "      <td>90 Menit</td>\n",
              "      <td>60 Km/Jam</td>\n",
              "    </tr>\n",
              "    <tr>\n",
              "      <th>1</th>\n",
              "      <td>BRT</td>\n",
              "      <td>1</td>\n",
              "      <td>KORIDOR 1</td>\n",
              "      <td>1.992.685</td>\n",
              "      <td>2</td>\n",
              "      <td>Blok M - Kota</td>\n",
              "      <td>12.90</td>\n",
              "      <td>14</td>\n",
              "      <td>11</td>\n",
              "      <td>3.0</td>\n",
              "      <td>NaN</td>\n",
              "      <td>NaN</td>\n",
              "      <td>Dibangun Tahun 2003</td>\n",
              "      <td>1</td>\n",
              "      <td>Blok M - Kota</td>\n",
              "      <td>14</td>\n",
              "      <td>12.90</td>\n",
              "      <td>650 m</td>\n",
              "      <td>90 Menit</td>\n",
              "      <td>60 Km/Jam</td>\n",
              "    </tr>\n",
              "    <tr>\n",
              "      <th>2</th>\n",
              "      <td>BRT</td>\n",
              "      <td>1</td>\n",
              "      <td>KORIDOR 1</td>\n",
              "      <td>2.334.201</td>\n",
              "      <td>3</td>\n",
              "      <td>Blok M - Kota</td>\n",
              "      <td>12.90</td>\n",
              "      <td>14</td>\n",
              "      <td>11</td>\n",
              "      <td>3.0</td>\n",
              "      <td>NaN</td>\n",
              "      <td>NaN</td>\n",
              "      <td>Dibangun Tahun 2003</td>\n",
              "      <td>1</td>\n",
              "      <td>Blok M - Kota</td>\n",
              "      <td>14</td>\n",
              "      <td>12.90</td>\n",
              "      <td>650 m</td>\n",
              "      <td>90 Menit</td>\n",
              "      <td>60 Km/Jam</td>\n",
              "    </tr>\n",
              "    <tr>\n",
              "      <th>3</th>\n",
              "      <td>BRT</td>\n",
              "      <td>1</td>\n",
              "      <td>KORIDOR 1 (BLOK M - KOTA)</td>\n",
              "      <td>2.207.527</td>\n",
              "      <td>4</td>\n",
              "      <td>Blok M - Kota</td>\n",
              "      <td>12.90</td>\n",
              "      <td>14</td>\n",
              "      <td>11</td>\n",
              "      <td>3.0</td>\n",
              "      <td>NaN</td>\n",
              "      <td>NaN</td>\n",
              "      <td>Dibangun Tahun 2003</td>\n",
              "      <td>1</td>\n",
              "      <td>Blok M - Kota</td>\n",
              "      <td>14</td>\n",
              "      <td>12.90</td>\n",
              "      <td>650 m</td>\n",
              "      <td>90 Menit</td>\n",
              "      <td>60 Km/Jam</td>\n",
              "    </tr>\n",
              "    <tr>\n",
              "      <th>4</th>\n",
              "      <td>BRT</td>\n",
              "      <td>1</td>\n",
              "      <td>KORIDOR 1 (BLOK M - KOTA)</td>\n",
              "      <td>2.031.443</td>\n",
              "      <td>5</td>\n",
              "      <td>Blok M - Kota</td>\n",
              "      <td>12.90</td>\n",
              "      <td>14</td>\n",
              "      <td>11</td>\n",
              "      <td>3.0</td>\n",
              "      <td>NaN</td>\n",
              "      <td>NaN</td>\n",
              "      <td>Dibangun Tahun 2003</td>\n",
              "      <td>1</td>\n",
              "      <td>Blok M - Kota</td>\n",
              "      <td>14</td>\n",
              "      <td>12.90</td>\n",
              "      <td>650 m</td>\n",
              "      <td>90 Menit</td>\n",
              "      <td>60 Km/Jam</td>\n",
              "    </tr>\n",
              "    <tr>\n",
              "      <th>...</th>\n",
              "      <td>...</td>\n",
              "      <td>...</td>\n",
              "      <td>...</td>\n",
              "      <td>...</td>\n",
              "      <td>...</td>\n",
              "      <td>...</td>\n",
              "      <td>...</td>\n",
              "      <td>...</td>\n",
              "      <td>...</td>\n",
              "      <td>...</td>\n",
              "      <td>...</td>\n",
              "      <td>...</td>\n",
              "      <td>...</td>\n",
              "      <td>...</td>\n",
              "      <td>...</td>\n",
              "      <td>...</td>\n",
              "      <td>...</td>\n",
              "      <td>...</td>\n",
              "      <td>...</td>\n",
              "      <td>...</td>\n",
              "    </tr>\n",
              "    <tr>\n",
              "      <th>151</th>\n",
              "      <td>BRT</td>\n",
              "      <td>13</td>\n",
              "      <td>KORIDOR 13 (CBD CILEDUG - BLOK M)</td>\n",
              "      <td>754.331</td>\n",
              "      <td>8</td>\n",
              "      <td>Ekstension Pulo Gadung - Bekasi</td>\n",
              "      <td>16.16</td>\n",
              "      <td>7</td>\n",
              "      <td>7</td>\n",
              "      <td>NaN</td>\n",
              "      <td>NaN</td>\n",
              "      <td>NaN</td>\n",
              "      <td>Dibangun Tahun 2013</td>\n",
              "      <td>13</td>\n",
              "      <td>Pulo Gadung - Bekasi (Koridor Ekstension)</td>\n",
              "      <td>7</td>\n",
              "      <td>16.16</td>\n",
              "      <td>690 - 1200 m</td>\n",
              "      <td>-</td>\n",
              "      <td>-</td>\n",
              "    </tr>\n",
              "    <tr>\n",
              "      <th>152</th>\n",
              "      <td>BRT</td>\n",
              "      <td>13</td>\n",
              "      <td>KORIDOR 13 (CBD CILEDUG - BLOK M)</td>\n",
              "      <td>783.995</td>\n",
              "      <td>9</td>\n",
              "      <td>Ekstension Pulo Gadung - Bekasi</td>\n",
              "      <td>16.16</td>\n",
              "      <td>7</td>\n",
              "      <td>7</td>\n",
              "      <td>NaN</td>\n",
              "      <td>NaN</td>\n",
              "      <td>NaN</td>\n",
              "      <td>Dibangun Tahun 2013</td>\n",
              "      <td>13</td>\n",
              "      <td>Pulo Gadung - Bekasi (Koridor Ekstension)</td>\n",
              "      <td>7</td>\n",
              "      <td>16.16</td>\n",
              "      <td>690 - 1200 m</td>\n",
              "      <td>-</td>\n",
              "      <td>-</td>\n",
              "    </tr>\n",
              "    <tr>\n",
              "      <th>153</th>\n",
              "      <td>BRT</td>\n",
              "      <td>13</td>\n",
              "      <td>KORIDOR 13 (CBD CILEDUG - BLOK M)</td>\n",
              "      <td>783.995</td>\n",
              "      <td>10</td>\n",
              "      <td>Ekstension Pulo Gadung - Bekasi</td>\n",
              "      <td>16.16</td>\n",
              "      <td>7</td>\n",
              "      <td>7</td>\n",
              "      <td>NaN</td>\n",
              "      <td>NaN</td>\n",
              "      <td>NaN</td>\n",
              "      <td>Dibangun Tahun 2013</td>\n",
              "      <td>13</td>\n",
              "      <td>Pulo Gadung - Bekasi (Koridor Ekstension)</td>\n",
              "      <td>7</td>\n",
              "      <td>16.16</td>\n",
              "      <td>690 - 1200 m</td>\n",
              "      <td>-</td>\n",
              "      <td>-</td>\n",
              "    </tr>\n",
              "    <tr>\n",
              "      <th>154</th>\n",
              "      <td>BRT</td>\n",
              "      <td>13</td>\n",
              "      <td>KORIDOR 13 (CBD CILEDUG - BLOK M)</td>\n",
              "      <td>846.227</td>\n",
              "      <td>11</td>\n",
              "      <td>Ekstension Pulo Gadung - Bekasi</td>\n",
              "      <td>16.16</td>\n",
              "      <td>7</td>\n",
              "      <td>7</td>\n",
              "      <td>NaN</td>\n",
              "      <td>NaN</td>\n",
              "      <td>NaN</td>\n",
              "      <td>Dibangun Tahun 2013</td>\n",
              "      <td>13</td>\n",
              "      <td>Pulo Gadung - Bekasi (Koridor Ekstension)</td>\n",
              "      <td>7</td>\n",
              "      <td>16.16</td>\n",
              "      <td>690 - 1200 m</td>\n",
              "      <td>-</td>\n",
              "      <td>-</td>\n",
              "    </tr>\n",
              "    <tr>\n",
              "      <th>155</th>\n",
              "      <td>BRT</td>\n",
              "      <td>13</td>\n",
              "      <td>KORIDOR 13 (CBD CILEDUG - BLOK M)</td>\n",
              "      <td>796,166</td>\n",
              "      <td>12</td>\n",
              "      <td>Ekstension Pulo Gadung - Bekasi</td>\n",
              "      <td>16.16</td>\n",
              "      <td>7</td>\n",
              "      <td>7</td>\n",
              "      <td>NaN</td>\n",
              "      <td>NaN</td>\n",
              "      <td>NaN</td>\n",
              "      <td>Dibangun Tahun 2013</td>\n",
              "      <td>13</td>\n",
              "      <td>Pulo Gadung - Bekasi (Koridor Ekstension)</td>\n",
              "      <td>7</td>\n",
              "      <td>16.16</td>\n",
              "      <td>690 - 1200 m</td>\n",
              "      <td>-</td>\n",
              "      <td>-</td>\n",
              "    </tr>\n",
              "  </tbody>\n",
              "</table>\n",
              "<p>156 rows × 20 columns</p>\n",
              "</div>"
            ],
            "text/plain": [
              "    jenis  ...  Kecepatan_operasional_maks\n",
              "0     BRT  ...                   60 Km/Jam\n",
              "1     BRT  ...                   60 Km/Jam\n",
              "2     BRT  ...                   60 Km/Jam\n",
              "3     BRT  ...                   60 Km/Jam\n",
              "4     BRT  ...                   60 Km/Jam\n",
              "..    ...  ...                         ...\n",
              "151   BRT  ...                           -\n",
              "152   BRT  ...                           -\n",
              "153   BRT  ...                           -\n",
              "154   BRT  ...                           -\n",
              "155   BRT  ...                           -\n",
              "\n",
              "[156 rows x 20 columns]"
            ]
          },
          "metadata": {},
          "execution_count": 33
        }
      ]
    },
    {
      "cell_type": "markdown",
      "metadata": {
        "id": "Kp7ogq3-d5M6"
      },
      "source": [
        "## Cleaning data outlier"
      ]
    },
    {
      "cell_type": "code",
      "metadata": {
        "id": "nUBG3nlmHel0"
      },
      "source": [
        "data_2019['jumlah_penumpang']= data_2019['jumlah_penumpang'].str.replace(',','')\n",
        "data_2019['jumlah_penumpang']= data_2019['jumlah_penumpang'].str.replace('.','')"
      ],
      "execution_count": null,
      "outputs": []
    },
    {
      "cell_type": "code",
      "metadata": {
        "id": "wEN8OoGCMTFM"
      },
      "source": [
        "data_2019['jumlah_penumpang']=data_2019['jumlah_penumpang'].astype('int64')"
      ],
      "execution_count": null,
      "outputs": []
    },
    {
      "cell_type": "code",
      "metadata": {
        "id": "G5aKWeJXd44M"
      },
      "source": [
        "data_2019['jumlah_penumpang'].replace(9192,919200,inplace=True)\n",
        "data_2019['jumlah_penumpang'].replace(91772,917720,inplace=True)\n",
        "data_2019['jumlah_penumpang'].replace(91717,917170,inplace=True)\n",
        "data_2019['jumlah_penumpang'].replace(26524,265240,inplace=True)"
      ],
      "execution_count": null,
      "outputs": []
    },
    {
      "cell_type": "code",
      "metadata": {
        "colab": {
          "base_uri": "https://localhost:8080/",
          "height": 165
        },
        "id": "5WditHeGeAdM",
        "outputId": "248340f1-edee-4d99-e6de-49f494aae0a6"
      },
      "source": [
        "data_2019[data_2019['jumlah_penumpang']==917170]"
      ],
      "execution_count": null,
      "outputs": [
        {
          "output_type": "execute_result",
          "data": {
            "text/html": [
              "<div>\n",
              "<style scoped>\n",
              "    .dataframe tbody tr th:only-of-type {\n",
              "        vertical-align: middle;\n",
              "    }\n",
              "\n",
              "    .dataframe tbody tr th {\n",
              "        vertical-align: top;\n",
              "    }\n",
              "\n",
              "    .dataframe thead th {\n",
              "        text-align: right;\n",
              "    }\n",
              "</style>\n",
              "<table border=\"1\" class=\"dataframe\">\n",
              "  <thead>\n",
              "    <tr style=\"text-align: right;\">\n",
              "      <th></th>\n",
              "      <th>jenis</th>\n",
              "      <th>kode_trayek</th>\n",
              "      <th>trayek</th>\n",
              "      <th>jumlah_penumpang</th>\n",
              "      <th>bulan</th>\n",
              "      <th>koridor_x</th>\n",
              "      <th>panjang_lintasan_km</th>\n",
              "      <th>jumlah_halte_x</th>\n",
              "      <th>jpo</th>\n",
              "      <th>pelican_(lokasi)</th>\n",
              "      <th>sky_walk_(lokasi)</th>\n",
              "      <th>penghubung</th>\n",
              "      <th>keterangan</th>\n",
              "      <th>number_koridor</th>\n",
              "      <th>koridor_y</th>\n",
              "      <th>jumlah_halte_y</th>\n",
              "      <th>panjang_lintasan</th>\n",
              "      <th>Jarak_rata_rata_antar_ halte</th>\n",
              "      <th>Waktu_tempuh_(one way)_rata_rata</th>\n",
              "      <th>Kecepatan_operasional_maks</th>\n",
              "    </tr>\n",
              "  </thead>\n",
              "  <tbody>\n",
              "    <tr>\n",
              "      <th>46</th>\n",
              "      <td>BRT</td>\n",
              "      <td>4</td>\n",
              "      <td>KORIDOR 4 (PULOGADUNG 2 - DUKUH ATAS 2)</td>\n",
              "      <td>917170</td>\n",
              "      <td>11</td>\n",
              "      <td>Pulo Gadung - Dukuh Atas</td>\n",
              "      <td>11.85</td>\n",
              "      <td>16</td>\n",
              "      <td>10</td>\n",
              "      <td>5.0</td>\n",
              "      <td>2.0</td>\n",
              "      <td>Koridor 1 &amp; 10</td>\n",
              "      <td>Dibangun Tahun 2006</td>\n",
              "      <td>4</td>\n",
              "      <td>Pulo Gadung - Dukuh Atas</td>\n",
              "      <td>16</td>\n",
              "      <td>11.85</td>\n",
              "      <td>700 - 800 m</td>\n",
              "      <td>90 Menit</td>\n",
              "      <td>60 Km/Jam</td>\n",
              "    </tr>\n",
              "  </tbody>\n",
              "</table>\n",
              "</div>"
            ],
            "text/plain": [
              "   jenis  ...  Kecepatan_operasional_maks\n",
              "46   BRT  ...                   60 Km/Jam\n",
              "\n",
              "[1 rows x 20 columns]"
            ]
          },
          "metadata": {},
          "execution_count": 37
        }
      ]
    },
    {
      "cell_type": "markdown",
      "metadata": {
        "id": "SAo-T3ymuN3L"
      },
      "source": [
        "## Menambahkan feature revenue"
      ]
    },
    {
      "cell_type": "markdown",
      "metadata": {
        "id": "Lxcnes0ZGxIm"
      },
      "source": [
        "tarif jam 5.00-7.00 = 2000, dan selebihnya 3.500."
      ]
    },
    {
      "cell_type": "code",
      "metadata": {
        "id": "6kCpJ1iGgyYP",
        "colab": {
          "base_uri": "https://localhost:8080/",
          "height": 781
        },
        "outputId": "adc73fb3-89b4-4a56-c828-a167721abcbf"
      },
      "source": [
        "tj_user = pd.read_csv('/content/drive/MyDrive/Colab Notebooks/We_are_the_Champion/Jumlah_penumpang_2019_bps.csv')\n",
        "\n",
        "\n",
        "tj_user_3 = tj_user[['kode_trayek','Jumlah penumpang Open Data','Pendapatan_2019']]\n",
        "tj_user_3['Rata-Rata Tarif/Orang'] = tj_user_3['Pendapatan_2019']/tj_user_3['Jumlah penumpang Open Data']\n",
        "\n",
        "tj_user_3['Tarif Pagi'] = 2000\n",
        "tj_user_3['Tarif Normal'] = 3500\n",
        "tj_user_3['Pendapatan 2019 Tarif Normal'] = tj_user_3['Jumlah penumpang Open Data']*tj_user_3['Tarif Normal']\n",
        "tj_user_3['Selisih Pendapatan Aktual vs Normal'] = tj_user_3['Pendapatan 2019 Tarif Normal'] - tj_user_3['Pendapatan_2019']\n",
        "\n",
        "tj_user_3['Jumlah Penumpang Pagi'] = tj_user_3['Selisih Pendapatan Aktual vs Normal']/(tj_user_3['Tarif Normal'] - tj_user_3['Tarif Pagi'])\n",
        "tj_user_3['Persentase Penumpang Tarif Normal'] = ((tj_user_3['Jumlah penumpang Open Data']-tj_user_3['Jumlah Penumpang Pagi'])/tj_user_3['Jumlah penumpang Open Data'])*100\n",
        "tj_user_3['Persentase Penumpang Tarif Pagi'] = (tj_user_3['Jumlah Penumpang Pagi']/tj_user_3['Jumlah penumpang Open Data'])*100\n",
        "tj_user_3['Persentase Penumpang Tarif Normal'] = round(tj_user_3['Persentase Penumpang Tarif Normal'],2)\n",
        "tj_user_3"
      ],
      "execution_count": null,
      "outputs": [
        {
          "output_type": "stream",
          "name": "stderr",
          "text": [
            "/usr/local/lib/python3.7/dist-packages/ipykernel_launcher.py:5: SettingWithCopyWarning: \n",
            "A value is trying to be set on a copy of a slice from a DataFrame.\n",
            "Try using .loc[row_indexer,col_indexer] = value instead\n",
            "\n",
            "See the caveats in the documentation: https://pandas.pydata.org/pandas-docs/stable/user_guide/indexing.html#returning-a-view-versus-a-copy\n",
            "  \"\"\"\n",
            "/usr/local/lib/python3.7/dist-packages/ipykernel_launcher.py:7: SettingWithCopyWarning: \n",
            "A value is trying to be set on a copy of a slice from a DataFrame.\n",
            "Try using .loc[row_indexer,col_indexer] = value instead\n",
            "\n",
            "See the caveats in the documentation: https://pandas.pydata.org/pandas-docs/stable/user_guide/indexing.html#returning-a-view-versus-a-copy\n",
            "  import sys\n",
            "/usr/local/lib/python3.7/dist-packages/ipykernel_launcher.py:8: SettingWithCopyWarning: \n",
            "A value is trying to be set on a copy of a slice from a DataFrame.\n",
            "Try using .loc[row_indexer,col_indexer] = value instead\n",
            "\n",
            "See the caveats in the documentation: https://pandas.pydata.org/pandas-docs/stable/user_guide/indexing.html#returning-a-view-versus-a-copy\n",
            "  \n"
          ]
        },
        {
          "output_type": "execute_result",
          "data": {
            "text/html": [
              "<div>\n",
              "<style scoped>\n",
              "    .dataframe tbody tr th:only-of-type {\n",
              "        vertical-align: middle;\n",
              "    }\n",
              "\n",
              "    .dataframe tbody tr th {\n",
              "        vertical-align: top;\n",
              "    }\n",
              "\n",
              "    .dataframe thead th {\n",
              "        text-align: right;\n",
              "    }\n",
              "</style>\n",
              "<table border=\"1\" class=\"dataframe\">\n",
              "  <thead>\n",
              "    <tr style=\"text-align: right;\">\n",
              "      <th></th>\n",
              "      <th>kode_trayek</th>\n",
              "      <th>Jumlah penumpang Open Data</th>\n",
              "      <th>Pendapatan_2019</th>\n",
              "      <th>Rata-Rata Tarif/Orang</th>\n",
              "      <th>Tarif Pagi</th>\n",
              "      <th>Tarif Normal</th>\n",
              "      <th>Pendapatan 2019 Tarif Normal</th>\n",
              "      <th>Selisih Pendapatan Aktual vs Normal</th>\n",
              "      <th>Jumlah Penumpang Pagi</th>\n",
              "      <th>Persentase Penumpang Tarif Normal</th>\n",
              "      <th>Persentase Penumpang Tarif Pagi</th>\n",
              "    </tr>\n",
              "  </thead>\n",
              "  <tbody>\n",
              "    <tr>\n",
              "      <th>0</th>\n",
              "      <td>1</td>\n",
              "      <td>28084104</td>\n",
              "      <td>93950566124</td>\n",
              "      <td>3345.328949</td>\n",
              "      <td>2000</td>\n",
              "      <td>3500</td>\n",
              "      <td>98294364000</td>\n",
              "      <td>4343797876</td>\n",
              "      <td>2.895865e+06</td>\n",
              "      <td>89.69</td>\n",
              "      <td>10.311403</td>\n",
              "    </tr>\n",
              "    <tr>\n",
              "      <th>1</th>\n",
              "      <td>2</td>\n",
              "      <td>10006492</td>\n",
              "      <td>29913094973</td>\n",
              "      <td>2989.368799</td>\n",
              "      <td>2000</td>\n",
              "      <td>3500</td>\n",
              "      <td>35022722000</td>\n",
              "      <td>5109627027</td>\n",
              "      <td>3.406418e+06</td>\n",
              "      <td>65.96</td>\n",
              "      <td>34.042080</td>\n",
              "    </tr>\n",
              "    <tr>\n",
              "      <th>2</th>\n",
              "      <td>3</td>\n",
              "      <td>11963018</td>\n",
              "      <td>39975278549</td>\n",
              "      <td>3341.571378</td>\n",
              "      <td>2000</td>\n",
              "      <td>3500</td>\n",
              "      <td>41870563000</td>\n",
              "      <td>1895284451</td>\n",
              "      <td>1.263523e+06</td>\n",
              "      <td>89.44</td>\n",
              "      <td>10.561908</td>\n",
              "    </tr>\n",
              "    <tr>\n",
              "      <th>3</th>\n",
              "      <td>4</td>\n",
              "      <td>8932828</td>\n",
              "      <td>29455491234</td>\n",
              "      <td>3297.443008</td>\n",
              "      <td>2000</td>\n",
              "      <td>3500</td>\n",
              "      <td>31264898000</td>\n",
              "      <td>1809406766</td>\n",
              "      <td>1.206271e+06</td>\n",
              "      <td>86.50</td>\n",
              "      <td>13.503799</td>\n",
              "    </tr>\n",
              "    <tr>\n",
              "      <th>4</th>\n",
              "      <td>5</td>\n",
              "      <td>11945180</td>\n",
              "      <td>38144616872</td>\n",
              "      <td>3193.306160</td>\n",
              "      <td>2000</td>\n",
              "      <td>3500</td>\n",
              "      <td>41808130000</td>\n",
              "      <td>3663513128</td>\n",
              "      <td>2.442342e+06</td>\n",
              "      <td>79.55</td>\n",
              "      <td>20.446256</td>\n",
              "    </tr>\n",
              "    <tr>\n",
              "      <th>5</th>\n",
              "      <td>6</td>\n",
              "      <td>11935765</td>\n",
              "      <td>38855459654</td>\n",
              "      <td>3255.380753</td>\n",
              "      <td>2000</td>\n",
              "      <td>3500</td>\n",
              "      <td>41775177500</td>\n",
              "      <td>2919717846</td>\n",
              "      <td>1.946479e+06</td>\n",
              "      <td>83.69</td>\n",
              "      <td>16.307950</td>\n",
              "    </tr>\n",
              "    <tr>\n",
              "      <th>6</th>\n",
              "      <td>7</td>\n",
              "      <td>11618008</td>\n",
              "      <td>34379598199</td>\n",
              "      <td>2959.164617</td>\n",
              "      <td>2000</td>\n",
              "      <td>3500</td>\n",
              "      <td>40663028000</td>\n",
              "      <td>6283429801</td>\n",
              "      <td>4.188953e+06</td>\n",
              "      <td>63.94</td>\n",
              "      <td>36.055692</td>\n",
              "    </tr>\n",
              "    <tr>\n",
              "      <th>7</th>\n",
              "      <td>8</td>\n",
              "      <td>12243726</td>\n",
              "      <td>39826013203</td>\n",
              "      <td>3252.769067</td>\n",
              "      <td>2000</td>\n",
              "      <td>3500</td>\n",
              "      <td>42853041000</td>\n",
              "      <td>3027027797</td>\n",
              "      <td>2.018019e+06</td>\n",
              "      <td>83.52</td>\n",
              "      <td>16.482062</td>\n",
              "    </tr>\n",
              "    <tr>\n",
              "      <th>8</th>\n",
              "      <td>9</td>\n",
              "      <td>17263237</td>\n",
              "      <td>55483788767</td>\n",
              "      <td>3213.985232</td>\n",
              "      <td>2000</td>\n",
              "      <td>3500</td>\n",
              "      <td>60421329500</td>\n",
              "      <td>4937540733</td>\n",
              "      <td>3.291694e+06</td>\n",
              "      <td>80.93</td>\n",
              "      <td>19.067651</td>\n",
              "    </tr>\n",
              "    <tr>\n",
              "      <th>9</th>\n",
              "      <td>10</td>\n",
              "      <td>9467854</td>\n",
              "      <td>31109086987</td>\n",
              "      <td>3285.759052</td>\n",
              "      <td>2000</td>\n",
              "      <td>3500</td>\n",
              "      <td>33137489000</td>\n",
              "      <td>2028402013</td>\n",
              "      <td>1.352268e+06</td>\n",
              "      <td>85.72</td>\n",
              "      <td>14.282730</td>\n",
              "    </tr>\n",
              "    <tr>\n",
              "      <th>10</th>\n",
              "      <td>11</td>\n",
              "      <td>3665017</td>\n",
              "      <td>11032062040</td>\n",
              "      <td>3010.098463</td>\n",
              "      <td>2000</td>\n",
              "      <td>3500</td>\n",
              "      <td>12827559500</td>\n",
              "      <td>1795497460</td>\n",
              "      <td>1.196998e+06</td>\n",
              "      <td>67.34</td>\n",
              "      <td>32.660102</td>\n",
              "    </tr>\n",
              "    <tr>\n",
              "      <th>11</th>\n",
              "      <td>12</td>\n",
              "      <td>2922031</td>\n",
              "      <td>9371415690</td>\n",
              "      <td>3207.158203</td>\n",
              "      <td>2000</td>\n",
              "      <td>3500</td>\n",
              "      <td>10227108500</td>\n",
              "      <td>855692810</td>\n",
              "      <td>5.704619e+05</td>\n",
              "      <td>80.48</td>\n",
              "      <td>19.522786</td>\n",
              "    </tr>\n",
              "    <tr>\n",
              "      <th>12</th>\n",
              "      <td>13</td>\n",
              "      <td>8608214</td>\n",
              "      <td>27028211502</td>\n",
              "      <td>3139.816401</td>\n",
              "      <td>2000</td>\n",
              "      <td>3500</td>\n",
              "      <td>30128749000</td>\n",
              "      <td>3100537498</td>\n",
              "      <td>2.067025e+06</td>\n",
              "      <td>75.99</td>\n",
              "      <td>24.012240</td>\n",
              "    </tr>\n",
              "  </tbody>\n",
              "</table>\n",
              "</div>"
            ],
            "text/plain": [
              "    kode_trayek  ...  Persentase Penumpang Tarif Pagi\n",
              "0             1  ...                        10.311403\n",
              "1             2  ...                        34.042080\n",
              "2             3  ...                        10.561908\n",
              "3             4  ...                        13.503799\n",
              "4             5  ...                        20.446256\n",
              "5             6  ...                        16.307950\n",
              "6             7  ...                        36.055692\n",
              "7             8  ...                        16.482062\n",
              "8             9  ...                        19.067651\n",
              "9            10  ...                        14.282730\n",
              "10           11  ...                        32.660102\n",
              "11           12  ...                        19.522786\n",
              "12           13  ...                        24.012240\n",
              "\n",
              "[13 rows x 11 columns]"
            ]
          },
          "metadata": {},
          "execution_count": 38
        }
      ]
    },
    {
      "cell_type": "code",
      "metadata": {
        "id": "Ptul7HCf7jgi"
      },
      "source": [
        "tj_user_aja = tj_user_3[['Rata-Rata Tarif/Orang','kode_trayek']]"
      ],
      "execution_count": null,
      "outputs": []
    },
    {
      "cell_type": "code",
      "metadata": {
        "id": "DJL0hUDt6meF"
      },
      "source": [
        "data_2019 = data_2019.merge(tj_user_3,left_on='number_koridor',right_on='kode_trayek')"
      ],
      "execution_count": null,
      "outputs": []
    },
    {
      "cell_type": "code",
      "metadata": {
        "id": "KktCRZBT8g6e",
        "colab": {
          "base_uri": "https://localhost:8080/",
          "height": 422
        },
        "outputId": "b95250b0-3cb8-4866-9780-0dc35f29f37f"
      },
      "source": [
        "data_2019.head()"
      ],
      "execution_count": null,
      "outputs": [
        {
          "output_type": "execute_result",
          "data": {
            "text/html": [
              "<div>\n",
              "<style scoped>\n",
              "    .dataframe tbody tr th:only-of-type {\n",
              "        vertical-align: middle;\n",
              "    }\n",
              "\n",
              "    .dataframe tbody tr th {\n",
              "        vertical-align: top;\n",
              "    }\n",
              "\n",
              "    .dataframe thead th {\n",
              "        text-align: right;\n",
              "    }\n",
              "</style>\n",
              "<table border=\"1\" class=\"dataframe\">\n",
              "  <thead>\n",
              "    <tr style=\"text-align: right;\">\n",
              "      <th></th>\n",
              "      <th>jenis</th>\n",
              "      <th>kode_trayek_x</th>\n",
              "      <th>trayek</th>\n",
              "      <th>jumlah_penumpang</th>\n",
              "      <th>bulan</th>\n",
              "      <th>koridor_x</th>\n",
              "      <th>panjang_lintasan_km</th>\n",
              "      <th>jumlah_halte_x</th>\n",
              "      <th>jpo</th>\n",
              "      <th>pelican_(lokasi)</th>\n",
              "      <th>sky_walk_(lokasi)</th>\n",
              "      <th>penghubung</th>\n",
              "      <th>keterangan</th>\n",
              "      <th>number_koridor</th>\n",
              "      <th>koridor_y</th>\n",
              "      <th>jumlah_halte_y</th>\n",
              "      <th>panjang_lintasan</th>\n",
              "      <th>Jarak_rata_rata_antar_ halte</th>\n",
              "      <th>Waktu_tempuh_(one way)_rata_rata</th>\n",
              "      <th>Kecepatan_operasional_maks</th>\n",
              "      <th>kode_trayek_y</th>\n",
              "      <th>Jumlah penumpang Open Data</th>\n",
              "      <th>Pendapatan_2019</th>\n",
              "      <th>Rata-Rata Tarif/Orang</th>\n",
              "      <th>Tarif Pagi</th>\n",
              "      <th>Tarif Normal</th>\n",
              "      <th>Pendapatan 2019 Tarif Normal</th>\n",
              "      <th>Selisih Pendapatan Aktual vs Normal</th>\n",
              "      <th>Jumlah Penumpang Pagi</th>\n",
              "      <th>Persentase Penumpang Tarif Normal</th>\n",
              "      <th>Persentase Penumpang Tarif Pagi</th>\n",
              "    </tr>\n",
              "  </thead>\n",
              "  <tbody>\n",
              "    <tr>\n",
              "      <th>0</th>\n",
              "      <td>BRT</td>\n",
              "      <td>1</td>\n",
              "      <td>KORIDOR 1</td>\n",
              "      <td>2223257</td>\n",
              "      <td>1</td>\n",
              "      <td>Blok M - Kota</td>\n",
              "      <td>12.9</td>\n",
              "      <td>14</td>\n",
              "      <td>11</td>\n",
              "      <td>3.0</td>\n",
              "      <td>NaN</td>\n",
              "      <td>NaN</td>\n",
              "      <td>Dibangun Tahun 2003</td>\n",
              "      <td>1</td>\n",
              "      <td>Blok M - Kota</td>\n",
              "      <td>14</td>\n",
              "      <td>12.9</td>\n",
              "      <td>650 m</td>\n",
              "      <td>90 Menit</td>\n",
              "      <td>60 Km/Jam</td>\n",
              "      <td>1</td>\n",
              "      <td>28084104</td>\n",
              "      <td>93950566124</td>\n",
              "      <td>3345.328949</td>\n",
              "      <td>2000</td>\n",
              "      <td>3500</td>\n",
              "      <td>98294364000</td>\n",
              "      <td>4343797876</td>\n",
              "      <td>2.895865e+06</td>\n",
              "      <td>89.69</td>\n",
              "      <td>10.311403</td>\n",
              "    </tr>\n",
              "    <tr>\n",
              "      <th>1</th>\n",
              "      <td>BRT</td>\n",
              "      <td>1</td>\n",
              "      <td>KORIDOR 1</td>\n",
              "      <td>1992685</td>\n",
              "      <td>2</td>\n",
              "      <td>Blok M - Kota</td>\n",
              "      <td>12.9</td>\n",
              "      <td>14</td>\n",
              "      <td>11</td>\n",
              "      <td>3.0</td>\n",
              "      <td>NaN</td>\n",
              "      <td>NaN</td>\n",
              "      <td>Dibangun Tahun 2003</td>\n",
              "      <td>1</td>\n",
              "      <td>Blok M - Kota</td>\n",
              "      <td>14</td>\n",
              "      <td>12.9</td>\n",
              "      <td>650 m</td>\n",
              "      <td>90 Menit</td>\n",
              "      <td>60 Km/Jam</td>\n",
              "      <td>1</td>\n",
              "      <td>28084104</td>\n",
              "      <td>93950566124</td>\n",
              "      <td>3345.328949</td>\n",
              "      <td>2000</td>\n",
              "      <td>3500</td>\n",
              "      <td>98294364000</td>\n",
              "      <td>4343797876</td>\n",
              "      <td>2.895865e+06</td>\n",
              "      <td>89.69</td>\n",
              "      <td>10.311403</td>\n",
              "    </tr>\n",
              "    <tr>\n",
              "      <th>2</th>\n",
              "      <td>BRT</td>\n",
              "      <td>1</td>\n",
              "      <td>KORIDOR 1</td>\n",
              "      <td>2334201</td>\n",
              "      <td>3</td>\n",
              "      <td>Blok M - Kota</td>\n",
              "      <td>12.9</td>\n",
              "      <td>14</td>\n",
              "      <td>11</td>\n",
              "      <td>3.0</td>\n",
              "      <td>NaN</td>\n",
              "      <td>NaN</td>\n",
              "      <td>Dibangun Tahun 2003</td>\n",
              "      <td>1</td>\n",
              "      <td>Blok M - Kota</td>\n",
              "      <td>14</td>\n",
              "      <td>12.9</td>\n",
              "      <td>650 m</td>\n",
              "      <td>90 Menit</td>\n",
              "      <td>60 Km/Jam</td>\n",
              "      <td>1</td>\n",
              "      <td>28084104</td>\n",
              "      <td>93950566124</td>\n",
              "      <td>3345.328949</td>\n",
              "      <td>2000</td>\n",
              "      <td>3500</td>\n",
              "      <td>98294364000</td>\n",
              "      <td>4343797876</td>\n",
              "      <td>2.895865e+06</td>\n",
              "      <td>89.69</td>\n",
              "      <td>10.311403</td>\n",
              "    </tr>\n",
              "    <tr>\n",
              "      <th>3</th>\n",
              "      <td>BRT</td>\n",
              "      <td>1</td>\n",
              "      <td>KORIDOR 1 (BLOK M - KOTA)</td>\n",
              "      <td>2207527</td>\n",
              "      <td>4</td>\n",
              "      <td>Blok M - Kota</td>\n",
              "      <td>12.9</td>\n",
              "      <td>14</td>\n",
              "      <td>11</td>\n",
              "      <td>3.0</td>\n",
              "      <td>NaN</td>\n",
              "      <td>NaN</td>\n",
              "      <td>Dibangun Tahun 2003</td>\n",
              "      <td>1</td>\n",
              "      <td>Blok M - Kota</td>\n",
              "      <td>14</td>\n",
              "      <td>12.9</td>\n",
              "      <td>650 m</td>\n",
              "      <td>90 Menit</td>\n",
              "      <td>60 Km/Jam</td>\n",
              "      <td>1</td>\n",
              "      <td>28084104</td>\n",
              "      <td>93950566124</td>\n",
              "      <td>3345.328949</td>\n",
              "      <td>2000</td>\n",
              "      <td>3500</td>\n",
              "      <td>98294364000</td>\n",
              "      <td>4343797876</td>\n",
              "      <td>2.895865e+06</td>\n",
              "      <td>89.69</td>\n",
              "      <td>10.311403</td>\n",
              "    </tr>\n",
              "    <tr>\n",
              "      <th>4</th>\n",
              "      <td>BRT</td>\n",
              "      <td>1</td>\n",
              "      <td>KORIDOR 1 (BLOK M - KOTA)</td>\n",
              "      <td>2031443</td>\n",
              "      <td>5</td>\n",
              "      <td>Blok M - Kota</td>\n",
              "      <td>12.9</td>\n",
              "      <td>14</td>\n",
              "      <td>11</td>\n",
              "      <td>3.0</td>\n",
              "      <td>NaN</td>\n",
              "      <td>NaN</td>\n",
              "      <td>Dibangun Tahun 2003</td>\n",
              "      <td>1</td>\n",
              "      <td>Blok M - Kota</td>\n",
              "      <td>14</td>\n",
              "      <td>12.9</td>\n",
              "      <td>650 m</td>\n",
              "      <td>90 Menit</td>\n",
              "      <td>60 Km/Jam</td>\n",
              "      <td>1</td>\n",
              "      <td>28084104</td>\n",
              "      <td>93950566124</td>\n",
              "      <td>3345.328949</td>\n",
              "      <td>2000</td>\n",
              "      <td>3500</td>\n",
              "      <td>98294364000</td>\n",
              "      <td>4343797876</td>\n",
              "      <td>2.895865e+06</td>\n",
              "      <td>89.69</td>\n",
              "      <td>10.311403</td>\n",
              "    </tr>\n",
              "  </tbody>\n",
              "</table>\n",
              "</div>"
            ],
            "text/plain": [
              "  jenis  ...  Persentase Penumpang Tarif Pagi\n",
              "0   BRT  ...                        10.311403\n",
              "1   BRT  ...                        10.311403\n",
              "2   BRT  ...                        10.311403\n",
              "3   BRT  ...                        10.311403\n",
              "4   BRT  ...                        10.311403\n",
              "\n",
              "[5 rows x 31 columns]"
            ]
          },
          "metadata": {},
          "execution_count": 41
        }
      ]
    },
    {
      "cell_type": "code",
      "metadata": {
        "id": "CCIiman-8r0E"
      },
      "source": [
        "data_2019['Revenue_month'] = data_2019['Rata-Rata Tarif/Orang']*data_2019['Jumlah penumpang Open Data']"
      ],
      "execution_count": null,
      "outputs": []
    },
    {
      "cell_type": "code",
      "metadata": {
        "id": "3LGLIJim9GzE",
        "colab": {
          "base_uri": "https://localhost:8080/",
          "height": 422
        },
        "outputId": "0515fd46-fd63-4a9b-c3bb-d53a81dd1034"
      },
      "source": [
        "data_2019.head()"
      ],
      "execution_count": null,
      "outputs": [
        {
          "output_type": "execute_result",
          "data": {
            "text/html": [
              "<div>\n",
              "<style scoped>\n",
              "    .dataframe tbody tr th:only-of-type {\n",
              "        vertical-align: middle;\n",
              "    }\n",
              "\n",
              "    .dataframe tbody tr th {\n",
              "        vertical-align: top;\n",
              "    }\n",
              "\n",
              "    .dataframe thead th {\n",
              "        text-align: right;\n",
              "    }\n",
              "</style>\n",
              "<table border=\"1\" class=\"dataframe\">\n",
              "  <thead>\n",
              "    <tr style=\"text-align: right;\">\n",
              "      <th></th>\n",
              "      <th>jenis</th>\n",
              "      <th>kode_trayek_x</th>\n",
              "      <th>trayek</th>\n",
              "      <th>jumlah_penumpang</th>\n",
              "      <th>bulan</th>\n",
              "      <th>koridor_x</th>\n",
              "      <th>panjang_lintasan_km</th>\n",
              "      <th>jumlah_halte_x</th>\n",
              "      <th>jpo</th>\n",
              "      <th>pelican_(lokasi)</th>\n",
              "      <th>sky_walk_(lokasi)</th>\n",
              "      <th>penghubung</th>\n",
              "      <th>keterangan</th>\n",
              "      <th>number_koridor</th>\n",
              "      <th>koridor_y</th>\n",
              "      <th>jumlah_halte_y</th>\n",
              "      <th>panjang_lintasan</th>\n",
              "      <th>Jarak_rata_rata_antar_ halte</th>\n",
              "      <th>Waktu_tempuh_(one way)_rata_rata</th>\n",
              "      <th>Kecepatan_operasional_maks</th>\n",
              "      <th>kode_trayek_y</th>\n",
              "      <th>Jumlah penumpang Open Data</th>\n",
              "      <th>Pendapatan_2019</th>\n",
              "      <th>Rata-Rata Tarif/Orang</th>\n",
              "      <th>Tarif Pagi</th>\n",
              "      <th>Tarif Normal</th>\n",
              "      <th>Pendapatan 2019 Tarif Normal</th>\n",
              "      <th>Selisih Pendapatan Aktual vs Normal</th>\n",
              "      <th>Jumlah Penumpang Pagi</th>\n",
              "      <th>Persentase Penumpang Tarif Normal</th>\n",
              "      <th>Persentase Penumpang Tarif Pagi</th>\n",
              "      <th>Revenue_month</th>\n",
              "    </tr>\n",
              "  </thead>\n",
              "  <tbody>\n",
              "    <tr>\n",
              "      <th>0</th>\n",
              "      <td>BRT</td>\n",
              "      <td>1</td>\n",
              "      <td>KORIDOR 1</td>\n",
              "      <td>2223257</td>\n",
              "      <td>1</td>\n",
              "      <td>Blok M - Kota</td>\n",
              "      <td>12.9</td>\n",
              "      <td>14</td>\n",
              "      <td>11</td>\n",
              "      <td>3.0</td>\n",
              "      <td>NaN</td>\n",
              "      <td>NaN</td>\n",
              "      <td>Dibangun Tahun 2003</td>\n",
              "      <td>1</td>\n",
              "      <td>Blok M - Kota</td>\n",
              "      <td>14</td>\n",
              "      <td>12.9</td>\n",
              "      <td>650 m</td>\n",
              "      <td>90 Menit</td>\n",
              "      <td>60 Km/Jam</td>\n",
              "      <td>1</td>\n",
              "      <td>28084104</td>\n",
              "      <td>93950566124</td>\n",
              "      <td>3345.328949</td>\n",
              "      <td>2000</td>\n",
              "      <td>3500</td>\n",
              "      <td>98294364000</td>\n",
              "      <td>4343797876</td>\n",
              "      <td>2.895865e+06</td>\n",
              "      <td>89.69</td>\n",
              "      <td>10.311403</td>\n",
              "      <td>9.395057e+10</td>\n",
              "    </tr>\n",
              "    <tr>\n",
              "      <th>1</th>\n",
              "      <td>BRT</td>\n",
              "      <td>1</td>\n",
              "      <td>KORIDOR 1</td>\n",
              "      <td>1992685</td>\n",
              "      <td>2</td>\n",
              "      <td>Blok M - Kota</td>\n",
              "      <td>12.9</td>\n",
              "      <td>14</td>\n",
              "      <td>11</td>\n",
              "      <td>3.0</td>\n",
              "      <td>NaN</td>\n",
              "      <td>NaN</td>\n",
              "      <td>Dibangun Tahun 2003</td>\n",
              "      <td>1</td>\n",
              "      <td>Blok M - Kota</td>\n",
              "      <td>14</td>\n",
              "      <td>12.9</td>\n",
              "      <td>650 m</td>\n",
              "      <td>90 Menit</td>\n",
              "      <td>60 Km/Jam</td>\n",
              "      <td>1</td>\n",
              "      <td>28084104</td>\n",
              "      <td>93950566124</td>\n",
              "      <td>3345.328949</td>\n",
              "      <td>2000</td>\n",
              "      <td>3500</td>\n",
              "      <td>98294364000</td>\n",
              "      <td>4343797876</td>\n",
              "      <td>2.895865e+06</td>\n",
              "      <td>89.69</td>\n",
              "      <td>10.311403</td>\n",
              "      <td>9.395057e+10</td>\n",
              "    </tr>\n",
              "    <tr>\n",
              "      <th>2</th>\n",
              "      <td>BRT</td>\n",
              "      <td>1</td>\n",
              "      <td>KORIDOR 1</td>\n",
              "      <td>2334201</td>\n",
              "      <td>3</td>\n",
              "      <td>Blok M - Kota</td>\n",
              "      <td>12.9</td>\n",
              "      <td>14</td>\n",
              "      <td>11</td>\n",
              "      <td>3.0</td>\n",
              "      <td>NaN</td>\n",
              "      <td>NaN</td>\n",
              "      <td>Dibangun Tahun 2003</td>\n",
              "      <td>1</td>\n",
              "      <td>Blok M - Kota</td>\n",
              "      <td>14</td>\n",
              "      <td>12.9</td>\n",
              "      <td>650 m</td>\n",
              "      <td>90 Menit</td>\n",
              "      <td>60 Km/Jam</td>\n",
              "      <td>1</td>\n",
              "      <td>28084104</td>\n",
              "      <td>93950566124</td>\n",
              "      <td>3345.328949</td>\n",
              "      <td>2000</td>\n",
              "      <td>3500</td>\n",
              "      <td>98294364000</td>\n",
              "      <td>4343797876</td>\n",
              "      <td>2.895865e+06</td>\n",
              "      <td>89.69</td>\n",
              "      <td>10.311403</td>\n",
              "      <td>9.395057e+10</td>\n",
              "    </tr>\n",
              "    <tr>\n",
              "      <th>3</th>\n",
              "      <td>BRT</td>\n",
              "      <td>1</td>\n",
              "      <td>KORIDOR 1 (BLOK M - KOTA)</td>\n",
              "      <td>2207527</td>\n",
              "      <td>4</td>\n",
              "      <td>Blok M - Kota</td>\n",
              "      <td>12.9</td>\n",
              "      <td>14</td>\n",
              "      <td>11</td>\n",
              "      <td>3.0</td>\n",
              "      <td>NaN</td>\n",
              "      <td>NaN</td>\n",
              "      <td>Dibangun Tahun 2003</td>\n",
              "      <td>1</td>\n",
              "      <td>Blok M - Kota</td>\n",
              "      <td>14</td>\n",
              "      <td>12.9</td>\n",
              "      <td>650 m</td>\n",
              "      <td>90 Menit</td>\n",
              "      <td>60 Km/Jam</td>\n",
              "      <td>1</td>\n",
              "      <td>28084104</td>\n",
              "      <td>93950566124</td>\n",
              "      <td>3345.328949</td>\n",
              "      <td>2000</td>\n",
              "      <td>3500</td>\n",
              "      <td>98294364000</td>\n",
              "      <td>4343797876</td>\n",
              "      <td>2.895865e+06</td>\n",
              "      <td>89.69</td>\n",
              "      <td>10.311403</td>\n",
              "      <td>9.395057e+10</td>\n",
              "    </tr>\n",
              "    <tr>\n",
              "      <th>4</th>\n",
              "      <td>BRT</td>\n",
              "      <td>1</td>\n",
              "      <td>KORIDOR 1 (BLOK M - KOTA)</td>\n",
              "      <td>2031443</td>\n",
              "      <td>5</td>\n",
              "      <td>Blok M - Kota</td>\n",
              "      <td>12.9</td>\n",
              "      <td>14</td>\n",
              "      <td>11</td>\n",
              "      <td>3.0</td>\n",
              "      <td>NaN</td>\n",
              "      <td>NaN</td>\n",
              "      <td>Dibangun Tahun 2003</td>\n",
              "      <td>1</td>\n",
              "      <td>Blok M - Kota</td>\n",
              "      <td>14</td>\n",
              "      <td>12.9</td>\n",
              "      <td>650 m</td>\n",
              "      <td>90 Menit</td>\n",
              "      <td>60 Km/Jam</td>\n",
              "      <td>1</td>\n",
              "      <td>28084104</td>\n",
              "      <td>93950566124</td>\n",
              "      <td>3345.328949</td>\n",
              "      <td>2000</td>\n",
              "      <td>3500</td>\n",
              "      <td>98294364000</td>\n",
              "      <td>4343797876</td>\n",
              "      <td>2.895865e+06</td>\n",
              "      <td>89.69</td>\n",
              "      <td>10.311403</td>\n",
              "      <td>9.395057e+10</td>\n",
              "    </tr>\n",
              "  </tbody>\n",
              "</table>\n",
              "</div>"
            ],
            "text/plain": [
              "  jenis  kode_trayek_x  ... Persentase Penumpang Tarif Pagi  Revenue_month\n",
              "0   BRT              1  ...                       10.311403   9.395057e+10\n",
              "1   BRT              1  ...                       10.311403   9.395057e+10\n",
              "2   BRT              1  ...                       10.311403   9.395057e+10\n",
              "3   BRT              1  ...                       10.311403   9.395057e+10\n",
              "4   BRT              1  ...                       10.311403   9.395057e+10\n",
              "\n",
              "[5 rows x 32 columns]"
            ]
          },
          "metadata": {},
          "execution_count": 43
        }
      ]
    },
    {
      "cell_type": "markdown",
      "metadata": {
        "id": "yzvELxLoNW8L"
      },
      "source": [
        "Data dibawah ini tidak memiliki peran penting dalam pengambilan insight sekaligus mendrop data yang berulang."
      ]
    },
    {
      "cell_type": "code",
      "metadata": {
        "id": "P1WMug-VKKzl"
      },
      "source": [
        "# data_2019.drop(columns=['trayek','penghubung','keterangan','kode_trayek','panjang_lintasan','koridor_y','jumlah_halte_y','Kecepatan_operasional_maks'],inplace=True)"
      ],
      "execution_count": null,
      "outputs": []
    },
    {
      "cell_type": "code",
      "metadata": {
        "id": "xyxZ2vKyCjM_"
      },
      "source": [
        "data_2019['Tahun']=2019"
      ],
      "execution_count": null,
      "outputs": []
    },
    {
      "cell_type": "markdown",
      "metadata": {
        "id": "BDfmr7pgHRrE"
      },
      "source": [
        "## Filter feature yang dibutuhkan"
      ]
    },
    {
      "cell_type": "code",
      "metadata": {
        "id": "_FYG0AZxGrVD"
      },
      "source": [
        "data_2019 = data_2019[['number_koridor','jenis','koridor_x','panjang_lintasan_km','jumlah_halte_x','jpo','pelican_(lokasi)','sky_walk_(lokasi)','Jarak_rata_rata_antar_ halte','Rata-Rata Tarif/Orang','bulan','Tahun','Waktu_tempuh_(one way)_rata_rata','jumlah_penumpang','Revenue_month']]"
      ],
      "execution_count": null,
      "outputs": []
    },
    {
      "cell_type": "code",
      "metadata": {
        "colab": {
          "base_uri": "https://localhost:8080/",
          "height": 692
        },
        "id": "6hb9rTc-KL5w",
        "outputId": "94e714f7-872a-4375-e584-4623e5e67ecc"
      },
      "source": [
        "data_2019.sample(10)"
      ],
      "execution_count": null,
      "outputs": [
        {
          "output_type": "execute_result",
          "data": {
            "text/html": [
              "<div>\n",
              "<style scoped>\n",
              "    .dataframe tbody tr th:only-of-type {\n",
              "        vertical-align: middle;\n",
              "    }\n",
              "\n",
              "    .dataframe tbody tr th {\n",
              "        vertical-align: top;\n",
              "    }\n",
              "\n",
              "    .dataframe thead th {\n",
              "        text-align: right;\n",
              "    }\n",
              "</style>\n",
              "<table border=\"1\" class=\"dataframe\">\n",
              "  <thead>\n",
              "    <tr style=\"text-align: right;\">\n",
              "      <th></th>\n",
              "      <th>number_koridor</th>\n",
              "      <th>jenis</th>\n",
              "      <th>koridor_x</th>\n",
              "      <th>panjang_lintasan_km</th>\n",
              "      <th>jumlah_halte_x</th>\n",
              "      <th>jpo</th>\n",
              "      <th>pelican_(lokasi)</th>\n",
              "      <th>sky_walk_(lokasi)</th>\n",
              "      <th>Jarak_rata_rata_antar_ halte</th>\n",
              "      <th>Rata-Rata Tarif/Orang</th>\n",
              "      <th>bulan</th>\n",
              "      <th>Tahun</th>\n",
              "      <th>Waktu_tempuh_(one way)_rata_rata</th>\n",
              "      <th>jumlah_penumpang</th>\n",
              "      <th>Revenue_month</th>\n",
              "    </tr>\n",
              "  </thead>\n",
              "  <tbody>\n",
              "    <tr>\n",
              "      <th>23</th>\n",
              "      <td>2</td>\n",
              "      <td>BRT</td>\n",
              "      <td>Pulo Gadung - Harmoni</td>\n",
              "      <td>14.30</td>\n",
              "      <td>22</td>\n",
              "      <td>12</td>\n",
              "      <td>10.0</td>\n",
              "      <td>NaN</td>\n",
              "      <td>700 - 800 m</td>\n",
              "      <td>2989.368799</td>\n",
              "      <td>12</td>\n",
              "      <td>2019</td>\n",
              "      <td>90 Menit</td>\n",
              "      <td>936927</td>\n",
              "      <td>2.991309e+10</td>\n",
              "    </tr>\n",
              "    <tr>\n",
              "      <th>112</th>\n",
              "      <td>10</td>\n",
              "      <td>BRT</td>\n",
              "      <td>Cililitan - Tanjung Priok</td>\n",
              "      <td>18.00</td>\n",
              "      <td>18</td>\n",
              "      <td>15</td>\n",
              "      <td>3.0</td>\n",
              "      <td>1.0</td>\n",
              "      <td>500 - 1.500 m</td>\n",
              "      <td>3285.759052</td>\n",
              "      <td>5</td>\n",
              "      <td>2019</td>\n",
              "      <td>110 Menit</td>\n",
              "      <td>751396</td>\n",
              "      <td>3.110909e+10</td>\n",
              "    </tr>\n",
              "    <tr>\n",
              "      <th>143</th>\n",
              "      <td>12</td>\n",
              "      <td>BRT</td>\n",
              "      <td>Pluit - Tanjung Priok</td>\n",
              "      <td>23.75</td>\n",
              "      <td>13</td>\n",
              "      <td>11</td>\n",
              "      <td>2.0</td>\n",
              "      <td>NaN</td>\n",
              "      <td>450 - 3.178 m</td>\n",
              "      <td>3207.158203</td>\n",
              "      <td>12</td>\n",
              "      <td>2019</td>\n",
              "      <td>240 Menit</td>\n",
              "      <td>303913</td>\n",
              "      <td>9.371416e+09</td>\n",
              "    </tr>\n",
              "    <tr>\n",
              "      <th>13</th>\n",
              "      <td>2</td>\n",
              "      <td>BRT</td>\n",
              "      <td>Pulo Gadung - Harmoni</td>\n",
              "      <td>14.30</td>\n",
              "      <td>22</td>\n",
              "      <td>12</td>\n",
              "      <td>10.0</td>\n",
              "      <td>NaN</td>\n",
              "      <td>700 - 800 m</td>\n",
              "      <td>2989.368799</td>\n",
              "      <td>2</td>\n",
              "      <td>2019</td>\n",
              "      <td>90 Menit</td>\n",
              "      <td>689898</td>\n",
              "      <td>2.991309e+10</td>\n",
              "    </tr>\n",
              "    <tr>\n",
              "      <th>87</th>\n",
              "      <td>8</td>\n",
              "      <td>BRT</td>\n",
              "      <td>Lebak Bulus - Harmoni</td>\n",
              "      <td>24.00</td>\n",
              "      <td>19</td>\n",
              "      <td>13</td>\n",
              "      <td>7.0</td>\n",
              "      <td>1.0</td>\n",
              "      <td>500 - 1.500 m</td>\n",
              "      <td>3252.769067</td>\n",
              "      <td>4</td>\n",
              "      <td>2019</td>\n",
              "      <td>120 Menit</td>\n",
              "      <td>962541</td>\n",
              "      <td>3.982601e+10</td>\n",
              "    </tr>\n",
              "    <tr>\n",
              "      <th>29</th>\n",
              "      <td>3</td>\n",
              "      <td>BRT</td>\n",
              "      <td>Kalideres - Harmoni</td>\n",
              "      <td>18.70</td>\n",
              "      <td>13</td>\n",
              "      <td>12</td>\n",
              "      <td>1.0</td>\n",
              "      <td>NaN</td>\n",
              "      <td>700 - 800 m</td>\n",
              "      <td>3341.571378</td>\n",
              "      <td>6</td>\n",
              "      <td>2019</td>\n",
              "      <td>90 Menit</td>\n",
              "      <td>838896</td>\n",
              "      <td>3.997528e+10</td>\n",
              "    </tr>\n",
              "    <tr>\n",
              "      <th>100</th>\n",
              "      <td>9</td>\n",
              "      <td>BRT</td>\n",
              "      <td>Pinang Ranti - Pluit</td>\n",
              "      <td>28.45</td>\n",
              "      <td>23</td>\n",
              "      <td>16</td>\n",
              "      <td>7.0</td>\n",
              "      <td>2.0</td>\n",
              "      <td>500 - 1.500 m</td>\n",
              "      <td>3213.985232</td>\n",
              "      <td>5</td>\n",
              "      <td>2019</td>\n",
              "      <td>190 Menit</td>\n",
              "      <td>1382629</td>\n",
              "      <td>5.548379e+10</td>\n",
              "    </tr>\n",
              "    <tr>\n",
              "      <th>27</th>\n",
              "      <td>3</td>\n",
              "      <td>BRT</td>\n",
              "      <td>Kalideres - Harmoni</td>\n",
              "      <td>18.70</td>\n",
              "      <td>13</td>\n",
              "      <td>12</td>\n",
              "      <td>1.0</td>\n",
              "      <td>NaN</td>\n",
              "      <td>700 - 800 m</td>\n",
              "      <td>3341.571378</td>\n",
              "      <td>4</td>\n",
              "      <td>2019</td>\n",
              "      <td>90 Menit</td>\n",
              "      <td>917720</td>\n",
              "      <td>3.997528e+10</td>\n",
              "    </tr>\n",
              "    <tr>\n",
              "      <th>140</th>\n",
              "      <td>12</td>\n",
              "      <td>BRT</td>\n",
              "      <td>Pluit - Tanjung Priok</td>\n",
              "      <td>23.75</td>\n",
              "      <td>13</td>\n",
              "      <td>11</td>\n",
              "      <td>2.0</td>\n",
              "      <td>NaN</td>\n",
              "      <td>450 - 3.178 m</td>\n",
              "      <td>3207.158203</td>\n",
              "      <td>9</td>\n",
              "      <td>2019</td>\n",
              "      <td>240 Menit</td>\n",
              "      <td>264535</td>\n",
              "      <td>9.371416e+09</td>\n",
              "    </tr>\n",
              "    <tr>\n",
              "      <th>133</th>\n",
              "      <td>12</td>\n",
              "      <td>BRT</td>\n",
              "      <td>Pluit - Tanjung Priok</td>\n",
              "      <td>23.75</td>\n",
              "      <td>13</td>\n",
              "      <td>11</td>\n",
              "      <td>2.0</td>\n",
              "      <td>NaN</td>\n",
              "      <td>450 - 3.178 m</td>\n",
              "      <td>3207.158203</td>\n",
              "      <td>2</td>\n",
              "      <td>2019</td>\n",
              "      <td>240 Menit</td>\n",
              "      <td>189321</td>\n",
              "      <td>9.371416e+09</td>\n",
              "    </tr>\n",
              "  </tbody>\n",
              "</table>\n",
              "</div>"
            ],
            "text/plain": [
              "     number_koridor jenis  ... jumlah_penumpang  Revenue_month\n",
              "23                2   BRT  ...           936927   2.991309e+10\n",
              "112              10   BRT  ...           751396   3.110909e+10\n",
              "143              12   BRT  ...           303913   9.371416e+09\n",
              "13                2   BRT  ...           689898   2.991309e+10\n",
              "87                8   BRT  ...           962541   3.982601e+10\n",
              "29                3   BRT  ...           838896   3.997528e+10\n",
              "100               9   BRT  ...          1382629   5.548379e+10\n",
              "27                3   BRT  ...           917720   3.997528e+10\n",
              "140              12   BRT  ...           264535   9.371416e+09\n",
              "133              12   BRT  ...           189321   9.371416e+09\n",
              "\n",
              "[10 rows x 15 columns]"
            ]
          },
          "metadata": {},
          "execution_count": 46
        }
      ]
    },
    {
      "cell_type": "code",
      "metadata": {
        "id": "AiTeq1WGtvlv"
      },
      "source": [
        "# data_2019_Clean['Jarak_rata_rata_antar_halte']=data_2019_Clean['Jarak_rata_rata_antar_halte'].str.extract('(\\d+)')   #harus dihandle lagi karena ada 2 int didalamnya.\n",
        "data_2019['Waktu_tempuh_(one way)_rata_rata']=data_2019['Waktu_tempuh_(one way)_rata_rata'].str.extract('(\\d+)')\n",
        "# data_2019['Kecepatan_operasional_maks']=data_2019['Kecepatan_operasional_maks'].str.extract('(\\d+)')"
      ],
      "execution_count": null,
      "outputs": []
    },
    {
      "cell_type": "code",
      "metadata": {
        "colab": {
          "base_uri": "https://localhost:8080/"
        },
        "id": "E2vxq0_Btvdb",
        "outputId": "35a1b2c0-ed53-4686-f85b-6228c24d9491"
      },
      "source": [
        "data_2019['Waktu_tempuh_(one way)_rata_rata']"
      ],
      "execution_count": null,
      "outputs": [
        {
          "output_type": "execute_result",
          "data": {
            "text/plain": [
              "0       90\n",
              "1       90\n",
              "2       90\n",
              "3       90\n",
              "4       90\n",
              "      ... \n",
              "151    NaN\n",
              "152    NaN\n",
              "153    NaN\n",
              "154    NaN\n",
              "155    NaN\n",
              "Name: Waktu_tempuh_(one way)_rata_rata, Length: 156, dtype: object"
            ]
          },
          "metadata": {},
          "execution_count": 48
        }
      ]
    },
    {
      "cell_type": "markdown",
      "metadata": {
        "id": "QWudGpK4zyuq"
      },
      "source": [
        "## Handling Missing value"
      ]
    },
    {
      "cell_type": "code",
      "metadata": {
        "colab": {
          "base_uri": "https://localhost:8080/"
        },
        "id": "yErq0fgPGrmn",
        "outputId": "f6ecb207-fe54-4f09-cd14-d8a3baf8e845"
      },
      "source": [
        "data_2019.isnull().sum()"
      ],
      "execution_count": null,
      "outputs": [
        {
          "output_type": "execute_result",
          "data": {
            "text/plain": [
              "number_koridor                       0\n",
              "jenis                                0\n",
              "koridor_x                            0\n",
              "panjang_lintasan_km                  0\n",
              "jumlah_halte_x                       0\n",
              "jpo                                  0\n",
              "pelican_(lokasi)                    12\n",
              "sky_walk_(lokasi)                   84\n",
              "Jarak_rata_rata_antar_ halte         0\n",
              "Rata-Rata Tarif/Orang                0\n",
              "bulan                                0\n",
              "Tahun                                0\n",
              "Waktu_tempuh_(one way)_rata_rata    12\n",
              "jumlah_penumpang                     0\n",
              "Revenue_month                        0\n",
              "dtype: int64"
            ]
          },
          "metadata": {},
          "execution_count": 49
        }
      ]
    },
    {
      "cell_type": "markdown",
      "metadata": {
        "id": "-cFE2R-LM0Vn"
      },
      "source": [
        "Nilai yang null lebih tepat digantikan dengan data nilai 0."
      ]
    },
    {
      "cell_type": "code",
      "metadata": {
        "id": "43HBx2F2Grdt"
      },
      "source": [
        "data_2019 = data_2019.fillna(0)"
      ],
      "execution_count": null,
      "outputs": []
    },
    {
      "cell_type": "code",
      "metadata": {
        "id": "1ZfV_z4s46o9"
      },
      "source": [
        "# data_2019['Kecepatan_operasional_maks']=data_2019['Kecepatan_operasional_maks'].astype('int64')\n",
        "data_2019['Waktu_tempuh_(one way)_rata_rata']=data_2019['Waktu_tempuh_(one way)_rata_rata'].astype('int64')"
      ],
      "execution_count": null,
      "outputs": []
    },
    {
      "cell_type": "code",
      "metadata": {
        "colab": {
          "base_uri": "https://localhost:8080/",
          "height": 758
        },
        "id": "apZkWoRJtvUa",
        "outputId": "eb4ddfcb-15fd-4776-928d-bc1f62bdd844"
      },
      "source": [
        "data_2019.sample(10)"
      ],
      "execution_count": null,
      "outputs": [
        {
          "output_type": "execute_result",
          "data": {
            "text/html": [
              "<div>\n",
              "<style scoped>\n",
              "    .dataframe tbody tr th:only-of-type {\n",
              "        vertical-align: middle;\n",
              "    }\n",
              "\n",
              "    .dataframe tbody tr th {\n",
              "        vertical-align: top;\n",
              "    }\n",
              "\n",
              "    .dataframe thead th {\n",
              "        text-align: right;\n",
              "    }\n",
              "</style>\n",
              "<table border=\"1\" class=\"dataframe\">\n",
              "  <thead>\n",
              "    <tr style=\"text-align: right;\">\n",
              "      <th></th>\n",
              "      <th>number_koridor</th>\n",
              "      <th>jenis</th>\n",
              "      <th>koridor_x</th>\n",
              "      <th>panjang_lintasan_km</th>\n",
              "      <th>jumlah_halte_x</th>\n",
              "      <th>jpo</th>\n",
              "      <th>pelican_(lokasi)</th>\n",
              "      <th>sky_walk_(lokasi)</th>\n",
              "      <th>Jarak_rata_rata_antar_ halte</th>\n",
              "      <th>Rata-Rata Tarif/Orang</th>\n",
              "      <th>bulan</th>\n",
              "      <th>Tahun</th>\n",
              "      <th>Waktu_tempuh_(one way)_rata_rata</th>\n",
              "      <th>jumlah_penumpang</th>\n",
              "      <th>Revenue_month</th>\n",
              "    </tr>\n",
              "  </thead>\n",
              "  <tbody>\n",
              "    <tr>\n",
              "      <th>86</th>\n",
              "      <td>8</td>\n",
              "      <td>BRT</td>\n",
              "      <td>Lebak Bulus - Harmoni</td>\n",
              "      <td>24.00</td>\n",
              "      <td>19</td>\n",
              "      <td>13</td>\n",
              "      <td>7.0</td>\n",
              "      <td>1.0</td>\n",
              "      <td>500 - 1.500 m</td>\n",
              "      <td>3252.769067</td>\n",
              "      <td>3</td>\n",
              "      <td>2019</td>\n",
              "      <td>120</td>\n",
              "      <td>982084</td>\n",
              "      <td>3.982601e+10</td>\n",
              "    </tr>\n",
              "    <tr>\n",
              "      <th>103</th>\n",
              "      <td>9</td>\n",
              "      <td>BRT</td>\n",
              "      <td>Pinang Ranti - Pluit</td>\n",
              "      <td>28.45</td>\n",
              "      <td>23</td>\n",
              "      <td>16</td>\n",
              "      <td>7.0</td>\n",
              "      <td>2.0</td>\n",
              "      <td>500 - 1.500 m</td>\n",
              "      <td>3213.985232</td>\n",
              "      <td>8</td>\n",
              "      <td>2019</td>\n",
              "      <td>190</td>\n",
              "      <td>1506442</td>\n",
              "      <td>5.548379e+10</td>\n",
              "    </tr>\n",
              "    <tr>\n",
              "      <th>96</th>\n",
              "      <td>9</td>\n",
              "      <td>BRT</td>\n",
              "      <td>Pinang Ranti - Pluit</td>\n",
              "      <td>28.45</td>\n",
              "      <td>23</td>\n",
              "      <td>16</td>\n",
              "      <td>7.0</td>\n",
              "      <td>2.0</td>\n",
              "      <td>500 - 1.500 m</td>\n",
              "      <td>3213.985232</td>\n",
              "      <td>1</td>\n",
              "      <td>2019</td>\n",
              "      <td>190</td>\n",
              "      <td>1408962</td>\n",
              "      <td>5.548379e+10</td>\n",
              "    </tr>\n",
              "    <tr>\n",
              "      <th>42</th>\n",
              "      <td>4</td>\n",
              "      <td>BRT</td>\n",
              "      <td>Pulo Gadung - Dukuh Atas</td>\n",
              "      <td>11.85</td>\n",
              "      <td>16</td>\n",
              "      <td>10</td>\n",
              "      <td>5.0</td>\n",
              "      <td>2.0</td>\n",
              "      <td>700 - 800 m</td>\n",
              "      <td>3297.443008</td>\n",
              "      <td>7</td>\n",
              "      <td>2019</td>\n",
              "      <td>90</td>\n",
              "      <td>809767</td>\n",
              "      <td>2.945549e+10</td>\n",
              "    </tr>\n",
              "    <tr>\n",
              "      <th>73</th>\n",
              "      <td>7</td>\n",
              "      <td>BRT</td>\n",
              "      <td>Kampung Rambutan - Kampung Melayu</td>\n",
              "      <td>12.80</td>\n",
              "      <td>13</td>\n",
              "      <td>9</td>\n",
              "      <td>4.0</td>\n",
              "      <td>0.0</td>\n",
              "      <td>500 - 1.500 m</td>\n",
              "      <td>2959.164617</td>\n",
              "      <td>2</td>\n",
              "      <td>2019</td>\n",
              "      <td>100</td>\n",
              "      <td>778593</td>\n",
              "      <td>3.437960e+10</td>\n",
              "    </tr>\n",
              "    <tr>\n",
              "      <th>99</th>\n",
              "      <td>9</td>\n",
              "      <td>BRT</td>\n",
              "      <td>Pinang Ranti - Pluit</td>\n",
              "      <td>28.45</td>\n",
              "      <td>23</td>\n",
              "      <td>16</td>\n",
              "      <td>7.0</td>\n",
              "      <td>2.0</td>\n",
              "      <td>500 - 1.500 m</td>\n",
              "      <td>3213.985232</td>\n",
              "      <td>4</td>\n",
              "      <td>2019</td>\n",
              "      <td>190</td>\n",
              "      <td>1347706</td>\n",
              "      <td>5.548379e+10</td>\n",
              "    </tr>\n",
              "    <tr>\n",
              "      <th>154</th>\n",
              "      <td>13</td>\n",
              "      <td>BRT</td>\n",
              "      <td>Ekstension Pulo Gadung - Bekasi</td>\n",
              "      <td>16.16</td>\n",
              "      <td>7</td>\n",
              "      <td>7</td>\n",
              "      <td>0.0</td>\n",
              "      <td>0.0</td>\n",
              "      <td>690 - 1200 m</td>\n",
              "      <td>3139.816401</td>\n",
              "      <td>11</td>\n",
              "      <td>2019</td>\n",
              "      <td>0</td>\n",
              "      <td>846227</td>\n",
              "      <td>2.702821e+10</td>\n",
              "    </tr>\n",
              "    <tr>\n",
              "      <th>0</th>\n",
              "      <td>1</td>\n",
              "      <td>BRT</td>\n",
              "      <td>Blok M - Kota</td>\n",
              "      <td>12.90</td>\n",
              "      <td>14</td>\n",
              "      <td>11</td>\n",
              "      <td>3.0</td>\n",
              "      <td>0.0</td>\n",
              "      <td>650 m</td>\n",
              "      <td>3345.328949</td>\n",
              "      <td>1</td>\n",
              "      <td>2019</td>\n",
              "      <td>90</td>\n",
              "      <td>2223257</td>\n",
              "      <td>9.395057e+10</td>\n",
              "    </tr>\n",
              "    <tr>\n",
              "      <th>134</th>\n",
              "      <td>12</td>\n",
              "      <td>BRT</td>\n",
              "      <td>Pluit - Tanjung Priok</td>\n",
              "      <td>23.75</td>\n",
              "      <td>13</td>\n",
              "      <td>11</td>\n",
              "      <td>2.0</td>\n",
              "      <td>0.0</td>\n",
              "      <td>450 - 3.178 m</td>\n",
              "      <td>3207.158203</td>\n",
              "      <td>3</td>\n",
              "      <td>2019</td>\n",
              "      <td>240</td>\n",
              "      <td>217568</td>\n",
              "      <td>9.371416e+09</td>\n",
              "    </tr>\n",
              "    <tr>\n",
              "      <th>52</th>\n",
              "      <td>5</td>\n",
              "      <td>BRT</td>\n",
              "      <td>Kampung Melayu - Ancol</td>\n",
              "      <td>15.50</td>\n",
              "      <td>17</td>\n",
              "      <td>14</td>\n",
              "      <td>2.0</td>\n",
              "      <td>2.0</td>\n",
              "      <td>450 - 2.250 m</td>\n",
              "      <td>3193.306160</td>\n",
              "      <td>5</td>\n",
              "      <td>2019</td>\n",
              "      <td>90</td>\n",
              "      <td>926056</td>\n",
              "      <td>3.814462e+10</td>\n",
              "    </tr>\n",
              "  </tbody>\n",
              "</table>\n",
              "</div>"
            ],
            "text/plain": [
              "     number_koridor jenis  ... jumlah_penumpang  Revenue_month\n",
              "86                8   BRT  ...           982084   3.982601e+10\n",
              "103               9   BRT  ...          1506442   5.548379e+10\n",
              "96                9   BRT  ...          1408962   5.548379e+10\n",
              "42                4   BRT  ...           809767   2.945549e+10\n",
              "73                7   BRT  ...           778593   3.437960e+10\n",
              "99                9   BRT  ...          1347706   5.548379e+10\n",
              "154              13   BRT  ...           846227   2.702821e+10\n",
              "0                 1   BRT  ...          2223257   9.395057e+10\n",
              "134              12   BRT  ...           217568   9.371416e+09\n",
              "52                5   BRT  ...           926056   3.814462e+10\n",
              "\n",
              "[10 rows x 15 columns]"
            ]
          },
          "metadata": {},
          "execution_count": 52
        }
      ]
    },
    {
      "cell_type": "markdown",
      "metadata": {
        "id": "DpBwhLmS61ax"
      },
      "source": [
        "## Modifikasi data waktu dan keceapatannya pada koridor 13"
      ]
    },
    {
      "cell_type": "code",
      "metadata": {
        "id": "or0rxi-Z6kAM"
      },
      "source": [
        "data_2019['Waktu_tempuh_(one way)_rata_rata'].replace(0,100,inplace=True)"
      ],
      "execution_count": null,
      "outputs": []
    },
    {
      "cell_type": "code",
      "metadata": {
        "id": "vgww_ShgANU7",
        "colab": {
          "base_uri": "https://localhost:8080/",
          "height": 488
        },
        "outputId": "ec4f6575-433b-475f-cbae-c1ea400a6cca"
      },
      "source": [
        "data_2019[data_2019['Waktu_tempuh_(one way)_rata_rata']==100].sample(5)"
      ],
      "execution_count": null,
      "outputs": [
        {
          "output_type": "execute_result",
          "data": {
            "text/html": [
              "<div>\n",
              "<style scoped>\n",
              "    .dataframe tbody tr th:only-of-type {\n",
              "        vertical-align: middle;\n",
              "    }\n",
              "\n",
              "    .dataframe tbody tr th {\n",
              "        vertical-align: top;\n",
              "    }\n",
              "\n",
              "    .dataframe thead th {\n",
              "        text-align: right;\n",
              "    }\n",
              "</style>\n",
              "<table border=\"1\" class=\"dataframe\">\n",
              "  <thead>\n",
              "    <tr style=\"text-align: right;\">\n",
              "      <th></th>\n",
              "      <th>number_koridor</th>\n",
              "      <th>jenis</th>\n",
              "      <th>koridor_x</th>\n",
              "      <th>panjang_lintasan_km</th>\n",
              "      <th>jumlah_halte_x</th>\n",
              "      <th>jpo</th>\n",
              "      <th>pelican_(lokasi)</th>\n",
              "      <th>sky_walk_(lokasi)</th>\n",
              "      <th>Jarak_rata_rata_antar_ halte</th>\n",
              "      <th>Rata-Rata Tarif/Orang</th>\n",
              "      <th>bulan</th>\n",
              "      <th>Tahun</th>\n",
              "      <th>Waktu_tempuh_(one way)_rata_rata</th>\n",
              "      <th>jumlah_penumpang</th>\n",
              "      <th>Revenue_month</th>\n",
              "    </tr>\n",
              "  </thead>\n",
              "  <tbody>\n",
              "    <tr>\n",
              "      <th>81</th>\n",
              "      <td>7</td>\n",
              "      <td>BRT</td>\n",
              "      <td>Kampung Rambutan - Kampung Melayu</td>\n",
              "      <td>12.80</td>\n",
              "      <td>13</td>\n",
              "      <td>9</td>\n",
              "      <td>4.0</td>\n",
              "      <td>0.0</td>\n",
              "      <td>500 - 1.500 m</td>\n",
              "      <td>2959.164617</td>\n",
              "      <td>10</td>\n",
              "      <td>2019</td>\n",
              "      <td>100</td>\n",
              "      <td>1041480</td>\n",
              "      <td>3.437960e+10</td>\n",
              "    </tr>\n",
              "    <tr>\n",
              "      <th>146</th>\n",
              "      <td>13</td>\n",
              "      <td>BRT</td>\n",
              "      <td>Ekstension Pulo Gadung - Bekasi</td>\n",
              "      <td>16.16</td>\n",
              "      <td>7</td>\n",
              "      <td>7</td>\n",
              "      <td>0.0</td>\n",
              "      <td>0.0</td>\n",
              "      <td>690 - 1200 m</td>\n",
              "      <td>3139.816401</td>\n",
              "      <td>3</td>\n",
              "      <td>2019</td>\n",
              "      <td>100</td>\n",
              "      <td>679171</td>\n",
              "      <td>2.702821e+10</td>\n",
              "    </tr>\n",
              "    <tr>\n",
              "      <th>153</th>\n",
              "      <td>13</td>\n",
              "      <td>BRT</td>\n",
              "      <td>Ekstension Pulo Gadung - Bekasi</td>\n",
              "      <td>16.16</td>\n",
              "      <td>7</td>\n",
              "      <td>7</td>\n",
              "      <td>0.0</td>\n",
              "      <td>0.0</td>\n",
              "      <td>690 - 1200 m</td>\n",
              "      <td>3139.816401</td>\n",
              "      <td>10</td>\n",
              "      <td>2019</td>\n",
              "      <td>100</td>\n",
              "      <td>783995</td>\n",
              "      <td>2.702821e+10</td>\n",
              "    </tr>\n",
              "    <tr>\n",
              "      <th>144</th>\n",
              "      <td>13</td>\n",
              "      <td>BRT</td>\n",
              "      <td>Ekstension Pulo Gadung - Bekasi</td>\n",
              "      <td>16.16</td>\n",
              "      <td>7</td>\n",
              "      <td>7</td>\n",
              "      <td>0.0</td>\n",
              "      <td>0.0</td>\n",
              "      <td>690 - 1200 m</td>\n",
              "      <td>3139.816401</td>\n",
              "      <td>1</td>\n",
              "      <td>2019</td>\n",
              "      <td>100</td>\n",
              "      <td>654831</td>\n",
              "      <td>2.702821e+10</td>\n",
              "    </tr>\n",
              "    <tr>\n",
              "      <th>152</th>\n",
              "      <td>13</td>\n",
              "      <td>BRT</td>\n",
              "      <td>Ekstension Pulo Gadung - Bekasi</td>\n",
              "      <td>16.16</td>\n",
              "      <td>7</td>\n",
              "      <td>7</td>\n",
              "      <td>0.0</td>\n",
              "      <td>0.0</td>\n",
              "      <td>690 - 1200 m</td>\n",
              "      <td>3139.816401</td>\n",
              "      <td>9</td>\n",
              "      <td>2019</td>\n",
              "      <td>100</td>\n",
              "      <td>783995</td>\n",
              "      <td>2.702821e+10</td>\n",
              "    </tr>\n",
              "  </tbody>\n",
              "</table>\n",
              "</div>"
            ],
            "text/plain": [
              "     number_koridor jenis  ... jumlah_penumpang  Revenue_month\n",
              "81                7   BRT  ...          1041480   3.437960e+10\n",
              "146              13   BRT  ...           679171   2.702821e+10\n",
              "153              13   BRT  ...           783995   2.702821e+10\n",
              "144              13   BRT  ...           654831   2.702821e+10\n",
              "152              13   BRT  ...           783995   2.702821e+10\n",
              "\n",
              "[5 rows x 15 columns]"
            ]
          },
          "metadata": {},
          "execution_count": 54
        }
      ]
    },
    {
      "cell_type": "markdown",
      "metadata": {
        "id": "0vLrVVDGCbJo"
      },
      "source": [
        "# Pengabungan data tahun 2019 dan 2020"
      ]
    },
    {
      "cell_type": "code",
      "metadata": {
        "id": "9VkeTf7ZNnVt"
      },
      "source": [
        " data_2020 = pd.read_csv('/content/drive/MyDrive/Colab Notebooks/We_are_the_Champion/Umum_AXGEO_Team/Data_penumpang_tahun_2020.csv')"
      ],
      "execution_count": null,
      "outputs": []
    },
    {
      "cell_type": "code",
      "metadata": {
        "id": "W-cimfBUCayT"
      },
      "source": [
        "data = data_2019.append(data_2020)"
      ],
      "execution_count": null,
      "outputs": []
    },
    {
      "cell_type": "code",
      "metadata": {
        "colab": {
          "base_uri": "https://localhost:8080/"
        },
        "id": "3Lx7wH94Cau2",
        "outputId": "ea77c84d-76bb-402d-f16e-fc09ecac3b9e"
      },
      "source": [
        "data.info()"
      ],
      "execution_count": null,
      "outputs": [
        {
          "output_type": "stream",
          "name": "stdout",
          "text": [
            "<class 'pandas.core.frame.DataFrame'>\n",
            "Int64Index: 234 entries, 0 to 77\n",
            "Data columns (total 15 columns):\n",
            " #   Column                            Non-Null Count  Dtype  \n",
            "---  ------                            --------------  -----  \n",
            " 0   number_koridor                    234 non-null    int64  \n",
            " 1   jenis                             234 non-null    object \n",
            " 2   koridor_x                         234 non-null    object \n",
            " 3   panjang_lintasan_km               234 non-null    float64\n",
            " 4   jumlah_halte_x                    234 non-null    int64  \n",
            " 5   jpo                               234 non-null    int64  \n",
            " 6   pelican_(lokasi)                  234 non-null    float64\n",
            " 7   sky_walk_(lokasi)                 234 non-null    float64\n",
            " 8   Jarak_rata_rata_antar_ halte      234 non-null    object \n",
            " 9   Rata-Rata Tarif/Orang             234 non-null    float64\n",
            " 10  bulan                             234 non-null    int64  \n",
            " 11  Tahun                             234 non-null    int64  \n",
            " 12  Waktu_tempuh_(one way)_rata_rata  234 non-null    int64  \n",
            " 13  jumlah_penumpang                  234 non-null    int64  \n",
            " 14  Revenue_month                     234 non-null    float64\n",
            "dtypes: float64(5), int64(7), object(3)\n",
            "memory usage: 29.2+ KB\n"
          ]
        }
      ]
    },
    {
      "cell_type": "code",
      "metadata": {
        "colab": {
          "base_uri": "https://localhost:8080/",
          "height": 775
        },
        "id": "xeNb2cLvOYr4",
        "outputId": "90f5a967-e558-4fa1-dd5b-cf1a4b4e8cc8"
      },
      "source": [
        "data.sample(10)"
      ],
      "execution_count": null,
      "outputs": [
        {
          "output_type": "execute_result",
          "data": {
            "text/html": [
              "<div>\n",
              "<style scoped>\n",
              "    .dataframe tbody tr th:only-of-type {\n",
              "        vertical-align: middle;\n",
              "    }\n",
              "\n",
              "    .dataframe tbody tr th {\n",
              "        vertical-align: top;\n",
              "    }\n",
              "\n",
              "    .dataframe thead th {\n",
              "        text-align: right;\n",
              "    }\n",
              "</style>\n",
              "<table border=\"1\" class=\"dataframe\">\n",
              "  <thead>\n",
              "    <tr style=\"text-align: right;\">\n",
              "      <th></th>\n",
              "      <th>number_koridor</th>\n",
              "      <th>jenis</th>\n",
              "      <th>koridor_x</th>\n",
              "      <th>panjang_lintasan_km</th>\n",
              "      <th>jumlah_halte_x</th>\n",
              "      <th>jpo</th>\n",
              "      <th>pelican_(lokasi)</th>\n",
              "      <th>sky_walk_(lokasi)</th>\n",
              "      <th>Jarak_rata_rata_antar_ halte</th>\n",
              "      <th>Rata-Rata Tarif/Orang</th>\n",
              "      <th>bulan</th>\n",
              "      <th>Tahun</th>\n",
              "      <th>Waktu_tempuh_(one way)_rata_rata</th>\n",
              "      <th>jumlah_penumpang</th>\n",
              "      <th>Revenue_month</th>\n",
              "    </tr>\n",
              "  </thead>\n",
              "  <tbody>\n",
              "    <tr>\n",
              "      <th>30</th>\n",
              "      <td>3</td>\n",
              "      <td>BRT</td>\n",
              "      <td>Kalideres - Harmoni</td>\n",
              "      <td>18.70</td>\n",
              "      <td>13</td>\n",
              "      <td>12</td>\n",
              "      <td>1.0</td>\n",
              "      <td>0.0</td>\n",
              "      <td>700 - 800 m</td>\n",
              "      <td>3341.571378</td>\n",
              "      <td>7</td>\n",
              "      <td>2019</td>\n",
              "      <td>90</td>\n",
              "      <td>1045636</td>\n",
              "      <td>3.997528e+10</td>\n",
              "    </tr>\n",
              "    <tr>\n",
              "      <th>125</th>\n",
              "      <td>11</td>\n",
              "      <td>BRT</td>\n",
              "      <td>Pulo Gebang - Kampung Melayu</td>\n",
              "      <td>11.35</td>\n",
              "      <td>14</td>\n",
              "      <td>14</td>\n",
              "      <td>1.0</td>\n",
              "      <td>2.0</td>\n",
              "      <td>360 - 1.250 m</td>\n",
              "      <td>3010.098463</td>\n",
              "      <td>6</td>\n",
              "      <td>2019</td>\n",
              "      <td>130</td>\n",
              "      <td>285162</td>\n",
              "      <td>1.103206e+10</td>\n",
              "    </tr>\n",
              "    <tr>\n",
              "      <th>45</th>\n",
              "      <td>4</td>\n",
              "      <td>BRT</td>\n",
              "      <td>Pulo Gadung - Dukuh Atas</td>\n",
              "      <td>11.85</td>\n",
              "      <td>16</td>\n",
              "      <td>10</td>\n",
              "      <td>5.0</td>\n",
              "      <td>2.0</td>\n",
              "      <td>700 - 800 m</td>\n",
              "      <td>3297.443008</td>\n",
              "      <td>10</td>\n",
              "      <td>2019</td>\n",
              "      <td>90</td>\n",
              "      <td>855969</td>\n",
              "      <td>2.945549e+10</td>\n",
              "    </tr>\n",
              "    <tr>\n",
              "      <th>80</th>\n",
              "      <td>7</td>\n",
              "      <td>BRT</td>\n",
              "      <td>Kampung Rambutan - Kampung Melayu</td>\n",
              "      <td>12.80</td>\n",
              "      <td>13</td>\n",
              "      <td>9</td>\n",
              "      <td>4.0</td>\n",
              "      <td>0.0</td>\n",
              "      <td>500 - 1.500 m</td>\n",
              "      <td>2959.164617</td>\n",
              "      <td>9</td>\n",
              "      <td>2019</td>\n",
              "      <td>100</td>\n",
              "      <td>1041480</td>\n",
              "      <td>3.437960e+10</td>\n",
              "    </tr>\n",
              "    <tr>\n",
              "      <th>126</th>\n",
              "      <td>11</td>\n",
              "      <td>BRT</td>\n",
              "      <td>Pulo Gebang - Kampung Melayu</td>\n",
              "      <td>11.35</td>\n",
              "      <td>14</td>\n",
              "      <td>14</td>\n",
              "      <td>1.0</td>\n",
              "      <td>2.0</td>\n",
              "      <td>360 - 1.250 m</td>\n",
              "      <td>3010.098463</td>\n",
              "      <td>7</td>\n",
              "      <td>2019</td>\n",
              "      <td>130</td>\n",
              "      <td>337129</td>\n",
              "      <td>1.103206e+10</td>\n",
              "    </tr>\n",
              "    <tr>\n",
              "      <th>48</th>\n",
              "      <td>9</td>\n",
              "      <td>BRT</td>\n",
              "      <td>Pinang Ranti - Pluit</td>\n",
              "      <td>28.45</td>\n",
              "      <td>23</td>\n",
              "      <td>16</td>\n",
              "      <td>7.0</td>\n",
              "      <td>2.0</td>\n",
              "      <td>500 - 1.500 m</td>\n",
              "      <td>3189.344037</td>\n",
              "      <td>2</td>\n",
              "      <td>2020</td>\n",
              "      <td>190</td>\n",
              "      <td>1577635</td>\n",
              "      <td>5.031621e+09</td>\n",
              "    </tr>\n",
              "    <tr>\n",
              "      <th>56</th>\n",
              "      <td>5</td>\n",
              "      <td>BRT</td>\n",
              "      <td>Kampung Melayu - Ancol</td>\n",
              "      <td>15.50</td>\n",
              "      <td>17</td>\n",
              "      <td>14</td>\n",
              "      <td>2.0</td>\n",
              "      <td>2.0</td>\n",
              "      <td>450 - 2.250 m</td>\n",
              "      <td>3193.306160</td>\n",
              "      <td>9</td>\n",
              "      <td>2019</td>\n",
              "      <td>90</td>\n",
              "      <td>1087309</td>\n",
              "      <td>3.814462e+10</td>\n",
              "    </tr>\n",
              "    <tr>\n",
              "      <th>56</th>\n",
              "      <td>10</td>\n",
              "      <td>BRT</td>\n",
              "      <td>Cililitan - Tanjung Priok</td>\n",
              "      <td>18.00</td>\n",
              "      <td>18</td>\n",
              "      <td>15</td>\n",
              "      <td>3.0</td>\n",
              "      <td>1.0</td>\n",
              "      <td>500 - 1.500 m</td>\n",
              "      <td>3112.357441</td>\n",
              "      <td>7</td>\n",
              "      <td>2020</td>\n",
              "      <td>110</td>\n",
              "      <td>286734</td>\n",
              "      <td>8.924187e+08</td>\n",
              "    </tr>\n",
              "    <tr>\n",
              "      <th>26</th>\n",
              "      <td>5</td>\n",
              "      <td>BRT</td>\n",
              "      <td>Kampung Melayu - Ancol</td>\n",
              "      <td>15.50</td>\n",
              "      <td>17</td>\n",
              "      <td>14</td>\n",
              "      <td>2.0</td>\n",
              "      <td>2.0</td>\n",
              "      <td>450 - 2.250 m</td>\n",
              "      <td>3098.974755</td>\n",
              "      <td>7</td>\n",
              "      <td>2020</td>\n",
              "      <td>90</td>\n",
              "      <td>344332</td>\n",
              "      <td>1.067076e+09</td>\n",
              "    </tr>\n",
              "    <tr>\n",
              "      <th>92</th>\n",
              "      <td>8</td>\n",
              "      <td>BRT</td>\n",
              "      <td>Lebak Bulus - Harmoni</td>\n",
              "      <td>24.00</td>\n",
              "      <td>19</td>\n",
              "      <td>13</td>\n",
              "      <td>7.0</td>\n",
              "      <td>1.0</td>\n",
              "      <td>500 - 1.500 m</td>\n",
              "      <td>3252.769067</td>\n",
              "      <td>9</td>\n",
              "      <td>2019</td>\n",
              "      <td>120</td>\n",
              "      <td>1107208</td>\n",
              "      <td>3.982601e+10</td>\n",
              "    </tr>\n",
              "  </tbody>\n",
              "</table>\n",
              "</div>"
            ],
            "text/plain": [
              "     number_koridor jenis  ... jumlah_penumpang  Revenue_month\n",
              "30                3   BRT  ...          1045636   3.997528e+10\n",
              "125              11   BRT  ...           285162   1.103206e+10\n",
              "45                4   BRT  ...           855969   2.945549e+10\n",
              "80                7   BRT  ...          1041480   3.437960e+10\n",
              "126              11   BRT  ...           337129   1.103206e+10\n",
              "48                9   BRT  ...          1577635   5.031621e+09\n",
              "56                5   BRT  ...          1087309   3.814462e+10\n",
              "56               10   BRT  ...           286734   8.924187e+08\n",
              "26                5   BRT  ...           344332   1.067076e+09\n",
              "92                8   BRT  ...          1107208   3.982601e+10\n",
              "\n",
              "[10 rows x 15 columns]"
            ]
          },
          "metadata": {},
          "execution_count": 58
        }
      ]
    },
    {
      "cell_type": "markdown",
      "metadata": {
        "id": "MwHMtwmeChh-"
      },
      "source": [
        "## Persiapan data untuk Clustering"
      ]
    },
    {
      "cell_type": "code",
      "metadata": {
        "id": "N1ak3L8oKLtN"
      },
      "source": [
        "df = data[['jumlah_penumpang','Revenue_month','panjang_lintasan_km']] #,'Waktu_tempuh_(one way)_rata_rata']] #,'panjang_lintasan_km','Waktu_tempuh_(one way)_rata_rata']]"
      ],
      "execution_count": null,
      "outputs": []
    },
    {
      "cell_type": "code",
      "metadata": {
        "colab": {
          "base_uri": "https://localhost:8080/",
          "height": 414
        },
        "id": "PRUHq64ZdD06",
        "outputId": "30630707-db2c-4bee-f29f-154f897142c9"
      },
      "source": [
        "df"
      ],
      "execution_count": null,
      "outputs": [
        {
          "output_type": "execute_result",
          "data": {
            "text/html": [
              "<div>\n",
              "<style scoped>\n",
              "    .dataframe tbody tr th:only-of-type {\n",
              "        vertical-align: middle;\n",
              "    }\n",
              "\n",
              "    .dataframe tbody tr th {\n",
              "        vertical-align: top;\n",
              "    }\n",
              "\n",
              "    .dataframe thead th {\n",
              "        text-align: right;\n",
              "    }\n",
              "</style>\n",
              "<table border=\"1\" class=\"dataframe\">\n",
              "  <thead>\n",
              "    <tr style=\"text-align: right;\">\n",
              "      <th></th>\n",
              "      <th>jumlah_penumpang</th>\n",
              "      <th>Revenue_month</th>\n",
              "      <th>panjang_lintasan_km</th>\n",
              "    </tr>\n",
              "  </thead>\n",
              "  <tbody>\n",
              "    <tr>\n",
              "      <th>0</th>\n",
              "      <td>2223257</td>\n",
              "      <td>9.395057e+10</td>\n",
              "      <td>12.90</td>\n",
              "    </tr>\n",
              "    <tr>\n",
              "      <th>1</th>\n",
              "      <td>1992685</td>\n",
              "      <td>9.395057e+10</td>\n",
              "      <td>12.90</td>\n",
              "    </tr>\n",
              "    <tr>\n",
              "      <th>2</th>\n",
              "      <td>2334201</td>\n",
              "      <td>9.395057e+10</td>\n",
              "      <td>12.90</td>\n",
              "    </tr>\n",
              "    <tr>\n",
              "      <th>3</th>\n",
              "      <td>2207527</td>\n",
              "      <td>9.395057e+10</td>\n",
              "      <td>12.90</td>\n",
              "    </tr>\n",
              "    <tr>\n",
              "      <th>4</th>\n",
              "      <td>2031443</td>\n",
              "      <td>9.395057e+10</td>\n",
              "      <td>12.90</td>\n",
              "    </tr>\n",
              "    <tr>\n",
              "      <th>...</th>\n",
              "      <td>...</td>\n",
              "      <td>...</td>\n",
              "      <td>...</td>\n",
              "    </tr>\n",
              "    <tr>\n",
              "      <th>73</th>\n",
              "      <td>236609</td>\n",
              "      <td>7.466313e+08</td>\n",
              "      <td>16.16</td>\n",
              "    </tr>\n",
              "    <tr>\n",
              "      <th>74</th>\n",
              "      <td>242287</td>\n",
              "      <td>7.645485e+08</td>\n",
              "      <td>16.16</td>\n",
              "    </tr>\n",
              "    <tr>\n",
              "      <th>75</th>\n",
              "      <td>116316</td>\n",
              "      <td>3.670409e+08</td>\n",
              "      <td>16.16</td>\n",
              "    </tr>\n",
              "    <tr>\n",
              "      <th>76</th>\n",
              "      <td>305141</td>\n",
              "      <td>9.628874e+08</td>\n",
              "      <td>16.16</td>\n",
              "    </tr>\n",
              "    <tr>\n",
              "      <th>77</th>\n",
              "      <td>312831</td>\n",
              "      <td>9.871536e+08</td>\n",
              "      <td>16.16</td>\n",
              "    </tr>\n",
              "  </tbody>\n",
              "</table>\n",
              "<p>234 rows × 3 columns</p>\n",
              "</div>"
            ],
            "text/plain": [
              "    jumlah_penumpang  Revenue_month  panjang_lintasan_km\n",
              "0            2223257   9.395057e+10                12.90\n",
              "1            1992685   9.395057e+10                12.90\n",
              "2            2334201   9.395057e+10                12.90\n",
              "3            2207527   9.395057e+10                12.90\n",
              "4            2031443   9.395057e+10                12.90\n",
              "..               ...            ...                  ...\n",
              "73            236609   7.466313e+08                16.16\n",
              "74            242287   7.645485e+08                16.16\n",
              "75            116316   3.670409e+08                16.16\n",
              "76            305141   9.628874e+08                16.16\n",
              "77            312831   9.871536e+08                16.16\n",
              "\n",
              "[234 rows x 3 columns]"
            ]
          },
          "metadata": {},
          "execution_count": 60
        }
      ]
    },
    {
      "cell_type": "markdown",
      "metadata": {
        "id": "l8tlAB3KH0KI"
      },
      "source": [
        "### Overview distribusi data"
      ]
    },
    {
      "cell_type": "code",
      "metadata": {
        "colab": {
          "base_uri": "https://localhost:8080/",
          "height": 402
        },
        "id": "pazd7qwk9ysE",
        "outputId": "3abe2455-6f6d-431f-9446-900862da215b"
      },
      "source": [
        "plt.figure(figsize=(12,8))\n",
        "sns.displot(df,kind='kde')\n",
        "\n",
        "# list_feat =['jumlah_penumpang','Revenue_month','Waktu_tempuh_(one way)_rata_rata']\n",
        "# for i in list_feat:\n",
        "#   # plt.subplot(1,3,list_feat.index(i)+1)\n",
        "#   sns.displot(df,x='jumlah_penumpang',kind='kde')"
      ],
      "execution_count": null,
      "outputs": [
        {
          "output_type": "execute_result",
          "data": {
            "text/plain": [
              "<seaborn.axisgrid.FacetGrid at 0x7f969040d4d0>"
            ]
          },
          "metadata": {},
          "execution_count": 61
        },
        {
          "output_type": "display_data",
          "data": {
            "text/plain": [
              "<Figure size 864x576 with 0 Axes>"
            ]
          },
          "metadata": {}
        },
        {
          "output_type": "display_data",
          "data": {
            "image/png": "[encoded data removed]",
            "text/plain": [
              "<Figure size 490.125x360 with 1 Axes>"
            ]
          },
          "metadata": {
            "needs_background": "light"
          }
        }
      ]
    },
    {
      "cell_type": "code",
      "metadata": {
        "colab": {
          "base_uri": "https://localhost:8080/",
          "height": 956
        },
        "id": "iWwwkNkBFS67",
        "outputId": "f56bc947-0744-43dc-9754-e0a8c5665fd7"
      },
      "source": [
        "feat =['jumlah_penumpang','Revenue_month','panjang_lintasan_km']\n",
        "\n",
        "for i in range(0,len(feat)):\n",
        "  plt.figure(figsize=(17,4))\n",
        "  plt.subplot(1,3,i+1)\n",
        "  sns.boxplot(data = df,y=feat[i],orient='h')\n",
        "  plt.tight_layout()"
      ],
      "execution_count": null,
      "outputs": [
        {
          "output_type": "stream",
          "name": "stderr",
          "text": [
            "/usr/local/lib/python3.7/dist-packages/seaborn/_core.py:1319: UserWarning: Horizontal orientation ignored with only `y` specified.\n",
            "  warnings.warn(single_var_warning.format(\"Horizontal\", \"y\"))\n",
            "/usr/local/lib/python3.7/dist-packages/seaborn/_core.py:1319: UserWarning: Horizontal orientation ignored with only `y` specified.\n",
            "  warnings.warn(single_var_warning.format(\"Horizontal\", \"y\"))\n",
            "/usr/local/lib/python3.7/dist-packages/seaborn/_core.py:1319: UserWarning: Horizontal orientation ignored with only `y` specified.\n",
            "  warnings.warn(single_var_warning.format(\"Horizontal\", \"y\"))\n"
          ]
        },
        {
          "output_type": "display_data",
          "data": {
            "image/png": "[encoded data removed]",
            "text/plain": [
              "<Figure size 1224x288 with 1 Axes>"
            ]
          },
          "metadata": {
            "needs_background": "light"
          }
        },
        {
          "output_type": "display_data",
          "data": {
            "image/png": "[encoded data removed]",
            "text/plain": [
              "<Figure size 1224x288 with 1 Axes>"
            ]
          },
          "metadata": {
            "needs_background": "light"
          }
        },
        {
          "output_type": "display_data",
          "data": {
            "image/png": "[encoded data removed]",
            "text/plain": [
              "<Figure size 1224x288 with 1 Axes>"
            ]
          },
          "metadata": {
            "needs_background": "light"
          }
        }
      ]
    },
    {
      "cell_type": "markdown",
      "metadata": {
        "id": "EQzdAsM8F7vT"
      },
      "source": [
        "pengunaan MinMaxScaller berperan untuk mengantisipasi data outlier atau minmaxscaller lebih robust terhadap data outlier."
      ]
    },
    {
      "cell_type": "markdown",
      "metadata": {
        "id": "Zd84xR5bH6rJ"
      },
      "source": [
        "## Normalisasi/Standarisasi"
      ]
    },
    {
      "cell_type": "code",
      "metadata": {
        "id": "fC4bHKyjKLmk",
        "colab": {
          "base_uri": "https://localhost:8080/"
        },
        "outputId": "5f51bce5-6771-424f-aeaf-39ccdde3e9aa"
      },
      "source": [
        "features =['jumlah_penumpang','Revenue_month','panjang_lintasan_km'] #,'Waktu_tempuh_(one way)_rata_rata']\n",
        "\n",
        "from sklearn.preprocessing import MinMaxScaler, StandardScaler\n",
        "for var in features:\n",
        "    df[var]= MinMaxScaler().fit_transform(df[var].values.reshape(len(df), 1))"
      ],
      "execution_count": null,
      "outputs": [
        {
          "output_type": "stream",
          "name": "stderr",
          "text": [
            "/usr/local/lib/python3.7/dist-packages/ipykernel_launcher.py:5: SettingWithCopyWarning: \n",
            "A value is trying to be set on a copy of a slice from a DataFrame.\n",
            "Try using .loc[row_indexer,col_indexer] = value instead\n",
            "\n",
            "See the caveats in the documentation: https://pandas.pydata.org/pandas-docs/stable/user_guide/indexing.html#returning-a-view-versus-a-copy\n",
            "  \"\"\"\n",
            "/usr/local/lib/python3.7/dist-packages/ipykernel_launcher.py:5: SettingWithCopyWarning: \n",
            "A value is trying to be set on a copy of a slice from a DataFrame.\n",
            "Try using .loc[row_indexer,col_indexer] = value instead\n",
            "\n",
            "See the caveats in the documentation: https://pandas.pydata.org/pandas-docs/stable/user_guide/indexing.html#returning-a-view-versus-a-copy\n",
            "  \"\"\"\n",
            "/usr/local/lib/python3.7/dist-packages/ipykernel_launcher.py:5: SettingWithCopyWarning: \n",
            "A value is trying to be set on a copy of a slice from a DataFrame.\n",
            "Try using .loc[row_indexer,col_indexer] = value instead\n",
            "\n",
            "See the caveats in the documentation: https://pandas.pydata.org/pandas-docs/stable/user_guide/indexing.html#returning-a-view-versus-a-copy\n",
            "  \"\"\"\n"
          ]
        }
      ]
    },
    {
      "cell_type": "code",
      "metadata": {
        "id": "8fJZrK59E4NE"
      },
      "source": [
        "X = df[['jumlah_penumpang','Revenue_month','panjang_lintasan_km']] #,'Waktu_tempuh_(one way)_rata_rata']]"
      ],
      "execution_count": null,
      "outputs": []
    },
    {
      "cell_type": "code",
      "metadata": {
        "id": "ExbeOE7YN6tO",
        "colab": {
          "base_uri": "https://localhost:8080/",
          "height": 414
        },
        "outputId": "a59913bf-0c42-4b18-ab8b-a179b12bda21"
      },
      "source": [
        "X"
      ],
      "execution_count": null,
      "outputs": [
        {
          "output_type": "execute_result",
          "data": {
            "text/html": [
              "<div>\n",
              "<style scoped>\n",
              "    .dataframe tbody tr th:only-of-type {\n",
              "        vertical-align: middle;\n",
              "    }\n",
              "\n",
              "    .dataframe tbody tr th {\n",
              "        vertical-align: top;\n",
              "    }\n",
              "\n",
              "    .dataframe thead th {\n",
              "        text-align: right;\n",
              "    }\n",
              "</style>\n",
              "<table border=\"1\" class=\"dataframe\">\n",
              "  <thead>\n",
              "    <tr style=\"text-align: right;\">\n",
              "      <th></th>\n",
              "      <th>jumlah_penumpang</th>\n",
              "      <th>Revenue_month</th>\n",
              "      <th>panjang_lintasan_km</th>\n",
              "    </tr>\n",
              "  </thead>\n",
              "  <tbody>\n",
              "    <tr>\n",
              "      <th>0</th>\n",
              "      <td>0.819886</td>\n",
              "      <td>1.000000</td>\n",
              "      <td>0.090643</td>\n",
              "    </tr>\n",
              "    <tr>\n",
              "      <th>1</th>\n",
              "      <td>0.730228</td>\n",
              "      <td>1.000000</td>\n",
              "      <td>0.090643</td>\n",
              "    </tr>\n",
              "    <tr>\n",
              "      <th>2</th>\n",
              "      <td>0.863026</td>\n",
              "      <td>1.000000</td>\n",
              "      <td>0.090643</td>\n",
              "    </tr>\n",
              "    <tr>\n",
              "      <th>3</th>\n",
              "      <td>0.813769</td>\n",
              "      <td>1.000000</td>\n",
              "      <td>0.090643</td>\n",
              "    </tr>\n",
              "    <tr>\n",
              "      <th>4</th>\n",
              "      <td>0.745299</td>\n",
              "      <td>1.000000</td>\n",
              "      <td>0.090643</td>\n",
              "    </tr>\n",
              "    <tr>\n",
              "      <th>...</th>\n",
              "      <td>...</td>\n",
              "      <td>...</td>\n",
              "      <td>...</td>\n",
              "    </tr>\n",
              "    <tr>\n",
              "      <th>73</th>\n",
              "      <td>0.047383</td>\n",
              "      <td>0.004313</td>\n",
              "      <td>0.281287</td>\n",
              "    </tr>\n",
              "    <tr>\n",
              "      <th>74</th>\n",
              "      <td>0.049591</td>\n",
              "      <td>0.004505</td>\n",
              "      <td>0.281287</td>\n",
              "    </tr>\n",
              "    <tr>\n",
              "      <th>75</th>\n",
              "      <td>0.000607</td>\n",
              "      <td>0.000258</td>\n",
              "      <td>0.281287</td>\n",
              "    </tr>\n",
              "    <tr>\n",
              "      <th>76</th>\n",
              "      <td>0.074031</td>\n",
              "      <td>0.006624</td>\n",
              "      <td>0.281287</td>\n",
              "    </tr>\n",
              "    <tr>\n",
              "      <th>77</th>\n",
              "      <td>0.077022</td>\n",
              "      <td>0.006883</td>\n",
              "      <td>0.281287</td>\n",
              "    </tr>\n",
              "  </tbody>\n",
              "</table>\n",
              "<p>234 rows × 3 columns</p>\n",
              "</div>"
            ],
            "text/plain": [
              "    jumlah_penumpang  Revenue_month  panjang_lintasan_km\n",
              "0           0.819886       1.000000             0.090643\n",
              "1           0.730228       1.000000             0.090643\n",
              "2           0.863026       1.000000             0.090643\n",
              "3           0.813769       1.000000             0.090643\n",
              "4           0.745299       1.000000             0.090643\n",
              "..               ...            ...                  ...\n",
              "73          0.047383       0.004313             0.281287\n",
              "74          0.049591       0.004505             0.281287\n",
              "75          0.000607       0.000258             0.281287\n",
              "76          0.074031       0.006624             0.281287\n",
              "77          0.077022       0.006883             0.281287\n",
              "\n",
              "[234 rows x 3 columns]"
            ]
          },
          "metadata": {},
          "execution_count": 65
        }
      ]
    },
    {
      "cell_type": "code",
      "metadata": {
        "colab": {
          "base_uri": "https://localhost:8080/",
          "height": 402
        },
        "id": "ZT3tG8b68_fh",
        "outputId": "951a1209-ba1e-47ea-9716-2925a10c4397"
      },
      "source": [
        "plt.figure(figsize=(12,8))\n",
        "sns.displot(X,kind='kde')"
      ],
      "execution_count": null,
      "outputs": [
        {
          "output_type": "execute_result",
          "data": {
            "text/plain": [
              "<seaborn.axisgrid.FacetGrid at 0x7f968728bf10>"
            ]
          },
          "metadata": {},
          "execution_count": 66
        },
        {
          "output_type": "display_data",
          "data": {
            "text/plain": [
              "<Figure size 864x576 with 0 Axes>"
            ]
          },
          "metadata": {}
        },
        {
          "output_type": "display_data",
          "data": {
            "image/png": "[encoded data removed]",
            "text/plain": [
              "<Figure size 490.125x360 with 1 Axes>"
            ]
          },
          "metadata": {
            "needs_background": "light"
          }
        }
      ]
    },
    {
      "cell_type": "markdown",
      "metadata": {
        "id": "2cP-bv3qHIrA"
      },
      "source": [
        "## Elbow method"
      ]
    },
    {
      "cell_type": "code",
      "metadata": {
        "colab": {
          "base_uri": "https://localhost:8080/",
          "height": 647
        },
        "id": "wpu7GmhWE4Ft",
        "outputId": "bd432800-fc9e-4ec8-e74b-f9958c7dc3a4"
      },
      "source": [
        "inertia = []\n",
        "\n",
        "for i in range(2, 11):\n",
        "    kmeans = KMeans(n_clusters=i, random_state=0,init='k-means++',max_iter=300,n_init=10)\n",
        "    kmeans.fit(X.values)\n",
        "    inertia.append(kmeans.inertia_)\n",
        "\n",
        "\n",
        "print(inertia)\n",
        "\n",
        "plt.figure(figsize=(20, 10))\n",
        "# plt.plot(inertia)\n",
        "\n",
        "sns.lineplot(x=range(2, 11), y=inertia, color='#000087', linewidth = 4)\n",
        "sns.scatterplot(x=range(2, 11), y=inertia, s=300, color='#800000',  linestyle='--')"
      ],
      "execution_count": null,
      "outputs": [
        {
          "output_type": "stream",
          "name": "stdout",
          "text": [
            "[28.705483481048727, 17.057002686223395, 11.027935995009258, 6.66396818926847, 5.304004308340544, 4.091332277151131, 3.3589025272032647, 2.8747470532552657, 2.3993642639843404]\n"
          ]
        },
        {
          "output_type": "execute_result",
          "data": {
            "text/plain": [
              "<matplotlib.axes._subplots.AxesSubplot at 0x7f9686c35d90>"
            ]
          },
          "metadata": {},
          "execution_count": 67
        },
        {
          "output_type": "display_data",
          "data": {
            "image/png": "[encoded data removed]",
            "text/plain": [
              "<Figure size 1440x720 with 1 Axes>"
            ]
          },
          "metadata": {
            "needs_background": "light"
          }
        }
      ]
    },
    {
      "cell_type": "markdown",
      "metadata": {
        "id": "XdWI-98YHLsy"
      },
      "source": [
        "# K-Means Modelling"
      ]
    },
    {
      "cell_type": "code",
      "metadata": {
        "colab": {
          "base_uri": "https://localhost:8080/"
        },
        "id": "90CvddbrHR3t",
        "outputId": "89bd2f7c-7b74-4299-befd-ac7096c22e34"
      },
      "source": [
        "kmeans = KMeans(n_clusters=5, random_state=0,init='k-means++',max_iter=300, n_init=10)\n",
        "kmeans.fit(X.values)"
      ],
      "execution_count": null,
      "outputs": [
        {
          "output_type": "execute_result",
          "data": {
            "text/plain": [
              "KMeans(algorithm='auto', copy_x=True, init='k-means++', max_iter=300,\n",
              "       n_clusters=5, n_init=10, n_jobs=None, precompute_distances='auto',\n",
              "       random_state=0, tol=0.0001, verbose=0)"
            ]
          },
          "metadata": {},
          "execution_count": 68
        }
      ]
    },
    {
      "cell_type": "code",
      "metadata": {
        "colab": {
          "base_uri": "https://localhost:8080/"
        },
        "id": "FQ6PgdJYhpm0",
        "outputId": "0f16a108-0700-4638-d16b-f3abcdc297b1"
      },
      "source": [
        "kmeans.score(X)"
      ],
      "execution_count": null,
      "outputs": [
        {
          "output_type": "execute_result",
          "data": {
            "text/plain": [
              "-6.66396818926847"
            ]
          },
          "metadata": {},
          "execution_count": 69
        }
      ]
    },
    {
      "cell_type": "code",
      "metadata": {
        "id": "RhzeBO6bGdJG"
      },
      "source": [
        "X['cluster'] = kmeans.labels_"
      ],
      "execution_count": null,
      "outputs": []
    },
    {
      "cell_type": "code",
      "metadata": {
        "colab": {
          "base_uri": "https://localhost:8080/",
          "height": 414
        },
        "id": "T1kqhUMDixLj",
        "outputId": "d1432fc3-bdd2-48e7-b5f1-4c8193c0cbc6"
      },
      "source": [
        "X"
      ],
      "execution_count": null,
      "outputs": [
        {
          "output_type": "execute_result",
          "data": {
            "text/html": [
              "<div>\n",
              "<style scoped>\n",
              "    .dataframe tbody tr th:only-of-type {\n",
              "        vertical-align: middle;\n",
              "    }\n",
              "\n",
              "    .dataframe tbody tr th {\n",
              "        vertical-align: top;\n",
              "    }\n",
              "\n",
              "    .dataframe thead th {\n",
              "        text-align: right;\n",
              "    }\n",
              "</style>\n",
              "<table border=\"1\" class=\"dataframe\">\n",
              "  <thead>\n",
              "    <tr style=\"text-align: right;\">\n",
              "      <th></th>\n",
              "      <th>jumlah_penumpang</th>\n",
              "      <th>Revenue_month</th>\n",
              "      <th>panjang_lintasan_km</th>\n",
              "      <th>cluster</th>\n",
              "    </tr>\n",
              "  </thead>\n",
              "  <tbody>\n",
              "    <tr>\n",
              "      <th>0</th>\n",
              "      <td>0.819886</td>\n",
              "      <td>1.000000</td>\n",
              "      <td>0.090643</td>\n",
              "      <td>4</td>\n",
              "    </tr>\n",
              "    <tr>\n",
              "      <th>1</th>\n",
              "      <td>0.730228</td>\n",
              "      <td>1.000000</td>\n",
              "      <td>0.090643</td>\n",
              "      <td>4</td>\n",
              "    </tr>\n",
              "    <tr>\n",
              "      <th>2</th>\n",
              "      <td>0.863026</td>\n",
              "      <td>1.000000</td>\n",
              "      <td>0.090643</td>\n",
              "      <td>4</td>\n",
              "    </tr>\n",
              "    <tr>\n",
              "      <th>3</th>\n",
              "      <td>0.813769</td>\n",
              "      <td>1.000000</td>\n",
              "      <td>0.090643</td>\n",
              "      <td>4</td>\n",
              "    </tr>\n",
              "    <tr>\n",
              "      <th>4</th>\n",
              "      <td>0.745299</td>\n",
              "      <td>1.000000</td>\n",
              "      <td>0.090643</td>\n",
              "      <td>4</td>\n",
              "    </tr>\n",
              "    <tr>\n",
              "      <th>...</th>\n",
              "      <td>...</td>\n",
              "      <td>...</td>\n",
              "      <td>...</td>\n",
              "      <td>...</td>\n",
              "    </tr>\n",
              "    <tr>\n",
              "      <th>73</th>\n",
              "      <td>0.047383</td>\n",
              "      <td>0.004313</td>\n",
              "      <td>0.281287</td>\n",
              "      <td>2</td>\n",
              "    </tr>\n",
              "    <tr>\n",
              "      <th>74</th>\n",
              "      <td>0.049591</td>\n",
              "      <td>0.004505</td>\n",
              "      <td>0.281287</td>\n",
              "      <td>2</td>\n",
              "    </tr>\n",
              "    <tr>\n",
              "      <th>75</th>\n",
              "      <td>0.000607</td>\n",
              "      <td>0.000258</td>\n",
              "      <td>0.281287</td>\n",
              "      <td>2</td>\n",
              "    </tr>\n",
              "    <tr>\n",
              "      <th>76</th>\n",
              "      <td>0.074031</td>\n",
              "      <td>0.006624</td>\n",
              "      <td>0.281287</td>\n",
              "      <td>2</td>\n",
              "    </tr>\n",
              "    <tr>\n",
              "      <th>77</th>\n",
              "      <td>0.077022</td>\n",
              "      <td>0.006883</td>\n",
              "      <td>0.281287</td>\n",
              "      <td>2</td>\n",
              "    </tr>\n",
              "  </tbody>\n",
              "</table>\n",
              "<p>234 rows × 4 columns</p>\n",
              "</div>"
            ],
            "text/plain": [
              "    jumlah_penumpang  Revenue_month  panjang_lintasan_km  cluster\n",
              "0           0.819886       1.000000             0.090643        4\n",
              "1           0.730228       1.000000             0.090643        4\n",
              "2           0.863026       1.000000             0.090643        4\n",
              "3           0.813769       1.000000             0.090643        4\n",
              "4           0.745299       1.000000             0.090643        4\n",
              "..               ...            ...                  ...      ...\n",
              "73          0.047383       0.004313             0.281287        2\n",
              "74          0.049591       0.004505             0.281287        2\n",
              "75          0.000607       0.000258             0.281287        2\n",
              "76          0.074031       0.006624             0.281287        2\n",
              "77          0.077022       0.006883             0.281287        2\n",
              "\n",
              "[234 rows x 4 columns]"
            ]
          },
          "metadata": {},
          "execution_count": 71
        }
      ]
    },
    {
      "cell_type": "markdown",
      "metadata": {
        "id": "tpz26LPE_QLQ"
      },
      "source": [
        "# Model Evaluation"
      ]
    },
    {
      "cell_type": "markdown",
      "metadata": {
        "id": "Rl88fOsDIHtU"
      },
      "source": [
        "### Silhouette Score"
      ]
    },
    {
      "cell_type": "code",
      "metadata": {
        "colab": {
          "base_uri": "https://localhost:8080/"
        },
        "id": "zco_D5TE_Pn2",
        "outputId": "82b9278f-afcc-4b51-a76f-2257b4dc262c"
      },
      "source": [
        "score = metrics.silhouette_score(X, kmeans.labels_, metric='euclidean')\n",
        "\n",
        "# Print the score\n",
        "print('Silhouetter Score: %.3f' % score)"
      ],
      "execution_count": null,
      "outputs": [
        {
          "output_type": "stream",
          "name": "stdout",
          "text": [
            "Silhouetter Score: 0.822\n"
          ]
        }
      ]
    },
    {
      "cell_type": "code",
      "metadata": {
        "colab": {
          "base_uri": "https://localhost:8080/",
          "height": 351
        },
        "id": "Bb68HyOiCGkd",
        "outputId": "c08ed966-1040-4f5b-98a0-d9c23585b450"
      },
      "source": [
        "# Create SilhouetteVisualizer instance with KMeans instance Fit the visualizer\n",
        "visualizer = SilhouetteVisualizer(kmeans, colors='yellowbrick')\n",
        "visualizer.fit(X)"
      ],
      "execution_count": null,
      "outputs": [
        {
          "output_type": "stream",
          "name": "stderr",
          "text": [
            "/usr/local/lib/python3.7/dist-packages/sklearn/base.py:197: FutureWarning: From version 0.24, get_params will raise an AttributeError if a parameter cannot be retrieved as an instance attribute. Previously it would return None.\n",
            "  FutureWarning)\n"
          ]
        },
        {
          "output_type": "execute_result",
          "data": {
            "text/plain": [
              "SilhouetteVisualizer(ax=<matplotlib.axes._subplots.AxesSubplot object at 0x7f9686bd2a10>,\n",
              "                     model=None)"
            ]
          },
          "metadata": {},
          "execution_count": 73
        },
        {
          "output_type": "display_data",
          "data": {
            "image/png": "[encoded data removed]",
            "text/plain": [
              "<Figure size 432x288 with 1 Axes>"
            ]
          },
          "metadata": {
            "needs_background": "light"
          }
        }
      ]
    },
    {
      "cell_type": "markdown",
      "metadata": {
        "id": "jEez15zRINH6"
      },
      "source": [
        "### calinski_harabasz_score"
      ]
    },
    {
      "cell_type": "code",
      "metadata": {
        "colab": {
          "base_uri": "https://localhost:8080/"
        },
        "id": "r8eBJALPCGgV",
        "outputId": "284183b0-aaf4-42a7-b398-30c5a1bf5615"
      },
      "source": [
        "score_2 = metrics.calinski_harabasz_score(X, kmeans.labels_)\n",
        "print('pairwise_distances score: %.3f' % score_2)"
      ],
      "execution_count": null,
      "outputs": [
        {
          "output_type": "stream",
          "name": "stdout",
          "text": [
            "pairwise_distances score: 2379.391\n"
          ]
        }
      ]
    },
    {
      "cell_type": "markdown",
      "metadata": {
        "id": "-n203pHmr1Uq"
      },
      "source": [
        "nilai calinski semakin besar semakin bagus."
      ]
    },
    {
      "cell_type": "markdown",
      "metadata": {
        "id": "c_7H4SEFIScl"
      },
      "source": [
        "### davies_bouldin_score"
      ]
    },
    {
      "cell_type": "code",
      "metadata": {
        "colab": {
          "base_uri": "https://localhost:8080/"
        },
        "id": "mtIfkyX1rgq3",
        "outputId": "2ad0801d-022f-49bd-e3de-f246e5f138ec"
      },
      "source": [
        "from sklearn.metrics import davies_bouldin_score\n",
        "\n",
        "score_3 = davies_bouldin_score(X, kmeans.labels_)\n",
        "print('davies_bouldin_score: %.3f' % score_3)"
      ],
      "execution_count": null,
      "outputs": [
        {
          "output_type": "stream",
          "name": "stdout",
          "text": [
            "davies_bouldin_score: 0.251\n"
          ]
        }
      ]
    },
    {
      "cell_type": "markdown",
      "metadata": {
        "id": "Xq-MdDB8r7ih"
      },
      "source": [
        "nilai davies semakin kecil semakin bagus."
      ]
    },
    {
      "cell_type": "markdown",
      "metadata": {
        "id": "2OPny0eG6Qi7"
      },
      "source": [
        "# Visualize Clustering"
      ]
    },
    {
      "cell_type": "code",
      "metadata": {
        "colab": {
          "base_uri": "https://localhost:8080/",
          "height": 512
        },
        "id": "NvansYvGGdFn",
        "outputId": "c37faec5-445d-43e5-b34b-5067e3c92bb7"
      },
      "source": [
        "plt.figure(figsize=(12,8))\n",
        "ax2=sns.scatterplot(data=X, x='jumlah_penumpang', y='Revenue_month',hue='cluster')\n",
        "# sns.scatterplot()\n",
        "centers = kmeans.cluster_centers_\n",
        "ax2.scatter(centers[:, 0], centers[:, 1], marker='o',c=\"white\", alpha=1, s=200, edgecolor='k')\n",
        "\n",
        "for i, c in enumerate(centers):\n",
        "  ax2.scatter(c[0], c[1], marker='$%d$' % i, alpha=1, s=300, edgecolor='k')\n",
        "  ax2.set_title(\"The visualization of the clustered data.\")\n",
        "\n",
        "# plt.xlim(0,1)\n",
        "# plt.ylim(0,1)\n",
        "\n",
        "# plt.scatter(centers[:, 0], centers[:, 1], c='red', s=200)"
      ],
      "execution_count": null,
      "outputs": [
        {
          "output_type": "display_data",
          "data": {
            "image/png": "[encoded data removed]",
            "text/plain": [
              "<Figure size 864x576 with 1 Axes>"
            ]
          },
          "metadata": {
            "needs_background": "light"
          }
        }
      ]
    },
    {
      "cell_type": "code",
      "metadata": {
        "colab": {
          "base_uri": "https://localhost:8080/",
          "height": 512
        },
        "id": "UsR2GCWMGdC_",
        "outputId": "6a077aa1-f0c8-4f47-a434-f2686db09ce7"
      },
      "source": [
        "plt.figure(figsize=(12,8))\n",
        "ax2=sns.scatterplot(data=X, x='jumlah_penumpang', y='panjang_lintasan_km',hue='cluster')\n",
        "# sns.scatterplot()\n",
        "centers = kmeans.cluster_centers_\n",
        "ax2.scatter(centers[:, 0], centers[:, 1], marker='o',c=\"white\", alpha=1, s=200, edgecolor='k')\n",
        "\n",
        "for i, c in enumerate(centers):\n",
        "  ax2.scatter(c[0], c[1], marker='$%d$' % i, alpha=1, s=300, edgecolor='k')\n",
        "  ax2.set_title(\"The visualization of the clustered data.\")"
      ],
      "execution_count": null,
      "outputs": [
        {
          "output_type": "display_data",
          "data": {
            "image/png": "[encoded data removed]",
            "text/plain": [
              "<Figure size 864x576 with 1 Axes>"
            ]
          },
          "metadata": {
            "needs_background": "light"
          }
        }
      ]
    },
    {
      "cell_type": "code",
      "metadata": {
        "colab": {
          "base_uri": "https://localhost:8080/",
          "height": 512
        },
        "id": "8GahENVl8ufg",
        "outputId": "4ed26e06-951e-4d47-eb4f-d74d47505226"
      },
      "source": [
        "plt.figure(figsize=(12,8))\n",
        "ax2=sns.scatterplot(data=X, x='Revenue_month', y='panjang_lintasan_km',hue='cluster')\n",
        "# sns.scatterplot()\n",
        "centers = kmeans.cluster_centers_\n",
        "ax2.scatter(centers[:, 0], centers[:, 1], marker='o',c=\"white\", alpha=1, s=200, edgecolor='k')\n",
        "\n",
        "for i, c in enumerate(centers):\n",
        "  ax2.scatter(c[0], c[1], marker='$%d$' % i, alpha=1, s=300, edgecolor='k')\n",
        "  ax2.set_title(\"The visualization of the clustered data.\")"
      ],
      "execution_count": null,
      "outputs": [
        {
          "output_type": "display_data",
          "data": {
            "image/png": "[encoded data removed]",
            "text/plain": [
              "<Figure size 864x576 with 1 Axes>"
            ]
          },
          "metadata": {
            "needs_background": "light"
          }
        }
      ]
    },
    {
      "cell_type": "code",
      "metadata": {
        "colab": {
          "base_uri": "https://localhost:8080/",
          "height": 414
        },
        "id": "-hVmOMIvIy70",
        "outputId": "07ee7ee8-ca47-4ead-9c3b-08b66def72f2"
      },
      "source": [
        "X"
      ],
      "execution_count": null,
      "outputs": [
        {
          "output_type": "execute_result",
          "data": {
            "text/html": [
              "<div>\n",
              "<style scoped>\n",
              "    .dataframe tbody tr th:only-of-type {\n",
              "        vertical-align: middle;\n",
              "    }\n",
              "\n",
              "    .dataframe tbody tr th {\n",
              "        vertical-align: top;\n",
              "    }\n",
              "\n",
              "    .dataframe thead th {\n",
              "        text-align: right;\n",
              "    }\n",
              "</style>\n",
              "<table border=\"1\" class=\"dataframe\">\n",
              "  <thead>\n",
              "    <tr style=\"text-align: right;\">\n",
              "      <th></th>\n",
              "      <th>jumlah_penumpang</th>\n",
              "      <th>Revenue_month</th>\n",
              "      <th>panjang_lintasan_km</th>\n",
              "      <th>cluster</th>\n",
              "    </tr>\n",
              "  </thead>\n",
              "  <tbody>\n",
              "    <tr>\n",
              "      <th>0</th>\n",
              "      <td>0.819886</td>\n",
              "      <td>1.000000</td>\n",
              "      <td>0.090643</td>\n",
              "      <td>4</td>\n",
              "    </tr>\n",
              "    <tr>\n",
              "      <th>1</th>\n",
              "      <td>0.730228</td>\n",
              "      <td>1.000000</td>\n",
              "      <td>0.090643</td>\n",
              "      <td>4</td>\n",
              "    </tr>\n",
              "    <tr>\n",
              "      <th>2</th>\n",
              "      <td>0.863026</td>\n",
              "      <td>1.000000</td>\n",
              "      <td>0.090643</td>\n",
              "      <td>4</td>\n",
              "    </tr>\n",
              "    <tr>\n",
              "      <th>3</th>\n",
              "      <td>0.813769</td>\n",
              "      <td>1.000000</td>\n",
              "      <td>0.090643</td>\n",
              "      <td>4</td>\n",
              "    </tr>\n",
              "    <tr>\n",
              "      <th>4</th>\n",
              "      <td>0.745299</td>\n",
              "      <td>1.000000</td>\n",
              "      <td>0.090643</td>\n",
              "      <td>4</td>\n",
              "    </tr>\n",
              "    <tr>\n",
              "      <th>...</th>\n",
              "      <td>...</td>\n",
              "      <td>...</td>\n",
              "      <td>...</td>\n",
              "      <td>...</td>\n",
              "    </tr>\n",
              "    <tr>\n",
              "      <th>73</th>\n",
              "      <td>0.047383</td>\n",
              "      <td>0.004313</td>\n",
              "      <td>0.281287</td>\n",
              "      <td>2</td>\n",
              "    </tr>\n",
              "    <tr>\n",
              "      <th>74</th>\n",
              "      <td>0.049591</td>\n",
              "      <td>0.004505</td>\n",
              "      <td>0.281287</td>\n",
              "      <td>2</td>\n",
              "    </tr>\n",
              "    <tr>\n",
              "      <th>75</th>\n",
              "      <td>0.000607</td>\n",
              "      <td>0.000258</td>\n",
              "      <td>0.281287</td>\n",
              "      <td>2</td>\n",
              "    </tr>\n",
              "    <tr>\n",
              "      <th>76</th>\n",
              "      <td>0.074031</td>\n",
              "      <td>0.006624</td>\n",
              "      <td>0.281287</td>\n",
              "      <td>2</td>\n",
              "    </tr>\n",
              "    <tr>\n",
              "      <th>77</th>\n",
              "      <td>0.077022</td>\n",
              "      <td>0.006883</td>\n",
              "      <td>0.281287</td>\n",
              "      <td>2</td>\n",
              "    </tr>\n",
              "  </tbody>\n",
              "</table>\n",
              "<p>234 rows × 4 columns</p>\n",
              "</div>"
            ],
            "text/plain": [
              "    jumlah_penumpang  Revenue_month  panjang_lintasan_km  cluster\n",
              "0           0.819886       1.000000             0.090643        4\n",
              "1           0.730228       1.000000             0.090643        4\n",
              "2           0.863026       1.000000             0.090643        4\n",
              "3           0.813769       1.000000             0.090643        4\n",
              "4           0.745299       1.000000             0.090643        4\n",
              "..               ...            ...                  ...      ...\n",
              "73          0.047383       0.004313             0.281287        2\n",
              "74          0.049591       0.004505             0.281287        2\n",
              "75          0.000607       0.000258             0.281287        2\n",
              "76          0.074031       0.006624             0.281287        2\n",
              "77          0.077022       0.006883             0.281287        2\n",
              "\n",
              "[234 rows x 4 columns]"
            ]
          },
          "metadata": {},
          "execution_count": 79
        }
      ]
    },
    {
      "cell_type": "code",
      "metadata": {
        "id": "st5d29wKKeQG"
      },
      "source": [
        "# df.to_csv('hasil_modelling.csv',index=False)"
      ],
      "execution_count": null,
      "outputs": []
    },
    {
      "cell_type": "markdown",
      "metadata": {
        "id": "K8phfScHEyBM"
      },
      "source": [
        "Other referece for matric evaluasion : https://scikit-learn.org/stable/modules/clustering.html#silhouette-coefficient "
      ]
    },
    {
      "cell_type": "markdown",
      "metadata": {
        "id": "MoqW3uXp6_f_"
      },
      "source": [
        "# Projection"
      ]
    },
    {
      "cell_type": "code",
      "metadata": {
        "colab": {
          "base_uri": "https://localhost:8080/"
        },
        "id": "cAo5mevz6dW4",
        "outputId": "72fa8c82-db82-4614-800a-9c6efe4467d9"
      },
      "source": [
        "data_modeling = data[['number_koridor','jumlah_penumpang','Revenue_month','panjang_lintasan_km']]\n",
        "data_modeling['Bulan'] = data['bulan']\n",
        "data_modeling['Tahun'] = data['Tahun']\n",
        "data_modeling['Cluster']= X['cluster']"
      ],
      "execution_count": null,
      "outputs": [
        {
          "output_type": "stream",
          "name": "stderr",
          "text": [
            "/usr/local/lib/python3.7/dist-packages/ipykernel_launcher.py:2: SettingWithCopyWarning: \n",
            "A value is trying to be set on a copy of a slice from a DataFrame.\n",
            "Try using .loc[row_indexer,col_indexer] = value instead\n",
            "\n",
            "See the caveats in the documentation: https://pandas.pydata.org/pandas-docs/stable/user_guide/indexing.html#returning-a-view-versus-a-copy\n",
            "  \n",
            "/usr/local/lib/python3.7/dist-packages/ipykernel_launcher.py:3: SettingWithCopyWarning: \n",
            "A value is trying to be set on a copy of a slice from a DataFrame.\n",
            "Try using .loc[row_indexer,col_indexer] = value instead\n",
            "\n",
            "See the caveats in the documentation: https://pandas.pydata.org/pandas-docs/stable/user_guide/indexing.html#returning-a-view-versus-a-copy\n",
            "  This is separate from the ipykernel package so we can avoid doing imports until\n",
            "/usr/local/lib/python3.7/dist-packages/ipykernel_launcher.py:4: SettingWithCopyWarning: \n",
            "A value is trying to be set on a copy of a slice from a DataFrame.\n",
            "Try using .loc[row_indexer,col_indexer] = value instead\n",
            "\n",
            "See the caveats in the documentation: https://pandas.pydata.org/pandas-docs/stable/user_guide/indexing.html#returning-a-view-versus-a-copy\n",
            "  after removing the cwd from sys.path.\n"
          ]
        }
      ]
    },
    {
      "cell_type": "code",
      "metadata": {
        "colab": {
          "base_uri": "https://localhost:8080/",
          "height": 263
        },
        "id": "8nrO8Oir6dIX",
        "outputId": "e4dd44d5-9d99-4a42-df57-37f31c2f7a2f"
      },
      "source": [
        "data_modeling.sample(7)"
      ],
      "execution_count": null,
      "outputs": [
        {
          "output_type": "execute_result",
          "data": {
            "text/html": [
              "<div>\n",
              "<style scoped>\n",
              "    .dataframe tbody tr th:only-of-type {\n",
              "        vertical-align: middle;\n",
              "    }\n",
              "\n",
              "    .dataframe tbody tr th {\n",
              "        vertical-align: top;\n",
              "    }\n",
              "\n",
              "    .dataframe thead th {\n",
              "        text-align: right;\n",
              "    }\n",
              "</style>\n",
              "<table border=\"1\" class=\"dataframe\">\n",
              "  <thead>\n",
              "    <tr style=\"text-align: right;\">\n",
              "      <th></th>\n",
              "      <th>number_koridor</th>\n",
              "      <th>jumlah_penumpang</th>\n",
              "      <th>Revenue_month</th>\n",
              "      <th>panjang_lintasan_km</th>\n",
              "      <th>Bulan</th>\n",
              "      <th>Tahun</th>\n",
              "      <th>Cluster</th>\n",
              "    </tr>\n",
              "  </thead>\n",
              "  <tbody>\n",
              "    <tr>\n",
              "      <th>108</th>\n",
              "      <td>10</td>\n",
              "      <td>737123</td>\n",
              "      <td>3.110909e+10</td>\n",
              "      <td>18.00</td>\n",
              "      <td>1</td>\n",
              "      <td>2019</td>\n",
              "      <td>1</td>\n",
              "    </tr>\n",
              "    <tr>\n",
              "      <th>36</th>\n",
              "      <td>7</td>\n",
              "      <td>1013562</td>\n",
              "      <td>3.057168e+09</td>\n",
              "      <td>12.80</td>\n",
              "      <td>2</td>\n",
              "      <td>2020</td>\n",
              "      <td>2</td>\n",
              "    </tr>\n",
              "    <tr>\n",
              "      <th>121</th>\n",
              "      <td>11</td>\n",
              "      <td>233418</td>\n",
              "      <td>1.103206e+10</td>\n",
              "      <td>11.35</td>\n",
              "      <td>2</td>\n",
              "      <td>2019</td>\n",
              "      <td>2</td>\n",
              "    </tr>\n",
              "    <tr>\n",
              "      <th>33</th>\n",
              "      <td>3</td>\n",
              "      <td>1084451</td>\n",
              "      <td>3.997528e+10</td>\n",
              "      <td>18.70</td>\n",
              "      <td>10</td>\n",
              "      <td>2019</td>\n",
              "      <td>1</td>\n",
              "    </tr>\n",
              "    <tr>\n",
              "      <th>52</th>\n",
              "      <td>5</td>\n",
              "      <td>926056</td>\n",
              "      <td>3.814462e+10</td>\n",
              "      <td>15.50</td>\n",
              "      <td>5</td>\n",
              "      <td>2019</td>\n",
              "      <td>1</td>\n",
              "    </tr>\n",
              "    <tr>\n",
              "      <th>76</th>\n",
              "      <td>13</td>\n",
              "      <td>305141</td>\n",
              "      <td>9.628874e+08</td>\n",
              "      <td>16.16</td>\n",
              "      <td>11</td>\n",
              "      <td>2020</td>\n",
              "      <td>2</td>\n",
              "    </tr>\n",
              "    <tr>\n",
              "      <th>52</th>\n",
              "      <td>9</td>\n",
              "      <td>697985</td>\n",
              "      <td>2.226114e+09</td>\n",
              "      <td>28.45</td>\n",
              "      <td>11</td>\n",
              "      <td>2020</td>\n",
              "      <td>0</td>\n",
              "    </tr>\n",
              "  </tbody>\n",
              "</table>\n",
              "</div>"
            ],
            "text/plain": [
              "     number_koridor  jumlah_penumpang  Revenue_month  ...  Bulan  Tahun  Cluster\n",
              "108              10            737123   3.110909e+10  ...      1   2019        1\n",
              "36                7           1013562   3.057168e+09  ...      2   2020        2\n",
              "121              11            233418   1.103206e+10  ...      2   2019        2\n",
              "33                3           1084451   3.997528e+10  ...     10   2019        1\n",
              "52                5            926056   3.814462e+10  ...      5   2019        1\n",
              "76               13            305141   9.628874e+08  ...     11   2020        2\n",
              "52                9            697985   2.226114e+09  ...     11   2020        0\n",
              "\n",
              "[7 rows x 7 columns]"
            ]
          },
          "metadata": {},
          "execution_count": 81
        }
      ]
    },
    {
      "cell_type": "code",
      "metadata": {
        "id": "DtVF5gD-qvI-"
      },
      "source": [
        "# data_cluster_2020 = data_modeling[data_modeling['Tahun']==2020]\n",
        "# data_cluster_2020.to_csv('Cluster_2020.csv',index=False)"
      ],
      "execution_count": null,
      "outputs": []
    },
    {
      "cell_type": "markdown",
      "metadata": {
        "id": "c6Ds1IvetTUi"
      },
      "source": [
        "### Tahun 2019"
      ]
    },
    {
      "cell_type": "code",
      "metadata": {
        "colab": {
          "base_uri": "https://localhost:8080/",
          "height": 414
        },
        "id": "fNdjpAL0Whau",
        "outputId": "ac47f8ae-da74-4293-f488-cce96d2cd84e"
      },
      "source": [
        "data_cluster_2019 = data_modeling[data_modeling['Tahun']==2019]\n",
        "data_cluster_2019"
      ],
      "execution_count": null,
      "outputs": [
        {
          "output_type": "execute_result",
          "data": {
            "text/html": [
              "<div>\n",
              "<style scoped>\n",
              "    .dataframe tbody tr th:only-of-type {\n",
              "        vertical-align: middle;\n",
              "    }\n",
              "\n",
              "    .dataframe tbody tr th {\n",
              "        vertical-align: top;\n",
              "    }\n",
              "\n",
              "    .dataframe thead th {\n",
              "        text-align: right;\n",
              "    }\n",
              "</style>\n",
              "<table border=\"1\" class=\"dataframe\">\n",
              "  <thead>\n",
              "    <tr style=\"text-align: right;\">\n",
              "      <th></th>\n",
              "      <th>number_koridor</th>\n",
              "      <th>jumlah_penumpang</th>\n",
              "      <th>Revenue_month</th>\n",
              "      <th>panjang_lintasan_km</th>\n",
              "      <th>Bulan</th>\n",
              "      <th>Tahun</th>\n",
              "      <th>Cluster</th>\n",
              "    </tr>\n",
              "  </thead>\n",
              "  <tbody>\n",
              "    <tr>\n",
              "      <th>0</th>\n",
              "      <td>1</td>\n",
              "      <td>2223257</td>\n",
              "      <td>9.395057e+10</td>\n",
              "      <td>12.90</td>\n",
              "      <td>1</td>\n",
              "      <td>2019</td>\n",
              "      <td>4</td>\n",
              "    </tr>\n",
              "    <tr>\n",
              "      <th>1</th>\n",
              "      <td>1</td>\n",
              "      <td>1992685</td>\n",
              "      <td>9.395057e+10</td>\n",
              "      <td>12.90</td>\n",
              "      <td>2</td>\n",
              "      <td>2019</td>\n",
              "      <td>4</td>\n",
              "    </tr>\n",
              "    <tr>\n",
              "      <th>2</th>\n",
              "      <td>1</td>\n",
              "      <td>2334201</td>\n",
              "      <td>9.395057e+10</td>\n",
              "      <td>12.90</td>\n",
              "      <td>3</td>\n",
              "      <td>2019</td>\n",
              "      <td>4</td>\n",
              "    </tr>\n",
              "    <tr>\n",
              "      <th>3</th>\n",
              "      <td>1</td>\n",
              "      <td>2207527</td>\n",
              "      <td>9.395057e+10</td>\n",
              "      <td>12.90</td>\n",
              "      <td>4</td>\n",
              "      <td>2019</td>\n",
              "      <td>4</td>\n",
              "    </tr>\n",
              "    <tr>\n",
              "      <th>4</th>\n",
              "      <td>1</td>\n",
              "      <td>2031443</td>\n",
              "      <td>9.395057e+10</td>\n",
              "      <td>12.90</td>\n",
              "      <td>5</td>\n",
              "      <td>2019</td>\n",
              "      <td>4</td>\n",
              "    </tr>\n",
              "    <tr>\n",
              "      <th>...</th>\n",
              "      <td>...</td>\n",
              "      <td>...</td>\n",
              "      <td>...</td>\n",
              "      <td>...</td>\n",
              "      <td>...</td>\n",
              "      <td>...</td>\n",
              "      <td>...</td>\n",
              "    </tr>\n",
              "    <tr>\n",
              "      <th>151</th>\n",
              "      <td>13</td>\n",
              "      <td>754331</td>\n",
              "      <td>2.702821e+10</td>\n",
              "      <td>16.16</td>\n",
              "      <td>8</td>\n",
              "      <td>2019</td>\n",
              "      <td>1</td>\n",
              "    </tr>\n",
              "    <tr>\n",
              "      <th>152</th>\n",
              "      <td>13</td>\n",
              "      <td>783995</td>\n",
              "      <td>2.702821e+10</td>\n",
              "      <td>16.16</td>\n",
              "      <td>9</td>\n",
              "      <td>2019</td>\n",
              "      <td>1</td>\n",
              "    </tr>\n",
              "    <tr>\n",
              "      <th>153</th>\n",
              "      <td>13</td>\n",
              "      <td>783995</td>\n",
              "      <td>2.702821e+10</td>\n",
              "      <td>16.16</td>\n",
              "      <td>10</td>\n",
              "      <td>2019</td>\n",
              "      <td>1</td>\n",
              "    </tr>\n",
              "    <tr>\n",
              "      <th>154</th>\n",
              "      <td>13</td>\n",
              "      <td>846227</td>\n",
              "      <td>2.702821e+10</td>\n",
              "      <td>16.16</td>\n",
              "      <td>11</td>\n",
              "      <td>2019</td>\n",
              "      <td>1</td>\n",
              "    </tr>\n",
              "    <tr>\n",
              "      <th>155</th>\n",
              "      <td>13</td>\n",
              "      <td>796166</td>\n",
              "      <td>2.702821e+10</td>\n",
              "      <td>16.16</td>\n",
              "      <td>12</td>\n",
              "      <td>2019</td>\n",
              "      <td>1</td>\n",
              "    </tr>\n",
              "  </tbody>\n",
              "</table>\n",
              "<p>156 rows × 7 columns</p>\n",
              "</div>"
            ],
            "text/plain": [
              "     number_koridor  jumlah_penumpang  Revenue_month  ...  Bulan  Tahun  Cluster\n",
              "0                 1           2223257   9.395057e+10  ...      1   2019        4\n",
              "1                 1           1992685   9.395057e+10  ...      2   2019        4\n",
              "2                 1           2334201   9.395057e+10  ...      3   2019        4\n",
              "3                 1           2207527   9.395057e+10  ...      4   2019        4\n",
              "4                 1           2031443   9.395057e+10  ...      5   2019        4\n",
              "..              ...               ...            ...  ...    ...    ...      ...\n",
              "151              13            754331   2.702821e+10  ...      8   2019        1\n",
              "152              13            783995   2.702821e+10  ...      9   2019        1\n",
              "153              13            783995   2.702821e+10  ...     10   2019        1\n",
              "154              13            846227   2.702821e+10  ...     11   2019        1\n",
              "155              13            796166   2.702821e+10  ...     12   2019        1\n",
              "\n",
              "[156 rows x 7 columns]"
            ]
          },
          "metadata": {},
          "execution_count": 82
        }
      ]
    },
    {
      "cell_type": "code",
      "metadata": {
        "colab": {
          "base_uri": "https://localhost:8080/",
          "height": 294
        },
        "id": "BE5QDwbInL43",
        "outputId": "0ac5529d-f632-4afa-d5bf-2db3c5560479"
      },
      "source": [
        "data_cluster_2019.describe()"
      ],
      "execution_count": null,
      "outputs": [
        {
          "output_type": "execute_result",
          "data": {
            "text/html": [
              "<div>\n",
              "<style scoped>\n",
              "    .dataframe tbody tr th:only-of-type {\n",
              "        vertical-align: middle;\n",
              "    }\n",
              "\n",
              "    .dataframe tbody tr th {\n",
              "        vertical-align: top;\n",
              "    }\n",
              "\n",
              "    .dataframe thead th {\n",
              "        text-align: right;\n",
              "    }\n",
              "</style>\n",
              "<table border=\"1\" class=\"dataframe\">\n",
              "  <thead>\n",
              "    <tr style=\"text-align: right;\">\n",
              "      <th></th>\n",
              "      <th>number_koridor</th>\n",
              "      <th>jumlah_penumpang</th>\n",
              "      <th>Revenue_month</th>\n",
              "      <th>panjang_lintasan_km</th>\n",
              "      <th>Bulan</th>\n",
              "      <th>Tahun</th>\n",
              "      <th>Cluster</th>\n",
              "    </tr>\n",
              "  </thead>\n",
              "  <tbody>\n",
              "    <tr>\n",
              "      <th>count</th>\n",
              "      <td>156.000000</td>\n",
              "      <td>1.560000e+02</td>\n",
              "      <td>1.560000e+02</td>\n",
              "      <td>156.000000</td>\n",
              "      <td>156.00000</td>\n",
              "      <td>156.0</td>\n",
              "      <td>156.000000</td>\n",
              "    </tr>\n",
              "    <tr>\n",
              "      <th>mean</th>\n",
              "      <td>7.000000</td>\n",
              "      <td>9.529197e+05</td>\n",
              "      <td>3.680959e+10</td>\n",
              "      <td>17.004615</td>\n",
              "      <td>6.50000</td>\n",
              "      <td>2019.0</td>\n",
              "      <td>1.538462</td>\n",
              "    </tr>\n",
              "    <tr>\n",
              "      <th>std</th>\n",
              "      <td>3.753708</td>\n",
              "      <td>5.121887e+05</td>\n",
              "      <td>2.024105e+10</td>\n",
              "      <td>5.178506</td>\n",
              "      <td>3.46317</td>\n",
              "      <td>0.0</td>\n",
              "      <td>1.085890</td>\n",
              "    </tr>\n",
              "    <tr>\n",
              "      <th>min</th>\n",
              "      <td>1.000000</td>\n",
              "      <td>1.893210e+05</td>\n",
              "      <td>9.371416e+09</td>\n",
              "      <td>11.350000</td>\n",
              "      <td>1.00000</td>\n",
              "      <td>2019.0</td>\n",
              "      <td>0.000000</td>\n",
              "    </tr>\n",
              "    <tr>\n",
              "      <th>25%</th>\n",
              "      <td>4.000000</td>\n",
              "      <td>7.152118e+05</td>\n",
              "      <td>2.945549e+10</td>\n",
              "      <td>12.900000</td>\n",
              "      <td>3.75000</td>\n",
              "      <td>2019.0</td>\n",
              "      <td>1.000000</td>\n",
              "    </tr>\n",
              "    <tr>\n",
              "      <th>50%</th>\n",
              "      <td>7.000000</td>\n",
              "      <td>8.993095e+05</td>\n",
              "      <td>3.437960e+10</td>\n",
              "      <td>15.500000</td>\n",
              "      <td>6.50000</td>\n",
              "      <td>2019.0</td>\n",
              "      <td>1.000000</td>\n",
              "    </tr>\n",
              "    <tr>\n",
              "      <th>75%</th>\n",
              "      <td>10.000000</td>\n",
              "      <td>1.087810e+06</td>\n",
              "      <td>3.982601e+10</td>\n",
              "      <td>18.700000</td>\n",
              "      <td>9.25000</td>\n",
              "      <td>2019.0</td>\n",
              "      <td>2.000000</td>\n",
              "    </tr>\n",
              "    <tr>\n",
              "      <th>max</th>\n",
              "      <td>13.000000</td>\n",
              "      <td>2.686458e+06</td>\n",
              "      <td>9.395057e+10</td>\n",
              "      <td>28.450000</td>\n",
              "      <td>12.00000</td>\n",
              "      <td>2019.0</td>\n",
              "      <td>4.000000</td>\n",
              "    </tr>\n",
              "  </tbody>\n",
              "</table>\n",
              "</div>"
            ],
            "text/plain": [
              "       number_koridor  jumlah_penumpang  ...   Tahun     Cluster\n",
              "count      156.000000      1.560000e+02  ...   156.0  156.000000\n",
              "mean         7.000000      9.529197e+05  ...  2019.0    1.538462\n",
              "std          3.753708      5.121887e+05  ...     0.0    1.085890\n",
              "min          1.000000      1.893210e+05  ...  2019.0    0.000000\n",
              "25%          4.000000      7.152118e+05  ...  2019.0    1.000000\n",
              "50%          7.000000      8.993095e+05  ...  2019.0    1.000000\n",
              "75%         10.000000      1.087810e+06  ...  2019.0    2.000000\n",
              "max         13.000000      2.686458e+06  ...  2019.0    4.000000\n",
              "\n",
              "[8 rows x 7 columns]"
            ]
          },
          "metadata": {},
          "execution_count": 83
        }
      ]
    },
    {
      "cell_type": "code",
      "metadata": {
        "id": "0sH1QydLW-Ye"
      },
      "source": [
        "total_data_2019 = data_cluster_2019.groupby(['Cluster']).agg({'jumlah_penumpang':'mean','Revenue_month':'mean','panjang_lintasan_km':'unique','number_koridor':'unique','Bulan':'unique'}).reset_index()"
      ],
      "execution_count": null,
      "outputs": []
    },
    {
      "cell_type": "code",
      "metadata": {
        "colab": {
          "base_uri": "https://localhost:8080/",
          "height": 202
        },
        "id": "FD-O4ErIcQua",
        "outputId": "e5db508e-bd6d-440c-f08a-8ce4ab336f90"
      },
      "source": [
        "total_data_2019"
      ],
      "execution_count": null,
      "outputs": [
        {
          "output_type": "execute_result",
          "data": {
            "text/html": [
              "<div>\n",
              "<style scoped>\n",
              "    .dataframe tbody tr th:only-of-type {\n",
              "        vertical-align: middle;\n",
              "    }\n",
              "\n",
              "    .dataframe tbody tr th {\n",
              "        vertical-align: top;\n",
              "    }\n",
              "\n",
              "    .dataframe thead th {\n",
              "        text-align: right;\n",
              "    }\n",
              "</style>\n",
              "<table border=\"1\" class=\"dataframe\">\n",
              "  <thead>\n",
              "    <tr style=\"text-align: right;\">\n",
              "      <th></th>\n",
              "      <th>Cluster</th>\n",
              "      <th>jumlah_penumpang</th>\n",
              "      <th>Revenue_month</th>\n",
              "      <th>panjang_lintasan_km</th>\n",
              "      <th>number_koridor</th>\n",
              "      <th>Bulan</th>\n",
              "    </tr>\n",
              "  </thead>\n",
              "  <tbody>\n",
              "    <tr>\n",
              "      <th>0</th>\n",
              "      <td>0</td>\n",
              "      <td>2.435026e+05</td>\n",
              "      <td>9.371416e+09</td>\n",
              "      <td>[23.75]</td>\n",
              "      <td>[12]</td>\n",
              "      <td>[1, 2, 3, 4, 5, 6, 7, 8, 9, 10, 11, 12]</td>\n",
              "    </tr>\n",
              "    <tr>\n",
              "      <th>1</th>\n",
              "      <td>1</td>\n",
              "      <td>8.799725e+05</td>\n",
              "      <td>3.360760e+10</td>\n",
              "      <td>[14.3, 18.7, 11.85, 15.5, 13.3, 12.8, 18.0, 16...</td>\n",
              "      <td>[2, 3, 4, 5, 6, 7, 10, 13]</td>\n",
              "      <td>[1, 2, 3, 4, 5, 6, 7, 8, 9, 10, 11, 12]</td>\n",
              "    </tr>\n",
              "    <tr>\n",
              "      <th>2</th>\n",
              "      <td>2</td>\n",
              "      <td>3.054181e+05</td>\n",
              "      <td>1.103206e+10</td>\n",
              "      <td>[11.35]</td>\n",
              "      <td>[11]</td>\n",
              "      <td>[1, 2, 3, 4, 5, 6, 7, 8, 9, 10, 11, 12]</td>\n",
              "    </tr>\n",
              "    <tr>\n",
              "      <th>3</th>\n",
              "      <td>3</td>\n",
              "      <td>1.229457e+06</td>\n",
              "      <td>4.765490e+10</td>\n",
              "      <td>[24.0, 28.45]</td>\n",
              "      <td>[8, 9]</td>\n",
              "      <td>[1, 2, 3, 4, 5, 6, 7, 8, 9, 10, 11, 12]</td>\n",
              "    </tr>\n",
              "    <tr>\n",
              "      <th>4</th>\n",
              "      <td>4</td>\n",
              "      <td>2.340342e+06</td>\n",
              "      <td>9.395057e+10</td>\n",
              "      <td>[12.9]</td>\n",
              "      <td>[1]</td>\n",
              "      <td>[1, 2, 3, 4, 5, 6, 7, 8, 9, 10, 11, 12]</td>\n",
              "    </tr>\n",
              "  </tbody>\n",
              "</table>\n",
              "</div>"
            ],
            "text/plain": [
              "   Cluster  ...                                    Bulan\n",
              "0        0  ...  [1, 2, 3, 4, 5, 6, 7, 8, 9, 10, 11, 12]\n",
              "1        1  ...  [1, 2, 3, 4, 5, 6, 7, 8, 9, 10, 11, 12]\n",
              "2        2  ...  [1, 2, 3, 4, 5, 6, 7, 8, 9, 10, 11, 12]\n",
              "3        3  ...  [1, 2, 3, 4, 5, 6, 7, 8, 9, 10, 11, 12]\n",
              "4        4  ...  [1, 2, 3, 4, 5, 6, 7, 8, 9, 10, 11, 12]\n",
              "\n",
              "[5 rows x 6 columns]"
            ]
          },
          "metadata": {},
          "execution_count": 85
        }
      ]
    },
    {
      "cell_type": "markdown",
      "metadata": {
        "id": "jeauSYwi_mGM"
      },
      "source": [
        "ketentuan : \n",
        "Penyesuaian tarif berdasarkan percentile jumlah penumpang\n",
        "\n",
        "Percentile 1 = 1000 # untuk 5 km pertama\n",
        "\n",
        "percentile 2 = 2000 #untuk 5 km kedua\n",
        "\n",
        "percentile 3 = 3000 # untuk 5 km berikutnya\n"
      ]
    },
    {
      "cell_type": "code",
      "metadata": {
        "colab": {
          "base_uri": "https://localhost:8080/"
        },
        "id": "oQSdryIeB1Jf",
        "outputId": "17a5f4fe-bbf8-4591-f110-2821964d1773"
      },
      "source": [
        "#Menemukan jumlah penumpang yang berada pada lintasan lebih dari 13 km.\n",
        "asal = data_cluster_2019[data_cluster_2019['Cluster']==1]\n",
        "usul = asal[asal['panjang_lintasan_km'] >= 13]\n",
        "jumlah_penumpang_aja = usul['jumlah_penumpang'].sum()\n",
        "jumlah_penumpang_aja"
      ],
      "execution_count": null,
      "outputs": [
        {
          "output_type": "execute_result",
          "data": {
            "text/plain": [
              "63926523"
            ]
          },
          "metadata": {},
          "execution_count": 86
        }
      ]
    },
    {
      "cell_type": "code",
      "metadata": {
        "id": "VdHSC0C1w5HP"
      },
      "source": [
        "cost_cluster_0 = 2.435026e+05 * (3500 + 2000) #karena panjang lintasannya 10 km\n",
        "cost_cluster_1 = 63926523 * (3500 + 1000) #\n",
        "cost_cluster_2 = 3.054181e+05 * 3500\n",
        "cost_cluster_3 = 1.229457e+06 * (3500 + 3000) # Panjang lintasannya 15 km berikutnya\n",
        "cost_cluster_4 = 2.340342e+06 * 3500"
      ],
      "execution_count": null,
      "outputs": []
    },
    {
      "cell_type": "code",
      "metadata": {
        "colab": {
          "base_uri": "https://localhost:8080/",
          "height": 202
        },
        "id": "BblcrpTrAjMa",
        "outputId": "8db21134-0423-491c-873d-06cc8513963c"
      },
      "source": [
        "df_cost_2019 = pd.DataFrame([cost_cluster_0,cost_cluster_1,cost_cluster_2,cost_cluster_3,cost_cluster_4],columns=['Hasil Penyesuaian Tarif']).reset_index()\n",
        "df_cost_2019"
      ],
      "execution_count": null,
      "outputs": [
        {
          "output_type": "execute_result",
          "data": {
            "text/html": [
              "<div>\n",
              "<style scoped>\n",
              "    .dataframe tbody tr th:only-of-type {\n",
              "        vertical-align: middle;\n",
              "    }\n",
              "\n",
              "    .dataframe tbody tr th {\n",
              "        vertical-align: top;\n",
              "    }\n",
              "\n",
              "    .dataframe thead th {\n",
              "        text-align: right;\n",
              "    }\n",
              "</style>\n",
              "<table border=\"1\" class=\"dataframe\">\n",
              "  <thead>\n",
              "    <tr style=\"text-align: right;\">\n",
              "      <th></th>\n",
              "      <th>index</th>\n",
              "      <th>Hasil Penyesuaian Tarif</th>\n",
              "    </tr>\n",
              "  </thead>\n",
              "  <tbody>\n",
              "    <tr>\n",
              "      <th>0</th>\n",
              "      <td>0</td>\n",
              "      <td>1.339264e+09</td>\n",
              "    </tr>\n",
              "    <tr>\n",
              "      <th>1</th>\n",
              "      <td>1</td>\n",
              "      <td>2.876694e+11</td>\n",
              "    </tr>\n",
              "    <tr>\n",
              "      <th>2</th>\n",
              "      <td>2</td>\n",
              "      <td>1.068963e+09</td>\n",
              "    </tr>\n",
              "    <tr>\n",
              "      <th>3</th>\n",
              "      <td>3</td>\n",
              "      <td>7.991470e+09</td>\n",
              "    </tr>\n",
              "    <tr>\n",
              "      <th>4</th>\n",
              "      <td>4</td>\n",
              "      <td>8.191197e+09</td>\n",
              "    </tr>\n",
              "  </tbody>\n",
              "</table>\n",
              "</div>"
            ],
            "text/plain": [
              "   index  Hasil Penyesuaian Tarif\n",
              "0      0             1.339264e+09\n",
              "1      1             2.876694e+11\n",
              "2      2             1.068963e+09\n",
              "3      3             7.991470e+09\n",
              "4      4             8.191197e+09"
            ]
          },
          "metadata": {},
          "execution_count": 88
        }
      ]
    },
    {
      "cell_type": "code",
      "metadata": {
        "colab": {
          "base_uri": "https://localhost:8080/"
        },
        "id": "l50n8IhwD1De",
        "outputId": "0943ec5e-f03e-461d-8116-182a5d1f04cf"
      },
      "source": [
        "tarif_normal = (2.435026e+05 + 63926523 + 3.054181e+05 + 1.229457e+06 +2.340342e+06) * 3500\n",
        "tarif_normal"
      ],
      "execution_count": null,
      "outputs": [
        {
          "output_type": "execute_result",
          "data": {
            "text/plain": [
              "238158349450.0"
            ]
          },
          "metadata": {},
          "execution_count": 89
        }
      ]
    },
    {
      "cell_type": "code",
      "metadata": {
        "colab": {
          "base_uri": "https://localhost:8080/"
        },
        "id": "qi1HqA7qEX6b",
        "outputId": "4eff9ed0-5b22-4af6-b736-09a48d4dd83f"
      },
      "source": [
        "# Keuntungan yang akan didapatkan\n",
        "profit_2019 = df_cost_2019['Hasil Penyesuaian Tarif'].sum()-tarif_normal\n",
        "profit_2019"
      ],
      "execution_count": null,
      "outputs": [
        {
          "output_type": "execute_result",
          "data": {
            "text/plain": [
              "68101899200.0"
            ]
          },
          "metadata": {},
          "execution_count": 90
        }
      ]
    },
    {
      "cell_type": "markdown",
      "metadata": {
        "id": "rNqNVzgmtPZa"
      },
      "source": [
        "### Tahun 2020"
      ]
    },
    {
      "cell_type": "code",
      "metadata": {
        "colab": {
          "base_uri": "https://localhost:8080/",
          "height": 171
        },
        "id": "jsaixfwIW-Qu",
        "outputId": "2ea1cad6-efd5-4ac3-fbb4-65e154d6dbff"
      },
      "source": [
        "data_cluster_2020 = data_modeling[data_modeling['Tahun']==2020]\n",
        "total_data_2020 = data_cluster_2020.groupby(['Cluster']).agg({'jumlah_penumpang':'mean','Revenue_month':'mean','Bulan':'unique','panjang_lintasan_km':'unique','number_koridor':'unique'}).reset_index()\n",
        "total_data_2020"
      ],
      "execution_count": null,
      "outputs": [
        {
          "output_type": "execute_result",
          "data": {
            "text/html": [
              "<div>\n",
              "<style scoped>\n",
              "    .dataframe tbody tr th:only-of-type {\n",
              "        vertical-align: middle;\n",
              "    }\n",
              "\n",
              "    .dataframe tbody tr th {\n",
              "        vertical-align: top;\n",
              "    }\n",
              "\n",
              "    .dataframe thead th {\n",
              "        text-align: right;\n",
              "    }\n",
              "</style>\n",
              "<table border=\"1\" class=\"dataframe\">\n",
              "  <thead>\n",
              "    <tr style=\"text-align: right;\">\n",
              "      <th></th>\n",
              "      <th>Cluster</th>\n",
              "      <th>jumlah_penumpang</th>\n",
              "      <th>Revenue_month</th>\n",
              "      <th>Bulan</th>\n",
              "      <th>panjang_lintasan_km</th>\n",
              "      <th>number_koridor</th>\n",
              "    </tr>\n",
              "  </thead>\n",
              "  <tbody>\n",
              "    <tr>\n",
              "      <th>0</th>\n",
              "      <td>0</td>\n",
              "      <td>4.249171e+05</td>\n",
              "      <td>1.361738e+09</td>\n",
              "      <td>[2, 6, 7, 5, 11, 10]</td>\n",
              "      <td>[24.0, 28.45, 23.75]</td>\n",
              "      <td>[8, 9, 12]</td>\n",
              "    </tr>\n",
              "    <tr>\n",
              "      <th>1</th>\n",
              "      <td>1</td>\n",
              "      <td>2.406938e+06</td>\n",
              "      <td>8.013839e+09</td>\n",
              "      <td>[2]</td>\n",
              "      <td>[12.9]</td>\n",
              "      <td>[1]</td>\n",
              "    </tr>\n",
              "    <tr>\n",
              "      <th>2</th>\n",
              "      <td>2</td>\n",
              "      <td>4.151973e+05</td>\n",
              "      <td>1.300943e+09</td>\n",
              "      <td>[6, 7, 5, 11, 10, 2]</td>\n",
              "      <td>[12.9, 14.3, 18.7, 11.85, 15.5, 13.3, 12.8, 18...</td>\n",
              "      <td>[1, 2, 3, 4, 5, 6, 7, 10, 11, 13]</td>\n",
              "    </tr>\n",
              "    <tr>\n",
              "      <th>3</th>\n",
              "      <td>3</td>\n",
              "      <td>1.577635e+06</td>\n",
              "      <td>5.031621e+09</td>\n",
              "      <td>[2]</td>\n",
              "      <td>[28.45]</td>\n",
              "      <td>[9]</td>\n",
              "    </tr>\n",
              "  </tbody>\n",
              "</table>\n",
              "</div>"
            ],
            "text/plain": [
              "   Cluster  ...                     number_koridor\n",
              "0        0  ...                         [8, 9, 12]\n",
              "1        1  ...                                [1]\n",
              "2        2  ...  [1, 2, 3, 4, 5, 6, 7, 10, 11, 13]\n",
              "3        3  ...                                [9]\n",
              "\n",
              "[4 rows x 6 columns]"
            ]
          },
          "metadata": {},
          "execution_count": 91
        }
      ]
    },
    {
      "cell_type": "code",
      "metadata": {
        "colab": {
          "base_uri": "https://localhost:8080/"
        },
        "id": "0tSwLkkzFZkT",
        "outputId": "b1151b89-3d46-4a18-bc5e-678efee09b99"
      },
      "source": [
        "#Menemukan jumlah penumpang yang berada pada lintasan lebih dari 13 km.\n",
        "asal_20 = data_cluster_2020[data_cluster_2020['Cluster']==2]\n",
        "usul_20 = asal_20[asal_20['panjang_lintasan_km'] >= 13]\n",
        "jumlah_penumpang_aja_20 = usul_20['jumlah_penumpang'].sum()\n",
        "jumlah_penumpang_aja_20"
      ],
      "execution_count": null,
      "outputs": [
        {
          "output_type": "execute_result",
          "data": {
            "text/plain": [
              "14815437"
            ]
          },
          "metadata": {},
          "execution_count": 92
        }
      ]
    },
    {
      "cell_type": "code",
      "metadata": {
        "id": "1LCoD0v5FZbo"
      },
      "source": [
        "cost_cluster_0_20 = 4.249171e+05 * (3500 + 2000) #karena panjang lintasannya 10 km\n",
        "cost_cluster_1_20 = 2.406938e+06 * 3500\n",
        "cost_cluster_2_20 = 14815437 * (3500 + 1000)\n",
        "cost_cluster_3_20= 1.577635e+06 * (3500 + 3000) # Panjang lintasannya 15 km berikutnya"
      ],
      "execution_count": null,
      "outputs": []
    },
    {
      "cell_type": "code",
      "metadata": {
        "colab": {
          "base_uri": "https://localhost:8080/",
          "height": 171
        },
        "id": "3CKR_ucxGtCI",
        "outputId": "2a8bb8a5-8440-4ed8-f831-7ca7766a260e"
      },
      "source": [
        "df_cost_2020 = pd.DataFrame([cost_cluster_0_20,cost_cluster_1_20,cost_cluster_2_20,cost_cluster_3_20],columns=['Hasil Penyesuaian Tarif']).reset_index()\n",
        "df_cost_2020"
      ],
      "execution_count": null,
      "outputs": [
        {
          "output_type": "execute_result",
          "data": {
            "text/html": [
              "<div>\n",
              "<style scoped>\n",
              "    .dataframe tbody tr th:only-of-type {\n",
              "        vertical-align: middle;\n",
              "    }\n",
              "\n",
              "    .dataframe tbody tr th {\n",
              "        vertical-align: top;\n",
              "    }\n",
              "\n",
              "    .dataframe thead th {\n",
              "        text-align: right;\n",
              "    }\n",
              "</style>\n",
              "<table border=\"1\" class=\"dataframe\">\n",
              "  <thead>\n",
              "    <tr style=\"text-align: right;\">\n",
              "      <th></th>\n",
              "      <th>index</th>\n",
              "      <th>Hasil Penyesuaian Tarif</th>\n",
              "    </tr>\n",
              "  </thead>\n",
              "  <tbody>\n",
              "    <tr>\n",
              "      <th>0</th>\n",
              "      <td>0</td>\n",
              "      <td>2.337044e+09</td>\n",
              "    </tr>\n",
              "    <tr>\n",
              "      <th>1</th>\n",
              "      <td>1</td>\n",
              "      <td>8.424283e+09</td>\n",
              "    </tr>\n",
              "    <tr>\n",
              "      <th>2</th>\n",
              "      <td>2</td>\n",
              "      <td>6.666947e+10</td>\n",
              "    </tr>\n",
              "    <tr>\n",
              "      <th>3</th>\n",
              "      <td>3</td>\n",
              "      <td>1.025463e+10</td>\n",
              "    </tr>\n",
              "  </tbody>\n",
              "</table>\n",
              "</div>"
            ],
            "text/plain": [
              "   index  Hasil Penyesuaian Tarif\n",
              "0      0             2.337044e+09\n",
              "1      1             8.424283e+09\n",
              "2      2             6.666947e+10\n",
              "3      3             1.025463e+10"
            ]
          },
          "metadata": {},
          "execution_count": 94
        }
      ]
    },
    {
      "cell_type": "code",
      "metadata": {
        "colab": {
          "base_uri": "https://localhost:8080/"
        },
        "id": "qtT2k-5hGs_k",
        "outputId": "59a398b4-6d6c-4fc8-b5a0-9207138d047a"
      },
      "source": [
        "tarif_normal_20 = (4.249171e+05 + 63926523 + 14815437 + 1.229457e+06) * 3500\n",
        "tarif_normal_20"
      ],
      "execution_count": null,
      "outputs": [
        {
          "output_type": "execute_result",
          "data": {
            "text/plain": [
              "281387169350.0"
            ]
          },
          "metadata": {},
          "execution_count": 95
        }
      ]
    },
    {
      "cell_type": "code",
      "metadata": {
        "colab": {
          "base_uri": "https://localhost:8080/"
        },
        "id": "btYTWYFhGs8h",
        "outputId": "466070cf-73d5-45ef-db46-5b6c947e5b3a"
      },
      "source": [
        "# Keuntungan yang akan didapatkan\n",
        "profit_2020 = df_cost_2020['Hasil Penyesuaian Tarif'].sum()-tarif_normal_20\n",
        "percentage_profit_20 = (df_cost_2020['Hasil Penyesuaian Tarif']/profit_2020)*100\n",
        "percentage_profit_20"
      ],
      "execution_count": null,
      "outputs": [
        {
          "output_type": "execute_result",
          "data": {
            "text/plain": [
              "0    -1.206517\n",
              "1    -4.349100\n",
              "2   -34.418619\n",
              "3    -5.294029\n",
              "Name: Hasil Penyesuaian Tarif, dtype: float64"
            ]
          },
          "metadata": {},
          "execution_count": 96
        }
      ]
    },
    {
      "cell_type": "code",
      "metadata": {
        "id": "56Q-FnkuN4cf",
        "colab": {
          "base_uri": "https://localhost:8080/"
        },
        "outputId": "48ff9d3d-c29d-42d6-c224-1fe4346921f5"
      },
      "source": [
        "profit_2020"
      ],
      "execution_count": null,
      "outputs": [
        {
          "output_type": "execute_result",
          "data": {
            "text/plain": [
              "-193701748300.0"
            ]
          },
          "metadata": {},
          "execution_count": 97
        }
      ]
    },
    {
      "cell_type": "markdown",
      "metadata": {
        "id": "ohc1QiS1W5VB"
      },
      "source": [
        "# Main Code"
      ]
    },
    {
      "cell_type": "code",
      "metadata": {
        "colab": {
          "base_uri": "https://localhost:8080/",
          "height": 536
        },
        "id": "Sp4CnZvHU9Rv",
        "outputId": "12b5d820-7439-48d9-f1ec-2f63f3538e8c"
      },
      "source": [
        "import matplotlib.pyplot as plt\n",
        "\n",
        "plt.figure(figsize=(10,8))\n",
        "ax = sns.barplot(data=perbandingan_hasil,x='Cluster',y='Persentase')\n",
        "\n",
        "for i in ax.patches:\n",
        "    ax.annotate(str(i.get_height()) + ' %',(i.get_x(),i.get_height()),weight='bold',color='blue',fontsize=12)\n",
        "\n",
        "plt.title('Keuntungan Setelah Rekomendasi Tarif',fontsize=18,fontweight='bold')\n",
        "plt.ylabel('Profit', fontsize=15)\n",
        "plt.xlabel('Cluster', fontsize=15)"
      ],
      "execution_count": null,
      "outputs": [
        {
          "output_type": "execute_result",
          "data": {
            "text/plain": [
              "Text(0.5, 0, 'Cluster')"
            ]
          },
          "metadata": {},
          "execution_count": 105
        },
        {
          "output_type": "display_data",
          "data": {
            "image/png": "[encoded data removed]",
            "text/plain": [
              "<Figure size 720x576 with 1 Axes>"
            ]
          },
          "metadata": {
            "needs_background": "light"
          }
        }
      ]
    }
  ]
}